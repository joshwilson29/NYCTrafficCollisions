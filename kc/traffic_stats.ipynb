{
 "cells": [
  {
   "cell_type": "code",
   "execution_count": 5,
   "metadata": {},
   "outputs": [
    {
     "name": "stderr",
     "output_type": "stream",
     "text": [
      "/home/kchuangk/.pyenv/lib/python3.6/site-packages/sklearn/externals/six.py:31: DeprecationWarning: The module is deprecated in version 0.21 and will be removed in version 0.23 since we've dropped support for Python 2.7. Please rely on the official version of six (https://pypi.org/project/six/).\n",
      "  \"(https://pypi.org/project/six/).\", DeprecationWarning)\n",
      "/home/kchuangk/.pyenv/lib/python3.6/site-packages/sklearn/externals/joblib/__init__.py:15: DeprecationWarning: sklearn.externals.joblib is deprecated in 0.21 and will be removed in 0.23. Please import this functionality directly from joblib, which can be installed with: pip install joblib. If this warning is raised when loading pickled models, you may need to re-serialize those models with scikit-learn 0.21+.\n",
      "  warnings.warn(msg, category=DeprecationWarning)\n"
     ]
    }
   ],
   "source": [
    "from importlib import reload\n",
    "import kc_functions as kc"
   ]
  },
  {
   "cell_type": "code",
   "execution_count": 7,
   "metadata": {},
   "outputs": [],
   "source": [
    "# df=pd.read_csv('data/2014/accident.csv')"
   ]
  },
  {
   "cell_type": "code",
   "execution_count": 8,
   "metadata": {},
   "outputs": [],
   "source": [
    "# df.info()"
   ]
  },
  {
   "cell_type": "code",
   "execution_count": 4,
   "metadata": {},
   "outputs": [],
   "source": [
    "# def getDistFromRow(dftmp,loc):\n",
    "#     location=['LONGITUD','LATITUDE']\n",
    "#     return np.linalg.norm(dftmp.loc[:,location]-loc,axis=1)\n",
    "# \n",
    "# def LookupLocations(state,county,city,dflookup):\n",
    "#     if dflookup is None:\n",
    "#         dflookup=pd.read_csv(basefile,sep='|')\n",
    "#     return dflookup.loc[(dflookup.STATE_NUMERIC==state) & (dflookup.COUNTY_NUMERIC==county),['PRIM_LONG_DEC','PRIM_LAT_DEC']].median()\n",
    "# def fillLocations(dftmp,basefile='data/NationalFile_20190501.txt'):\n",
    "#     dflup=pd.read_csv(basefile,sep='|')\n",
    "#     state=dftmp.columns.tolist('STATE')\n",
    "#     county=dftmp.columns.tolist('COUNTY')\n",
    "#     city=dftmp.columns.tolist('CITY')\n",
    "#     for i,v in dftmp.loc[(dftmp.LATITUDE>=99) & (dftmp.LONGITUD>=999),:].iterrows():\n",
    "#         loc=LookupLocations(state,county,city,dflup)"
   ]
  },
  {
   "cell_type": "markdown",
   "metadata": {},
   "source": [
    "### Binarize, cluster, and test for significance example - workflow"
   ]
  },
  {
   "cell_type": "code",
   "execution_count": 25,
   "metadata": {},
   "outputs": [],
   "source": [
    "reload(kc)\n",
    "\n",
    "df=kc.getalldata()\n",
    "# need to add a merge to figure out how to merge sub-tables together into 1 row\n",
    "df=kc.removeNoHourAndMinutes(df)\n",
    "df=kc.createTimestamp(df)\n",
    "df=kc.removeUnneededColumns(df)\n",
    "df=kc.cleanLocs(df)"
   ]
  },
  {
   "cell_type": "code",
   "execution_count": 64,
   "metadata": {},
   "outputs": [
    {
     "data": {
      "text/html": [
       "<div>\n",
       "<style scoped>\n",
       "    .dataframe tbody tr th:only-of-type {\n",
       "        vertical-align: middle;\n",
       "    }\n",
       "\n",
       "    .dataframe tbody tr th {\n",
       "        vertical-align: top;\n",
       "    }\n",
       "\n",
       "    .dataframe thead th {\n",
       "        text-align: right;\n",
       "    }\n",
       "</style>\n",
       "<table border=\"1\" class=\"dataframe\">\n",
       "  <thead>\n",
       "    <tr style=\"text-align: right;\">\n",
       "      <th></th>\n",
       "      <th>variable</th>\n",
       "      <th>percent</th>\n",
       "    </tr>\n",
       "  </thead>\n",
       "  <tbody>\n",
       "    <tr>\n",
       "      <th>0</th>\n",
       "      <td>state</td>\n",
       "      <td>0.394148</td>\n",
       "    </tr>\n",
       "    <tr>\n",
       "      <th>1</th>\n",
       "      <td>county</td>\n",
       "      <td>0.141392</td>\n",
       "    </tr>\n",
       "    <tr>\n",
       "      <th>2</th>\n",
       "      <td>city</td>\n",
       "      <td>0.539595</td>\n",
       "    </tr>\n",
       "    <tr>\n",
       "      <th>3</th>\n",
       "      <td>peds</td>\n",
       "      <td>0.999700</td>\n",
       "    </tr>\n",
       "    <tr>\n",
       "      <th>4</th>\n",
       "      <td>route</td>\n",
       "      <td>0.950530</td>\n",
       "    </tr>\n",
       "    <tr>\n",
       "      <th>5</th>\n",
       "      <td>harm_ev</td>\n",
       "      <td>0.760884</td>\n",
       "    </tr>\n",
       "    <tr>\n",
       "      <th>6</th>\n",
       "      <td>man_coll</td>\n",
       "      <td>0.994230</td>\n",
       "    </tr>\n",
       "    <tr>\n",
       "      <th>7</th>\n",
       "      <td>reljct2</td>\n",
       "      <td>0.977835</td>\n",
       "    </tr>\n",
       "    <tr>\n",
       "      <th>8</th>\n",
       "      <td>typ_int</td>\n",
       "      <td>0.998123</td>\n",
       "    </tr>\n",
       "    <tr>\n",
       "      <th>9</th>\n",
       "      <td>lgt_cond</td>\n",
       "      <td>0.996607</td>\n",
       "    </tr>\n",
       "    <tr>\n",
       "      <th>10</th>\n",
       "      <td>weather</td>\n",
       "      <td>0.989498</td>\n",
       "    </tr>\n",
       "    <tr>\n",
       "      <th>11</th>\n",
       "      <td>cf1</td>\n",
       "      <td>0.982028</td>\n",
       "    </tr>\n",
       "    <tr>\n",
       "      <th>12</th>\n",
       "      <td>drunk_dr</td>\n",
       "      <td>1.000000</td>\n",
       "    </tr>\n",
       "  </tbody>\n",
       "</table>\n",
       "</div>"
      ],
      "text/plain": [
       "    variable   percent\n",
       "0      state  0.394148\n",
       "1     county  0.141392\n",
       "2       city  0.539595\n",
       "3       peds  0.999700\n",
       "4      route  0.950530\n",
       "5    harm_ev  0.760884\n",
       "6   man_coll  0.994230\n",
       "7    reljct2  0.977835\n",
       "8    typ_int  0.998123\n",
       "9   lgt_cond  0.996607\n",
       "10   weather  0.989498\n",
       "11       cf1  0.982028\n",
       "12  drunk_dr  1.000000"
      ]
     },
     "execution_count": 64,
     "metadata": {},
     "output_type": "execute_result"
    }
   ],
   "source": [
    "#kc.calculateTopNCatPct(df)\n",
    "reload(kc)\n",
    "kc.calculateTopNCatPct(df)"
   ]
  },
  {
   "cell_type": "code",
   "execution_count": null,
   "metadata": {},
   "outputs": [],
   "source": []
  },
  {
   "cell_type": "code",
   "execution_count": 66,
   "metadata": {},
   "outputs": [
    {
     "data": {
      "text/html": [
       "<div>\n",
       "<style scoped>\n",
       "    .dataframe tbody tr th:only-of-type {\n",
       "        vertical-align: middle;\n",
       "    }\n",
       "\n",
       "    .dataframe tbody tr th {\n",
       "        vertical-align: top;\n",
       "    }\n",
       "\n",
       "    .dataframe thead th {\n",
       "        text-align: right;\n",
       "    }\n",
       "</style>\n",
       "<table border=\"1\" class=\"dataframe\">\n",
       "  <thead>\n",
       "    <tr style=\"text-align: right;\">\n",
       "      <th></th>\n",
       "      <th>0</th>\n",
       "      <th>1</th>\n",
       "      <th>2</th>\n",
       "      <th>3</th>\n",
       "      <th>4</th>\n",
       "    </tr>\n",
       "  </thead>\n",
       "  <tbody>\n",
       "    <tr>\n",
       "      <th>latitude</th>\n",
       "      <td>34.6237</td>\n",
       "      <td>34.3974</td>\n",
       "      <td>33.1972</td>\n",
       "      <td>33.1964</td>\n",
       "      <td>34.1802</td>\n",
       "    </tr>\n",
       "    <tr>\n",
       "      <th>longitud</th>\n",
       "      <td>-85.9814</td>\n",
       "      <td>-87.7721</td>\n",
       "      <td>-87.5259</td>\n",
       "      <td>-86.3078</td>\n",
       "      <td>-86.7846</td>\n",
       "    </tr>\n",
       "    <tr>\n",
       "      <th>state</th>\n",
       "      <td>1</td>\n",
       "      <td>1</td>\n",
       "      <td>1</td>\n",
       "      <td>1</td>\n",
       "      <td>1</td>\n",
       "    </tr>\n",
       "    <tr>\n",
       "      <th>county</th>\n",
       "      <td>71</td>\n",
       "      <td>59</td>\n",
       "      <td>125</td>\n",
       "      <td>121</td>\n",
       "      <td>43</td>\n",
       "    </tr>\n",
       "    <tr>\n",
       "      <th>city</th>\n",
       "      <td>0</td>\n",
       "      <td>0</td>\n",
       "      <td>3050</td>\n",
       "      <td>2275</td>\n",
       "      <td>0</td>\n",
       "    </tr>\n",
       "    <tr>\n",
       "      <th>day</th>\n",
       "      <td>1</td>\n",
       "      <td>1</td>\n",
       "      <td>1</td>\n",
       "      <td>2</td>\n",
       "      <td>2</td>\n",
       "    </tr>\n",
       "    <tr>\n",
       "      <th>month</th>\n",
       "      <td>1</td>\n",
       "      <td>1</td>\n",
       "      <td>1</td>\n",
       "      <td>1</td>\n",
       "      <td>1</td>\n",
       "    </tr>\n",
       "    <tr>\n",
       "      <th>hour</th>\n",
       "      <td>1</td>\n",
       "      <td>13</td>\n",
       "      <td>3</td>\n",
       "      <td>9</td>\n",
       "      <td>16</td>\n",
       "    </tr>\n",
       "    <tr>\n",
       "      <th>peds</th>\n",
       "      <td>0</td>\n",
       "      <td>0</td>\n",
       "      <td>0</td>\n",
       "      <td>0</td>\n",
       "      <td>0</td>\n",
       "    </tr>\n",
       "    <tr>\n",
       "      <th>route</th>\n",
       "      <td>4</td>\n",
       "      <td>4</td>\n",
       "      <td>2</td>\n",
       "      <td>2</td>\n",
       "      <td>4</td>\n",
       "    </tr>\n",
       "    <tr>\n",
       "      <th>harm_ev</th>\n",
       "      <td>17</td>\n",
       "      <td>42</td>\n",
       "      <td>12</td>\n",
       "      <td>12</td>\n",
       "      <td>35</td>\n",
       "    </tr>\n",
       "    <tr>\n",
       "      <th>man_coll</th>\n",
       "      <td>0</td>\n",
       "      <td>0</td>\n",
       "      <td>6</td>\n",
       "      <td>2</td>\n",
       "      <td>0</td>\n",
       "    </tr>\n",
       "    <tr>\n",
       "      <th>reljct2</th>\n",
       "      <td>1</td>\n",
       "      <td>1</td>\n",
       "      <td>2</td>\n",
       "      <td>1</td>\n",
       "      <td>1</td>\n",
       "    </tr>\n",
       "    <tr>\n",
       "      <th>typ_int</th>\n",
       "      <td>1</td>\n",
       "      <td>1</td>\n",
       "      <td>2</td>\n",
       "      <td>1</td>\n",
       "      <td>1</td>\n",
       "    </tr>\n",
       "    <tr>\n",
       "      <th>lgt_cond</th>\n",
       "      <td>2</td>\n",
       "      <td>1</td>\n",
       "      <td>3</td>\n",
       "      <td>1</td>\n",
       "      <td>1</td>\n",
       "    </tr>\n",
       "    <tr>\n",
       "      <th>weather</th>\n",
       "      <td>1</td>\n",
       "      <td>1</td>\n",
       "      <td>1</td>\n",
       "      <td>2</td>\n",
       "      <td>1</td>\n",
       "    </tr>\n",
       "    <tr>\n",
       "      <th>cf1</th>\n",
       "      <td>0</td>\n",
       "      <td>0</td>\n",
       "      <td>0</td>\n",
       "      <td>0</td>\n",
       "      <td>0</td>\n",
       "    </tr>\n",
       "    <tr>\n",
       "      <th>drunk_dr</th>\n",
       "      <td>1</td>\n",
       "      <td>1</td>\n",
       "      <td>0</td>\n",
       "      <td>0</td>\n",
       "      <td>0</td>\n",
       "    </tr>\n",
       "    <tr>\n",
       "      <th>id</th>\n",
       "      <td>id_2014.10001</td>\n",
       "      <td>id_2014.10002</td>\n",
       "      <td>id_2014.10003</td>\n",
       "      <td>id_2014.10004</td>\n",
       "      <td>id_2014.10005</td>\n",
       "    </tr>\n",
       "  </tbody>\n",
       "</table>\n",
       "</div>"
      ],
      "text/plain": [
       "                      0              1              2              3  \\\n",
       "latitude        34.6237        34.3974        33.1972        33.1964   \n",
       "longitud       -85.9814       -87.7721       -87.5259       -86.3078   \n",
       "state                 1              1              1              1   \n",
       "county               71             59            125            121   \n",
       "city                  0              0           3050           2275   \n",
       "day                   1              1              1              2   \n",
       "month                 1              1              1              1   \n",
       "hour                  1             13              3              9   \n",
       "peds                  0              0              0              0   \n",
       "route                 4              4              2              2   \n",
       "harm_ev              17             42             12             12   \n",
       "man_coll              0              0              6              2   \n",
       "reljct2               1              1              2              1   \n",
       "typ_int               1              1              2              1   \n",
       "lgt_cond              2              1              3              1   \n",
       "weather               1              1              1              2   \n",
       "cf1                   0              0              0              0   \n",
       "drunk_dr              1              1              0              0   \n",
       "id        id_2014.10001  id_2014.10002  id_2014.10003  id_2014.10004   \n",
       "\n",
       "                      4  \n",
       "latitude        34.1802  \n",
       "longitud       -86.7846  \n",
       "state                 1  \n",
       "county               43  \n",
       "city                  0  \n",
       "day                   2  \n",
       "month                 1  \n",
       "hour                 16  \n",
       "peds                  0  \n",
       "route                 4  \n",
       "harm_ev              35  \n",
       "man_coll              0  \n",
       "reljct2               1  \n",
       "typ_int               1  \n",
       "lgt_cond              1  \n",
       "weather               1  \n",
       "cf1                   0  \n",
       "drunk_dr              0  \n",
       "id        id_2014.10005  "
      ]
     },
     "execution_count": 66,
     "metadata": {},
     "output_type": "execute_result"
    }
   ],
   "source": [
    "df.head().T"
   ]
  },
  {
   "cell_type": "code",
   "execution_count": 5,
   "metadata": {},
   "outputs": [],
   "source": [
    "# df=kc_functions.binarizeVariables(df)\n",
    "# df.info()"
   ]
  },
  {
   "cell_type": "code",
   "execution_count": 68,
   "metadata": {},
   "outputs": [
    {
     "name": "stdout",
     "output_type": "stream",
     "text": [
      "28961038\n"
     ]
    }
   ],
   "source": [
    "print(df.memory_usage(deep=True).sum())\n",
    "#df.head().T"
   ]
  },
  {
   "cell_type": "code",
   "execution_count": 292,
   "metadata": {},
   "outputs": [],
   "source": [
    "reload(kc)\n",
    "hdbscan_params={'min_cluster_size':100,'gen_min_span_tree':False, 'metric':'manhattan'}\n",
    "dfwk=kc.cluster_all_points(df,df.harm_ev==1,hdbscan_params=hdbscan_params)\n",
    "dfwk=kc.ttest(dfwk,dfwk.harm_ev==1)\n",
    "dfwk=kc.signficant_clusters(dfwk,True)"
   ]
  },
  {
   "cell_type": "code",
   "execution_count": 294,
   "metadata": {},
   "outputs": [],
   "source": [
    "# reload(kc_functions)\n",
    "# kc_functions.output_notebook()\n",
    "#kc_functions.plot_map(dfwk)"
   ]
  },
  {
   "cell_type": "code",
   "execution_count": 295,
   "metadata": {},
   "outputs": [],
   "source": [
    "# kc_functions.plot_map(dfwk,dfwk.cluster,dfwk.harm_ev==1)"
   ]
  },
  {
   "cell_type": "code",
   "execution_count": 296,
   "metadata": {},
   "outputs": [],
   "source": [
    "dfwk=dfwk.loc[:,['id','cluster','label','tstat','pvalue','sig']]"
   ]
  },
  {
   "cell_type": "code",
   "execution_count": 300,
   "metadata": {},
   "outputs": [
    {
     "name": "stdout",
     "output_type": "stream",
     "text": [
      "{'min_cluster_size': 100, 'metric': 'manhattan', 'min_samples': 100}\n"
     ]
    }
   ],
   "source": [
    "# import tabpy as tabpy\n",
    "reload(tabpy)\n",
    "\n",
    "sigcluster,cluster,pvalue=tabpy.get_sig_clusters(df.longitud.values,df.latitude.values,(df.harm_ev==1).values,min_cluster_size=100,test_type='ttest')"
   ]
  },
  {
   "cell_type": "code",
   "execution_count": 301,
   "metadata": {},
   "outputs": [
    {
     "data": {
      "text/plain": [
       "True"
      ]
     },
     "execution_count": 301,
     "metadata": {},
     "output_type": "execute_result"
    }
   ],
   "source": [
    "all(dfwk['cluster']==sigcluster)"
   ]
  },
  {
   "cell_type": "code",
   "execution_count": 271,
   "metadata": {},
   "outputs": [
    {
     "ename": "TypeError",
     "evalue": "'<' not supported between instances of 'list' and 'float'",
     "output_type": "error",
     "traceback": [
      "\u001b[0;31m---------------------------------------------------------------------------\u001b[0m",
      "\u001b[0;31mTypeError\u001b[0m                                 Traceback (most recent call last)",
      "\u001b[0;32m<ipython-input-271-33506fa9ce1c>\u001b[0m in \u001b[0;36m<module>\u001b[0;34m\u001b[0m\n\u001b[0;32m----> 1\u001b[0;31m \u001b[0mpvalue\u001b[0m\u001b[0;34m<\u001b[0m\u001b[0;36m0.05\u001b[0m\u001b[0;34m\u001b[0m\u001b[0;34m\u001b[0m\u001b[0m\n\u001b[0m",
      "\u001b[0;31mTypeError\u001b[0m: '<' not supported between instances of 'list' and 'float'"
     ]
    }
   ],
   "source": []
  },
  {
   "cell_type": "code",
   "execution_count": 26,
   "metadata": {},
   "outputs": [
    {
     "data": {
      "text/plain": [
       "HDBSCAN(algorithm='best', allow_single_cluster=False, alpha=1.0,\n",
       "    approx_min_span_tree=True, cluster_selection_method='eom',\n",
       "    core_dist_n_jobs=4, gen_min_span_tree=True, leaf_size=40,\n",
       "    match_reference_implementation=False, memory=Memory(location=None),\n",
       "    metric='manhattan', min_cluster_size=300, min_samples=None, p=None,\n",
       "    prediction_data=False)"
      ]
     },
     "execution_count": 26,
     "metadata": {},
     "output_type": "execute_result"
    }
   ],
   "source": [
    "import hdbscan\n",
    "\n",
    "dfwk=df.loc[df.WRK_ZONE==1,LOCS]\n",
    "clusterer = hdbscan.HDBSCAN(min_cluster_size=300, gen_min_span_tree=True,metric='manhattan')\n",
    "clusterer.fit(dfwk)"
   ]
  },
  {
   "cell_type": "code",
   "execution_count": 11,
   "metadata": {},
   "outputs": [],
   "source": [
    "# plot_map(dfwk,clusterer.labels_,title='Fatal Accident Road condition Clusters')"
   ]
  },
  {
   "cell_type": "code",
   "execution_count": 214,
   "metadata": {},
   "outputs": [],
   "source": [
    "# Workflow example\n",
    "# z=cluster_all_points(df,df.WRK_ZONE==1)\n",
    "# z=ttest(z,z.WRK_ZONE==1)\n",
    "# z=signficant_clusters(z,2)"
   ]
  },
  {
   "cell_type": "code",
   "execution_count": 215,
   "metadata": {},
   "outputs": [],
   "source": [
    "# z.cluster.value_counts()"
   ]
  },
  {
   "cell_type": "markdown",
   "metadata": {},
   "source": [
    "## Workflow Example"
   ]
  },
  {
   "cell_type": "code",
   "execution_count": 14,
   "metadata": {},
   "outputs": [],
   "source": [
    "df=getalldata()\n",
    "#df=mergedata(df)\n",
    "#df=cleanDFLocs(df)"
   ]
  },
  {
   "cell_type": "code",
   "execution_count": null,
   "metadata": {},
   "outputs": [],
   "source": [
    "dfwk.cluster.value_counts()"
   ]
  },
  {
   "cell_type": "code",
   "execution_count": null,
   "metadata": {},
   "outputs": [],
   "source": [
    "dfwk=create_plot_labels(dfwk)"
   ]
  },
  {
   "cell_type": "code",
   "execution_count": null,
   "metadata": {},
   "outputs": [],
   "source": [
    "plot_map(dfwk,dfwk.plot_labels,title='Fatal Accident Road condition Clusters')"
   ]
  },
  {
   "cell_type": "code",
   "execution_count": null,
   "metadata": {},
   "outputs": [],
   "source": []
  },
  {
   "cell_type": "markdown",
   "metadata": {},
   "source": [
    "## End Example"
   ]
  },
  {
   "cell_type": "code",
   "execution_count": 122,
   "metadata": {},
   "outputs": [],
   "source": [
    "#plot_map(dftmp,dftmp.cluster)"
   ]
  },
  {
   "cell_type": "code",
   "execution_count": 125,
   "metadata": {},
   "outputs": [],
   "source": [
    "z=dfwk.loc[dfwk.cluster==3,LOCS]\n",
    "hull=convexhull(z)\n",
    "#hull=spatial.ConvexHull(z)\n",
    "hull.close()"
   ]
  },
  {
   "cell_type": "code",
   "execution_count": 126,
   "metadata": {},
   "outputs": [],
   "source": [
    "points=z.loc[:,LOCS].values"
   ]
  },
  {
   "cell_type": "code",
   "execution_count": 127,
   "metadata": {},
   "outputs": [],
   "source": [
    "plt.plot(points[hull.vertices,0], points[hull.vertices,1], 'r--', lw=2)\n",
    "plt.plot(points[hull.vertices[0],0], points[hull.vertices[0],1], 'ro')\n",
    "plt.plot(points[:,0],points[:,1],'bo')\n",
    "plt.show()"
   ]
  },
  {
   "cell_type": "code",
   "execution_count": 128,
   "metadata": {},
   "outputs": [],
   "source": [
    "z=df.loc[hull.in_hull(df.loc[:,LOCS].values),:]"
   ]
  },
  {
   "cell_type": "code",
   "execution_count": 129,
   "metadata": {},
   "outputs": [],
   "source": [
    "from scipy.stats import ttest_ind"
   ]
  },
  {
   "cell_type": "code",
   "execution_count": 109,
   "metadata": {},
   "outputs": [],
   "source": [
    "#ttest_ind(z.accident_WRK_ZONE,dfwk.loc[dfwk.cluster==-1,'accident_WRK_ZONE'])"
   ]
  },
  {
   "cell_type": "code",
   "execution_count": 16,
   "metadata": {},
   "outputs": [],
   "source": [
    "# LOCS=['accident_LONGITUD', 'accident_LATITUDE','cluster']\n",
    "# z.loc[:,LOCS].head()"
   ]
  },
  {
   "cell_type": "code",
   "execution_count": 139,
   "metadata": {},
   "outputs": [
    {
     "data": {
      "text/html": [
       "<div>\n",
       "<style scoped>\n",
       "    .dataframe tbody tr th:only-of-type {\n",
       "        vertical-align: middle;\n",
       "    }\n",
       "\n",
       "    .dataframe tbody tr th {\n",
       "        vertical-align: top;\n",
       "    }\n",
       "\n",
       "    .dataframe thead th {\n",
       "        text-align: right;\n",
       "    }\n",
       "</style>\n",
       "<table border=\"1\" class=\"dataframe\">\n",
       "  <thead>\n",
       "    <tr style=\"text-align: right;\">\n",
       "      <th></th>\n",
       "      <th>accident_LONGITUD</th>\n",
       "      <th>accident_LATITUDE</th>\n",
       "    </tr>\n",
       "  </thead>\n",
       "  <tbody>\n",
       "    <tr>\n",
       "      <th>0</th>\n",
       "      <td>-85.981408</td>\n",
       "      <td>34.623722</td>\n",
       "    </tr>\n",
       "    <tr>\n",
       "      <th>1</th>\n",
       "      <td>-87.772117</td>\n",
       "      <td>34.397428</td>\n",
       "    </tr>\n",
       "    <tr>\n",
       "      <th>2</th>\n",
       "      <td>-87.525911</td>\n",
       "      <td>33.197172</td>\n",
       "    </tr>\n",
       "    <tr>\n",
       "      <th>3</th>\n",
       "      <td>-86.307831</td>\n",
       "      <td>33.196383</td>\n",
       "    </tr>\n",
       "    <tr>\n",
       "      <th>4</th>\n",
       "      <td>-86.784592</td>\n",
       "      <td>34.180189</td>\n",
       "    </tr>\n",
       "  </tbody>\n",
       "</table>\n",
       "</div>"
      ],
      "text/plain": [
       "   accident_LONGITUD  accident_LATITUDE\n",
       "0         -85.981408          34.623722\n",
       "1         -87.772117          34.397428\n",
       "2         -87.525911          33.197172\n",
       "3         -86.307831          33.196383\n",
       "4         -86.784592          34.180189"
      ]
     },
     "execution_count": 139,
     "metadata": {},
     "output_type": "execute_result"
    }
   ],
   "source": [
    "df.loc[:,LOCS].head()"
   ]
  },
  {
   "cell_type": "code",
   "execution_count": 102,
   "metadata": {},
   "outputs": [],
   "source": [
    "a=df.loc[~hull.in_hull(df.loc[:,LOCS].values),:]"
   ]
  },
  {
   "cell_type": "code",
   "execution_count": 18,
   "metadata": {},
   "outputs": [],
   "source": [
    "# df.head().reset_index()"
   ]
  },
  {
   "cell_type": "code",
   "execution_count": 20,
   "metadata": {},
   "outputs": [],
   "source": [
    "# df.loc[~hull.in_hull(df.loc[:,LOCS].values),'accident_WRK_ZONE'].mean()"
   ]
  },
  {
   "cell_type": "code",
   "execution_count": 94,
   "metadata": {},
   "outputs": [],
   "source": [
    "df=getalldata()\n",
    "# need to add a merge to figure out how to merge sub-tables together into 1 row\n",
    "df=removeNoHourAndMinutes(df)\n",
    "df=removeUneededAccidentColumns(df)\n",
    "df=cleanLocs(df)\n",
    "df=createTimestamp(df)\n",
    "\n",
    "df2=getalldata()\n",
    "# need to add a merge to figure out how to merge sub-tables together into 1 row\n",
    "df2=removeNoHourAndMinutes(df2)\n",
    "df2=removeUneededAccidentColumns(df2)\n",
    "df2=cleanLocs(df2)\n",
    "df2=createTimestamp(df2)\n",
    "df=df.append(df2)\n",
    "df=df.reset_index().drop('index',axis=1)"
   ]
  },
  {
   "cell_type": "code",
   "execution_count": 22,
   "metadata": {},
   "outputs": [],
   "source": [
    "# print(df.shape)\n",
    "# print(len(df.reset_index()['index'].unique()))\n",
    "# print(len(df.reset_index().drop('index',axis=1).reset_index()['index'].unique()))\n",
    "# df.sort_values('id').head()"
   ]
  },
  {
   "cell_type": "code",
   "execution_count": 6,
   "metadata": {},
   "outputs": [],
   "source": [
    "reload(kc_functions)\n",
    "df=kc_functions.getalldata()\n",
    "df=kc_functions.removeNoHourAndMinutes(df)\n",
    "df=kc_functions.createTimestamp(df)\n",
    "df=kc_functions.removeUneededColumns(df)\n",
    "df['target']=df['drunk_dr']"
   ]
  },
  {
   "cell_type": "code",
   "execution_count": 9,
   "metadata": {},
   "outputs": [
    {
     "data": {
      "text/plain": [
       "array([0, 9, 3, 5, 1, 8, 2, 4])"
      ]
     },
     "execution_count": 9,
     "metadata": {},
     "output_type": "execute_result"
    }
   ],
   "source": [
    "import pandas as pd\n",
    "import kc_functions\n",
    "df=pd.read_csv('comboacc.csv')\n",
    "df.columns=[ i.lower() for i in df.columns.tolist()]\n",
    "#df=kc_functions.removeNoHourAndMinutes(df)\n",
    "#df=kc_functions.cleanLocs(df)\n",
    "df['target']=df['sp_jur']\n",
    "df.target.unique()"
   ]
  },
  {
   "cell_type": "code",
   "execution_count": 13,
   "metadata": {},
   "outputs": [
    {
     "name": "stderr",
     "output_type": "stream",
     "text": [
      "/home/kchuangk/.pyenv/lib/python3.6/site-packages/ipykernel_launcher.py:22: SettingWithCopyWarning: \n",
      "A value is trying to be set on a copy of a slice from a DataFrame.\n",
      "Try using .loc[row_indexer,col_indexer] = value instead\n",
      "\n",
      "See the caveats in the documentation: http://pandas.pydata.org/pandas-docs/stable/indexing.html#indexing-view-versus-copy\n"
     ]
    },
    {
     "ename": "QhullError",
     "evalue": "QH6013 qhull input error: input is less than 2-dimensional since it has the same x coordinate\n\nWhile executing:  | qhull i Qt\nOptions selected for Qhull 2015.2.r 2016/01/18:\n  run-id 1991766488  incidence  Qtriangulate  _pre-merge  _zero-centrum\n  _max-width  0  Error-roundoff 7.2e-13  _one-merge 3.6e-12\n  _near-inside 1.8e-11  Visible-distance 1.4e-12  U-coplanar-distance 1.4e-12\n  Width-outside 2.9e-12  _wide-facet 8.6e-12\n",
     "output_type": "error",
     "traceback": [
      "\u001b[0;31m---------------------------------------------------------------------------\u001b[0m",
      "\u001b[0;31mQhullError\u001b[0m                                Traceback (most recent call last)",
      "\u001b[0;32m<ipython-input-13-92d8d3064184>\u001b[0m in \u001b[0;36m<module>\u001b[0;34m\u001b[0m\n\u001b[1;32m     27\u001b[0m     \u001b[0;32mif\u001b[0m \u001b[0mi\u001b[0m\u001b[0;34m!=\u001b[0m\u001b[0;36m0\u001b[0m\u001b[0;34m:\u001b[0m\u001b[0;34m\u001b[0m\u001b[0;34m\u001b[0m\u001b[0m\n\u001b[1;32m     28\u001b[0m             \u001b[0mdftgt\u001b[0m\u001b[0;34m=\u001b[0m\u001b[0muniquedf\u001b[0m\u001b[0;34m.\u001b[0m\u001b[0mloc\u001b[0m\u001b[0;34m[\u001b[0m\u001b[0muniquedf\u001b[0m\u001b[0;34m[\u001b[0m\u001b[0;34m\"cluster\"\u001b[0m\u001b[0;34m]\u001b[0m\u001b[0;34m==\u001b[0m\u001b[0mi\u001b[0m\u001b[0;34m,\u001b[0m\u001b[0;34m[\u001b[0m\u001b[0;34m\"longitud\"\u001b[0m\u001b[0;34m,\u001b[0m\u001b[0;34m\"latitude\"\u001b[0m\u001b[0;34m]\u001b[0m\u001b[0;34m]\u001b[0m\u001b[0;34m\u001b[0m\u001b[0;34m\u001b[0m\u001b[0m\n\u001b[0;32m---> 29\u001b[0;31m             \u001b[0mhull\u001b[0m\u001b[0;34m=\u001b[0m\u001b[0mConvexHull\u001b[0m\u001b[0;34m(\u001b[0m\u001b[0mdftgt\u001b[0m\u001b[0;34m)\u001b[0m\u001b[0;34m\u001b[0m\u001b[0;34m\u001b[0m\u001b[0m\n\u001b[0m\u001b[1;32m     30\u001b[0m             \u001b[0mhull\u001b[0m\u001b[0;34m.\u001b[0m\u001b[0mclose\u001b[0m\u001b[0;34m(\u001b[0m\u001b[0;34m)\u001b[0m\u001b[0;34m\u001b[0m\u001b[0;34m\u001b[0m\u001b[0m\n\u001b[1;32m     31\u001b[0m             \u001b[0muniquedf\u001b[0m\u001b[0;34m.\u001b[0m\u001b[0mloc\u001b[0m\u001b[0;34m[\u001b[0m\u001b[0min_hull\u001b[0m\u001b[0;34m(\u001b[0m\u001b[0mhull\u001b[0m\u001b[0;34m,\u001b[0m\u001b[0muniquedf\u001b[0m\u001b[0;34m.\u001b[0m\u001b[0mloc\u001b[0m\u001b[0;34m[\u001b[0m\u001b[0;34m:\u001b[0m\u001b[0;34m,\u001b[0m\u001b[0;34m[\u001b[0m\u001b[0;34m\"longitud\"\u001b[0m\u001b[0;34m,\u001b[0m\u001b[0;34m\"latitude\"\u001b[0m\u001b[0;34m]\u001b[0m\u001b[0;34m]\u001b[0m\u001b[0;34m.\u001b[0m\u001b[0mvalues\u001b[0m\u001b[0;34m)\u001b[0m\u001b[0;34m,\u001b[0m\u001b[0;34m\"cluster\"\u001b[0m\u001b[0;34m]\u001b[0m\u001b[0;34m=\u001b[0m\u001b[0mi\u001b[0m\u001b[0;34m\u001b[0m\u001b[0;34m\u001b[0m\u001b[0m\n",
      "\u001b[0;32mqhull.pyx\u001b[0m in \u001b[0;36mscipy.spatial.qhull.ConvexHull.__init__\u001b[0;34m()\u001b[0m\n",
      "\u001b[0;32mqhull.pyx\u001b[0m in \u001b[0;36mscipy.spatial.qhull._Qhull.__init__\u001b[0;34m()\u001b[0m\n",
      "\u001b[0;31mQhullError\u001b[0m: QH6013 qhull input error: input is less than 2-dimensional since it has the same x coordinate\n\nWhile executing:  | qhull i Qt\nOptions selected for Qhull 2015.2.r 2016/01/18:\n  run-id 1991766488  incidence  Qtriangulate  _pre-merge  _zero-centrum\n  _max-width  0  Error-roundoff 7.2e-13  _one-merge 3.6e-12\n  _near-inside 1.8e-11  Visible-distance 1.4e-12  U-coplanar-distance 1.4e-12\n  Width-outside 2.9e-12  _wide-facet 8.6e-12\n"
     ]
    }
   ],
   "source": [
    "# ```SCRIPT_INT('from scipy.spatial import Delaunay, ConvexHull -- for Tabpy - pure significance test clustering\n",
    "from scipy.spatial import Delaunay,ConvexHull\n",
    "from scipy.stats import ttest_ind\n",
    "from scipy.spatial.qhull import QhullError\n",
    "import pandas as pd\n",
    "import hdbscan\n",
    "import numpy as np\n",
    "\n",
    "def in_hull(h,p):\n",
    "    hull_in=Delaunay(h.points)\n",
    "    return hull_in.find_simplex(p)>=0\n",
    "\n",
    "LOCS=df.loc[:,[\"longitud\",\"latitude\",\"target\"]]\n",
    "# Assuming each row is unique\n",
    "#LOCS = np.column_stack([np.radians(_arg1),np.radians(_arg2), _arg3]) \n",
    "uniquedf=pd.DataFrame(LOCS,columns=[\"longitud\",\"latitude\",\"target\"])\n",
    "# uniquedf is the uniques\n",
    "targetdf = uniquedf.loc[uniquedf[\"target\"]==1,:]\n",
    "# clusterer = hdbscan.HDBSCAN(min_cluster_size=500,gen_min_span_tree=True,metric=\"manhattan\",min_samples=500)\n",
    "clusterer = hdbscan.HDBSCAN(min_cluster_size=5,gen_min_span_tree=True,metric=\"manhattan\",min_samples=5)\n",
    "clustered = clusterer.fit(targetdf.loc[:,[\"longitud\",\"latitude\"]])\n",
    "targetdf[\"cluster\"]=clustered.labels_\n",
    "uniquedf[\"cluster\"]=0\n",
    "# relabel cluster 0 so when we multiply it out to indicate significant clusters, it works - adding 1 to everything\n",
    "uniquedf.loc[list(targetdf.index),\"cluster\"]=clustered.labels_ + 1\n",
    "for i in uniquedf[\"cluster\"].unique():\n",
    "    if i!=0:\n",
    "        dftgt=uniquedf.loc[uniquedf[\"cluster\"]==i,[\"longitud\",\"latitude\"]]\n",
    "        try:\n",
    "            hull=ConvexHull(dftgt)\n",
    "        except Exception as Err:\n",
    "            hull=None\n",
    "            if type(Err) == QhullError:\n",
    "                if len(dftgt.longitud.unique())<3 and len(dftgt.latitude.unique())<3:\n",
    "                    for lon,lat in zip(dftgt.longitud.unique(),dftgt.latitude.unique()):\n",
    "                        uniquedf.loc[(uniquedf.longitud==lon) & (uniquedf.latitude==lat),\"cluster\"]==i\n",
    "                else:\n",
    "                    print(Err.args)   # True error here - we\"ll have ot know about about it - not sure how you display it in tableau\n",
    "        if hull is not None:\n",
    "            hull.close()\n",
    "            uniquedf.loc[in_hull(hull,uniquedf.loc[:,[\"longitud\",\"latitude\"]].values),\"cluster\"]=i\n",
    "# ttest - no need for any correction because it\"s different data sets\n",
    "dfnotincluster=uniquedf.loc[uniquedf[\"cluster\"]==0,\"target\"]\n",
    "uniquedf[\"tstat\"]=-1\n",
    "uniquedf[\"pvalue\"]=-1\n",
    "for i in uniquedf[\"cluster\"].unique():\n",
    "    if i!=0:\n",
    "        dfcluster=uniquedf.loc[uniquedf[\"cluster\"]==i,\"target\"]\n",
    "        tstat,pvalue=ttest_ind(dfcluster,dfnotincluster)\n",
    "        uniquedf.loc[uniquedf[\"cluster\"]==i,[\"tstat\"]]=tstat\n",
    "        uniquedf.loc[uniquedf[\"cluster\"]==i,[\"pvalue\"]]=pvalue\n",
    "# now, check for significance\n",
    "# uniquedf[\"sig\"]=uniquedf.pvalue<= 0.05 \n",
    "uniquedf[\"sig\"]=uniquedf.pvalue<=.05\n",
    "uniquedf[\"sig_cluster\"]=uniquedf.cluster*uniquedf.sig\n",
    "\n",
    "\n",
    "# Showing certain clusters show up as significant that have no difference (likely due to chance). \n",
    "# ',\n",
    "# avg([Longitud]), \n",
    "# avg([Latitude]),\n",
    "# avg([Measure Chooser]),\n",
    "# min([# of clusters]))```"
   ]
  },
  {
   "cell_type": "code",
   "execution_count": 15,
   "metadata": {},
   "outputs": [
    {
     "name": "stderr",
     "output_type": "stream",
     "text": [
      "/home/kchuangk/.pyenv/lib/python3.6/site-packages/ipykernel_launcher.py:30: SettingWithCopyWarning: \n",
      "A value is trying to be set on a copy of a slice from a DataFrame.\n",
      "Try using .loc[row_indexer,col_indexer] = value instead\n",
      "\n",
      "See the caveats in the documentation: http://pandas.pydata.org/pandas-docs/stable/indexing.html#indexing-view-versus-copy\n"
     ]
    }
   ],
   "source": [
    "# Final for Tabpy\n",
    "\n",
    "from scipy.spatial import Delaunay, ConvexHull\n",
    "from scipy.stats import ttest_ind\n",
    "from scipy.spatial.qhull import QhullError\n",
    "import pandas as pd\n",
    "import hdbscan\n",
    "\n",
    "def in_hull(h,p):\n",
    "    \"\"\"\n",
    "    Test if points in `p` are in `hull`\n",
    "\n",
    "    `p` should be a `NxK` coordinates of `N` points in `K` dimensions\n",
    "    `hull` is either a scipy.spatial.Delaunay object or the `MxK` array of the \n",
    "    coordinates of `M` points in `K`dimensions for which Delaunay triangulation\n",
    "    will be computed\n",
    "    \"\"\"\n",
    "    hull_in=Delaunay(h.points)\n",
    "    return hull_in.find_simplex(p)>=0\n",
    "\n",
    "LOCS=df.loc[:,['longitud','latitude','target']]\n",
    "# Assuming each row is unique\n",
    "# TABPY LOCS = np.column_stack([np.radians(_arg1),np.radians(_arg2), _arg3]) \n",
    "uniquedf=pd.DataFrame(LOCS,columns=['longitud','latitude','target'])\n",
    "# uniquedf is the uniques\n",
    "targetdf = uniquedf.loc[uniquedf['target']==1,:]\n",
    "clusterer = hdbscan.HDBSCAN(min_cluster_size=5,gen_min_span_tree=True,metric=\"manhattan\",min_samples=5)\n",
    "#clusterer = hdbscan.HDBSCAN(min_cluster_size=_arg4[1],gen_min_span_tree=True,metric=\"manhattan\",min_samples=_arg5[1])\n",
    "clustered = clusterer.fit(targetdf.loc[:,['longitud','latitude']])\n",
    "targetdf['cluster']=clustered.labels_\n",
    "uniquedf['cluster']=0\n",
    "# relabel cluster 0 so when we multiply it out to indicate significant clusters, it works - adding 1 to everything\n",
    "uniquedf.loc[list(targetdf.index),'cluster']=clustered.labels_ + 1\n",
    "for i in uniquedf['cluster'].unique():\n",
    "    if i!=0:\n",
    "        dftgt=uniquedf.loc[uniquedf['cluster']==i,['longitud','latitude']]\n",
    "        try:\n",
    "            hull=ConvexHull(dftgt)\n",
    "        except Exception as Err:\n",
    "            hull=None\n",
    "            if type(Err) == QhullError:\n",
    "                if len(dftgt.longitud.unique())<3 and len(dftgt.latitude.unique())<3:\n",
    "                    for lon,lat in zip(dftgt.longitud.unique(),dftgt.latitude.unique()):\n",
    "                        uniquedf.loc[(uniquedf.longitud==lon) & (uniquedf.latitude==lat),'cluster']==i\n",
    "                else:\n",
    "                    print(Err.args)   # True error here - we'll have ot know about about it - not sure how you display it in tableau\n",
    "        if hull is not None:\n",
    "            hull.close()\n",
    "            uniquedf.loc[in_hull(hull,uniquedf.loc[:,['longitud','latitude']].values),'cluster']=i\n",
    "# ttest - no need for any correction because it's different data sets\n",
    "dfnotincluster=uniquedf.loc[uniquedf['cluster']==0,'target']\n",
    "uniquedf['tstat']=-1\n",
    "uniquedf['pvalue']=-1\n",
    "for i in uniquedf['cluster'].unique():\n",
    "    if i!=0:\n",
    "        dfcluster=uniquedf.loc[uniquedf['cluster']==i,'target']\n",
    "        tstat,pvalue=ttest_ind(dfcluster,dfnotincluster)\n",
    "        uniquedf.loc[uniquedf['cluster']==i,['tstat']]=tstat\n",
    "        uniquedf.loc[uniquedf['cluster']==i,['pvalue']]=pvalue\n",
    "# now, check for significance\n",
    "uniquedf['sig']=uniquedf.pvalue<= 0.03 \n",
    "# TABPY uniquedf['sig']=uniquedf.pvalue<=_arg6[1]\n",
    "uniquedf['sig_cluster']=uniquedf.cluster*uniquedf.sig\n",
    "\n",
    "# PLEASE READ: basically cluster 0 means it's not a cluster - everythign else, it's in a cluster\n",
    "# fulldf has every single point (repeated) - cluster is the cluster it is in 0 means not in a cluster or significant cluster, -2 means repeated\n",
    "# uniquedf has only the unique points - sig_cluster is the significant cluster 0 means it's not in a cluster, cluster = cluster from hdbscan (no significance)\n",
    "# return uniquedf['sig']"
   ]
  },
  {
   "cell_type": "code",
   "execution_count": 24,
   "metadata": {},
   "outputs": [],
   "source": [
    "# kc_functions.output_notebook()\n",
    "# kc_functions.plot_map(uniquedf,uniquedf.cluster)"
   ]
  },
  {
   "cell_type": "code",
   "execution_count": 26,
   "metadata": {},
   "outputs": [],
   "source": [
    "# kc_functions.plot_map(uniquedf,uniquedf.sig_cluster) #,uniquedf.target)"
   ]
  },
  {
   "cell_type": "code",
   "execution_count": null,
   "metadata": {},
   "outputs": [],
   "source": []
  },
  {
   "cell_type": "markdown",
   "metadata": {},
   "source": [
    "### Data Merge"
   ]
  },
  {
   "cell_type": "code",
   "execution_count": 111,
   "metadata": {},
   "outputs": [],
   "source": [
    "varlist=getVarlist()"
   ]
  },
  {
   "cell_type": "code",
   "execution_count": 11,
   "metadata": {},
   "outputs": [],
   "source": [
    "varlist"
   ]
  },
  {
   "cell_type": "code",
   "execution_count": 28,
   "metadata": {},
   "outputs": [],
   "source": [
    "# reload(kc_functions)\n",
    "# a=kc_functions.createHistograms('accident.csv')"
   ]
  },
  {
   "cell_type": "code",
   "execution_count": null,
   "metadata": {},
   "outputs": [],
   "source": []
  },
  {
   "cell_type": "code",
   "execution_count": null,
   "metadata": {},
   "outputs": [],
   "source": []
  },
  {
   "cell_type": "code",
   "execution_count": null,
   "metadata": {},
   "outputs": [],
   "source": []
  },
  {
   "cell_type": "code",
   "execution_count": 201,
   "metadata": {},
   "outputs": [],
   "source": [
    "# we should probably just bin the Vehicle Number"
   ]
  },
  {
   "cell_type": "code",
   "execution_count": 202,
   "metadata": {},
   "outputs": [],
   "source": [
    "df=getalldata('person.csv')"
   ]
  },
  {
   "cell_type": "code",
   "execution_count": 218,
   "metadata": {},
   "outputs": [
    {
     "data": {
      "text/plain": [
       "array([0.38010776, 0.65283572, 0.82420263, 0.90564561, 0.94857473,\n",
       "       0.97152498, 0.98336487, 0.99001436, 0.9934417 , 0.99558474,\n",
       "       0.99693743, 0.99779617, 0.99825973, 0.99858651, 0.99881449,\n",
       "       0.99901208, 0.99920966, 0.99932365, 0.99939965, 0.99946804,\n",
       "       0.99952124, 0.99957443, 0.99960483, 0.99963523, 0.99966563,\n",
       "       0.99969602, 0.99971882, 0.99974162, 0.99976442, 0.99977962,\n",
       "       0.99979482, 0.99981001, 0.99982521, 0.99984041, 0.99985561,\n",
       "       0.99987081, 0.99988601, 0.99990121, 0.99991641, 0.99992401,\n",
       "       0.99993161, 0.9999392 , 0.9999468 , 0.9999544 , 0.999962  ,\n",
       "       0.9999696 , 0.9999772 , 0.9999848 , 0.9999924 , 1.        ])"
      ]
     },
     "execution_count": 218,
     "metadata": {},
     "output_type": "execute_result"
    }
   ],
   "source": [
    "z=df.loc[:,varlist['person']].groupby('id')['per_no'].count()\n",
    "(z.value_counts()/z.shape[0]).values.cumsum()"
   ]
  },
  {
   "cell_type": "markdown",
   "metadata": {},
   "source": [
    "## EDA"
   ]
  },
  {
   "cell_type": "code",
   "execution_count": 30,
   "metadata": {},
   "outputs": [],
   "source": [
    "# kc_functions.output_notebook()\n",
    "# kc_functions.createHistograms('accident.csv')"
   ]
  },
  {
   "cell_type": "code",
   "execution_count": 32,
   "metadata": {},
   "outputs": [],
   "source": [
    "# kc_functions.createHistograms('damage.csv')"
   ]
  },
  {
   "cell_type": "code",
   "execution_count": 34,
   "metadata": {},
   "outputs": [],
   "source": [
    "# kc_functions.createHistograms('vision.csv')"
   ]
  },
  {
   "cell_type": "code",
   "execution_count": 36,
   "metadata": {},
   "outputs": [],
   "source": [
    "# kc_functions.createHistograms('drimpair.csv')"
   ]
  },
  {
   "cell_type": "code",
   "execution_count": 38,
   "metadata": {},
   "outputs": [],
   "source": [
    "# kc_functions.createHistograms('factor.csv')"
   ]
  },
  {
   "cell_type": "code",
   "execution_count": 40,
   "metadata": {},
   "outputs": [],
   "source": [
    "# kc_functions.createHistograms('person.csv')"
   ]
  },
  {
   "cell_type": "code",
   "execution_count": 42,
   "metadata": {},
   "outputs": [],
   "source": [
    "# kc_functions.createHistograms('acc_aux.csv')"
   ]
  },
  {
   "cell_type": "code",
   "execution_count": 44,
   "metadata": {},
   "outputs": [],
   "source": [
    "# from bokeh.models.annotations import Span\n",
    "# \n",
    "# k=[i/100 for i in range(0,int(2*np.pi*100),10)]\n",
    "# z=np.sin(k)\n",
    "# \n",
    "# p=kc_functions.figure(tooltips=[('x','$x'),('y','$y')])\n",
    "# p.line(x=k,y=z,legend='sin')\n",
    "# p.circle(x=k,y=z,legend='sin',radius=0.10,fill_color=None)\n",
    "# s=Span(location=0,dimension='width',line_width=1,line_color='darkred',line_dash='dotted')\n",
    "# p.add_layout(s)\n",
    "# s=Span(location=3,dimension='height',line_width=1,line_color='navy',line_dash='dashed')\n",
    "# p.add_layout(s)\n",
    "# kc_functions.show(p)"
   ]
  },
  {
   "cell_type": "markdown",
   "metadata": {},
   "source": [
    "### Create Functions to merge data for EDA in R"
   ]
  },
  {
   "cell_type": "code",
   "execution_count": 2,
   "metadata": {},
   "outputs": [
    {
     "name": "stderr",
     "output_type": "stream",
     "text": [
      "/home/kchuangk/.pyenv/lib/python3.6/site-packages/IPython/core/interactiveshell.py:3209: DtypeWarning: Columns (36,37) have mixed types. Specify dtype option on import or set low_memory=False.\n",
      "  if (yield from self.run_code(code, result)):\n",
      "/home/kchuangk/.pyenv/lib/python3.6/site-packages/IPython/core/interactiveshell.py:3209: DtypeWarning: Columns (36,37,102) have mixed types. Specify dtype option on import or set low_memory=False.\n",
      "  if (yield from self.run_code(code, result)):\n",
      "/home/kchuangk/.pyenv/lib/python3.6/site-packages/IPython/core/interactiveshell.py:3209: DtypeWarning: Columns (101,102) have mixed types. Specify dtype option on import or set low_memory=False.\n",
      "  if (yield from self.run_code(code, result)):\n"
     ]
    }
   ],
   "source": [
    "# load values for R\n",
    "import kc_functions\n",
    "from importlib import reload\n",
    "reload(kc_functions)\n",
    "accident=kc_functions.getalldata('accident.csv')\n",
    "accident=kc_functions.removeNoHourAndMinutes(accident)\n",
    "accident=kc_functions.cleanLocs(accident)\n",
    "accident=kc_functions.createTimestamp(accident)\n",
    "accident=kc_functions.removeUnneededColumns(accident,'accident.csv',['tstamp'])\n",
    "vehicle=kc_functions.getalldata('vehicle.csv')\n",
    "vehicle=kc_functions.removeUnneededColumns(vehicle,'vehicle.csv')\n",
    "veh_aux=kc_functions.getalldata('veh_aux.csv')\n",
    "veh_aux=kc_functions.removeUnneededColumns(veh_aux,'veh_aux.csv')"
   ]
  },
  {
   "cell_type": "code",
   "execution_count": 3,
   "metadata": {},
   "outputs": [
    {
     "name": "stderr",
     "output_type": "stream",
     "text": [
      "/home/kchuangk/.pyenv/lib/python3.6/site-packages/pandas/core/indexing.py:1017: FutureWarning: \n",
      "Passing list-likes to .loc or [] with any missing label will raise\n",
      "KeyError in the future, you can use .reindex() as an alternative.\n",
      "\n",
      "See the documentation here:\n",
      "https://pandas.pydata.org/pandas-docs/stable/indexing.html#deprecate-loc-reindex-listlike\n",
      "  return getattr(section, self.name)[new_key]\n"
     ]
    }
   ],
   "source": [
    "accident=accident.set_index('id')\n",
    "vehicle.loc[:,'tstamp']=accident.loc[list(vehicle.id),'tstamp'].values\n",
    "vehicle.loc[:,'state']=accident.loc[list(vehicle.id),'state'].values\n",
    "vehicle.loc[:,'longitud']=accident.loc[list(vehicle.id),'longitud'].values\n",
    "vehicle.loc[:,'latitude']=accident.loc[list(vehicle.id),'latitude'].values\n",
    "veh_aux.loc[:,'state']=accident.loc[list(veh_aux.id),'state'].values\n",
    "veh_aux.loc[:,'tstamp']=accident.loc[list(veh_aux.id),'tstamp'].values\n",
    "veh_aux.loc[:,'longitud']=accident.loc[list(veh_aux.id),'longitud'].values\n",
    "veh_aux.loc[:,'latitude']=accident.loc[list(veh_aux.id),'latitude'].values"
   ]
  },
  {
   "cell_type": "code",
   "execution_count": 4,
   "metadata": {},
   "outputs": [],
   "source": [
    "vehicle=vehicle.loc[(~vehicle.tstamp.isnull()) | (~vehicle.longitud.isnull()) | (~vehicle.latitude.isnull()),:]\n",
    "veh_aux=veh_aux.loc[(~veh_aux.tstamp.isnull()) | (~veh_aux.longitud.isnull()) | (~veh_aux.latitude.isnull()),:]"
   ]
  },
  {
   "cell_type": "code",
   "execution_count": 5,
   "metadata": {},
   "outputs": [],
   "source": [
    "vehicle.to_csv('kc_eda_vehicle.csv')\n",
    "veh_aux.to_csv('kc_eda_veh_aux.csv')"
   ]
  },
  {
   "cell_type": "markdown",
   "metadata": {},
   "source": [
    "The rest of the EDA is done in R\n",
    "\n",
    "### EDA Tranformations below\n",
    "\n",
    "We'll code only examining vehicles 1-4 (~94% of all accidents) and vehicles 1-4 covers 98-99% of variables\n",
    "\n",
    "We'll code each categorical variable as veh_no_(1-4)_categorical_var_1,veh_no_(1-4)_categorical_var_2, and so on and numerical as veh_no_(1-4)_numericVar.\n",
    "\n",
    "Note veh_aux doesn't have vehicle number."
   ]
  },
  {
   "cell_type": "code",
   "execution_count": 104,
   "metadata": {},
   "outputs": [],
   "source": [
    "from importlib import reload\n",
    "import pandas as pd\n",
    "import kc_functions as kc"
   ]
  },
  {
   "cell_type": "code",
   "execution_count": 106,
   "metadata": {},
   "outputs": [],
   "source": [
    "# dforig=pd.read_csv('kc_eda_vehicle.csv')\n",
    "# df=dforig.copy()\n",
    "# cols=[i for i in df.columns.tolist() if i not in ['tstamp','longitud','latitude','Unnamed: 0']]\n",
    "# df=df.loc[:,cols]\n",
    "# df=df.loc[(df.veh_no<=4),:]\n",
    "# df['veh_no']=['veh'+str(i) for i in df.veh_no]\n",
    "# df=df.drop('state',axis=1)"
   ]
  },
  {
   "cell_type": "code",
   "execution_count": 108,
   "metadata": {},
   "outputs": [
    {
     "data": {
      "text/plain": [
       "<module 'kc_functions' from '/home/kchuangk/Documents/Classes/W210 - Capstone/NYCTrafficCollisions/kc/kc_functions.py'>"
      ]
     },
     "execution_count": 108,
     "metadata": {},
     "output_type": "execute_result"
    }
   ],
   "source": [
    "from importlib import reload\n",
    "import numpy as np\n",
    "import kc_functions as kc\n",
    "reload(kc)"
   ]
  },
  {
   "cell_type": "code",
   "execution_count": 110,
   "metadata": {},
   "outputs": [
    {
     "name": "stderr",
     "output_type": "stream",
     "text": [
      "/home/kchuangk/.pyenv/lib/python3.6/site-packages/IPython/core/interactiveshell.py:3248: DtypeWarning: Columns (36,37) have mixed types. Specify dtype option on import or set low_memory=False.\n",
      "  if (await self.run_code(code, result,  async_=asy)):\n",
      "/home/kchuangk/.pyenv/lib/python3.6/site-packages/IPython/core/interactiveshell.py:3248: DtypeWarning: Columns (36,37,102) have mixed types. Specify dtype option on import or set low_memory=False.\n",
      "  if (await self.run_code(code, result,  async_=asy)):\n",
      "/home/kchuangk/.pyenv/lib/python3.6/site-packages/IPython/core/interactiveshell.py:3248: DtypeWarning: Columns (101,102) have mixed types. Specify dtype option on import or set low_memory=False.\n",
      "  if (await self.run_code(code, result,  async_=asy)):\n"
     ]
    },
    {
     "ename": "KeyError",
     "evalue": "\"['underride' 'vpavetype'] not found in axis\"",
     "output_type": "error",
     "traceback": [
      "\u001b[0;31m---------------------------------------------------------------------------\u001b[0m",
      "\u001b[0;31mKeyError\u001b[0m                                  Traceback (most recent call last)",
      "\u001b[0;32m<ipython-input-110-45e036175a08>\u001b[0m in \u001b[0;36m<module>\u001b[0;34m\u001b[0m\n\u001b[1;32m      3\u001b[0m \u001b[0mvehicle\u001b[0m\u001b[0;34m=\u001b[0m\u001b[0mkc\u001b[0m\u001b[0;34m.\u001b[0m\u001b[0mgetalldata\u001b[0m\u001b[0;34m(\u001b[0m\u001b[0;34m'vehicle.csv'\u001b[0m\u001b[0;34m)\u001b[0m\u001b[0;34m\u001b[0m\u001b[0;34m\u001b[0m\u001b[0m\n\u001b[1;32m      4\u001b[0m \u001b[0mvehicle\u001b[0m\u001b[0;34m=\u001b[0m\u001b[0mkc\u001b[0m\u001b[0;34m.\u001b[0m\u001b[0mremoveUnneededColumns\u001b[0m\u001b[0;34m(\u001b[0m\u001b[0mvehicle\u001b[0m\u001b[0;34m,\u001b[0m\u001b[0;34m'vehicle'\u001b[0m\u001b[0;34m)\u001b[0m\u001b[0;34m\u001b[0m\u001b[0;34m\u001b[0m\u001b[0m\n\u001b[0;32m----> 5\u001b[0;31m \u001b[0mvehicle\u001b[0m\u001b[0;34m=\u001b[0m\u001b[0mvehicle\u001b[0m\u001b[0;34m.\u001b[0m\u001b[0mdrop\u001b[0m\u001b[0;34m(\u001b[0m\u001b[0;34m[\u001b[0m\u001b[0;34m'unittype'\u001b[0m\u001b[0;34m,\u001b[0m\u001b[0;34m'spec_use'\u001b[0m\u001b[0;34m,\u001b[0m\u001b[0;34m'underride'\u001b[0m\u001b[0;34m,\u001b[0m \u001b[0;34m'vpavetype'\u001b[0m\u001b[0;34m]\u001b[0m\u001b[0;34m,\u001b[0m\u001b[0maxis\u001b[0m\u001b[0;34m=\u001b[0m\u001b[0;36m1\u001b[0m\u001b[0;34m)\u001b[0m   \u001b[0;31m# columns dropped from lack of variance in additional EDA\u001b[0m\u001b[0;34m\u001b[0m\u001b[0;34m\u001b[0m\u001b[0m\n\u001b[0m\u001b[1;32m      6\u001b[0m \u001b[0;31m# map the variables into bins/translations\u001b[0m\u001b[0;34m\u001b[0m\u001b[0;34m\u001b[0m\u001b[0;34m\u001b[0m\u001b[0m\n\u001b[1;32m      7\u001b[0m \u001b[0mvehicle\u001b[0m\u001b[0;34m=\u001b[0m\u001b[0mvehicle\u001b[0m\u001b[0;34m.\u001b[0m\u001b[0mloc\u001b[0m\u001b[0;34m[\u001b[0m\u001b[0;34m(\u001b[0m\u001b[0mvehicle\u001b[0m\u001b[0;34m.\u001b[0m\u001b[0mveh_no\u001b[0m\u001b[0;34m<=\u001b[0m\u001b[0;36m4\u001b[0m\u001b[0;34m)\u001b[0m\u001b[0;34m,\u001b[0m\u001b[0;34m:\u001b[0m\u001b[0;34m]\u001b[0m\u001b[0;34m\u001b[0m\u001b[0;34m\u001b[0m\u001b[0m\n",
      "\u001b[0;32m~/.pyenv/lib/python3.6/site-packages/pandas/core/frame.py\u001b[0m in \u001b[0;36mdrop\u001b[0;34m(self, labels, axis, index, columns, level, inplace, errors)\u001b[0m\n\u001b[1;32m   3938\u001b[0m                                            \u001b[0mindex\u001b[0m\u001b[0;34m=\u001b[0m\u001b[0mindex\u001b[0m\u001b[0;34m,\u001b[0m \u001b[0mcolumns\u001b[0m\u001b[0;34m=\u001b[0m\u001b[0mcolumns\u001b[0m\u001b[0;34m,\u001b[0m\u001b[0;34m\u001b[0m\u001b[0;34m\u001b[0m\u001b[0m\n\u001b[1;32m   3939\u001b[0m                                            \u001b[0mlevel\u001b[0m\u001b[0;34m=\u001b[0m\u001b[0mlevel\u001b[0m\u001b[0;34m,\u001b[0m \u001b[0minplace\u001b[0m\u001b[0;34m=\u001b[0m\u001b[0minplace\u001b[0m\u001b[0;34m,\u001b[0m\u001b[0;34m\u001b[0m\u001b[0;34m\u001b[0m\u001b[0m\n\u001b[0;32m-> 3940\u001b[0;31m                                            errors=errors)\n\u001b[0m\u001b[1;32m   3941\u001b[0m \u001b[0;34m\u001b[0m\u001b[0m\n\u001b[1;32m   3942\u001b[0m     @rewrite_axis_style_signature('mapper', [('copy', True),\n",
      "\u001b[0;32m~/.pyenv/lib/python3.6/site-packages/pandas/core/generic.py\u001b[0m in \u001b[0;36mdrop\u001b[0;34m(self, labels, axis, index, columns, level, inplace, errors)\u001b[0m\n\u001b[1;32m   3778\u001b[0m         \u001b[0;32mfor\u001b[0m \u001b[0maxis\u001b[0m\u001b[0;34m,\u001b[0m \u001b[0mlabels\u001b[0m \u001b[0;32min\u001b[0m \u001b[0maxes\u001b[0m\u001b[0;34m.\u001b[0m\u001b[0mitems\u001b[0m\u001b[0;34m(\u001b[0m\u001b[0;34m)\u001b[0m\u001b[0;34m:\u001b[0m\u001b[0;34m\u001b[0m\u001b[0;34m\u001b[0m\u001b[0m\n\u001b[1;32m   3779\u001b[0m             \u001b[0;32mif\u001b[0m \u001b[0mlabels\u001b[0m \u001b[0;32mis\u001b[0m \u001b[0;32mnot\u001b[0m \u001b[0;32mNone\u001b[0m\u001b[0;34m:\u001b[0m\u001b[0;34m\u001b[0m\u001b[0;34m\u001b[0m\u001b[0m\n\u001b[0;32m-> 3780\u001b[0;31m                 \u001b[0mobj\u001b[0m \u001b[0;34m=\u001b[0m \u001b[0mobj\u001b[0m\u001b[0;34m.\u001b[0m\u001b[0m_drop_axis\u001b[0m\u001b[0;34m(\u001b[0m\u001b[0mlabels\u001b[0m\u001b[0;34m,\u001b[0m \u001b[0maxis\u001b[0m\u001b[0;34m,\u001b[0m \u001b[0mlevel\u001b[0m\u001b[0;34m=\u001b[0m\u001b[0mlevel\u001b[0m\u001b[0;34m,\u001b[0m \u001b[0merrors\u001b[0m\u001b[0;34m=\u001b[0m\u001b[0merrors\u001b[0m\u001b[0;34m)\u001b[0m\u001b[0;34m\u001b[0m\u001b[0;34m\u001b[0m\u001b[0m\n\u001b[0m\u001b[1;32m   3781\u001b[0m \u001b[0;34m\u001b[0m\u001b[0m\n\u001b[1;32m   3782\u001b[0m         \u001b[0;32mif\u001b[0m \u001b[0minplace\u001b[0m\u001b[0;34m:\u001b[0m\u001b[0;34m\u001b[0m\u001b[0;34m\u001b[0m\u001b[0m\n",
      "\u001b[0;32m~/.pyenv/lib/python3.6/site-packages/pandas/core/generic.py\u001b[0m in \u001b[0;36m_drop_axis\u001b[0;34m(self, labels, axis, level, errors)\u001b[0m\n\u001b[1;32m   3810\u001b[0m                 \u001b[0mnew_axis\u001b[0m \u001b[0;34m=\u001b[0m \u001b[0maxis\u001b[0m\u001b[0;34m.\u001b[0m\u001b[0mdrop\u001b[0m\u001b[0;34m(\u001b[0m\u001b[0mlabels\u001b[0m\u001b[0;34m,\u001b[0m \u001b[0mlevel\u001b[0m\u001b[0;34m=\u001b[0m\u001b[0mlevel\u001b[0m\u001b[0;34m,\u001b[0m \u001b[0merrors\u001b[0m\u001b[0;34m=\u001b[0m\u001b[0merrors\u001b[0m\u001b[0;34m)\u001b[0m\u001b[0;34m\u001b[0m\u001b[0;34m\u001b[0m\u001b[0m\n\u001b[1;32m   3811\u001b[0m             \u001b[0;32melse\u001b[0m\u001b[0;34m:\u001b[0m\u001b[0;34m\u001b[0m\u001b[0;34m\u001b[0m\u001b[0m\n\u001b[0;32m-> 3812\u001b[0;31m                 \u001b[0mnew_axis\u001b[0m \u001b[0;34m=\u001b[0m \u001b[0maxis\u001b[0m\u001b[0;34m.\u001b[0m\u001b[0mdrop\u001b[0m\u001b[0;34m(\u001b[0m\u001b[0mlabels\u001b[0m\u001b[0;34m,\u001b[0m \u001b[0merrors\u001b[0m\u001b[0;34m=\u001b[0m\u001b[0merrors\u001b[0m\u001b[0;34m)\u001b[0m\u001b[0;34m\u001b[0m\u001b[0;34m\u001b[0m\u001b[0m\n\u001b[0m\u001b[1;32m   3813\u001b[0m             \u001b[0mresult\u001b[0m \u001b[0;34m=\u001b[0m \u001b[0mself\u001b[0m\u001b[0;34m.\u001b[0m\u001b[0mreindex\u001b[0m\u001b[0;34m(\u001b[0m\u001b[0;34m**\u001b[0m\u001b[0;34m{\u001b[0m\u001b[0maxis_name\u001b[0m\u001b[0;34m:\u001b[0m \u001b[0mnew_axis\u001b[0m\u001b[0;34m}\u001b[0m\u001b[0;34m)\u001b[0m\u001b[0;34m\u001b[0m\u001b[0;34m\u001b[0m\u001b[0m\n\u001b[1;32m   3814\u001b[0m \u001b[0;34m\u001b[0m\u001b[0m\n",
      "\u001b[0;32m~/.pyenv/lib/python3.6/site-packages/pandas/core/indexes/base.py\u001b[0m in \u001b[0;36mdrop\u001b[0;34m(self, labels, errors)\u001b[0m\n\u001b[1;32m   4963\u001b[0m             \u001b[0;32mif\u001b[0m \u001b[0merrors\u001b[0m \u001b[0;34m!=\u001b[0m \u001b[0;34m'ignore'\u001b[0m\u001b[0;34m:\u001b[0m\u001b[0;34m\u001b[0m\u001b[0;34m\u001b[0m\u001b[0m\n\u001b[1;32m   4964\u001b[0m                 raise KeyError(\n\u001b[0;32m-> 4965\u001b[0;31m                     '{} not found in axis'.format(labels[mask]))\n\u001b[0m\u001b[1;32m   4966\u001b[0m             \u001b[0mindexer\u001b[0m \u001b[0;34m=\u001b[0m \u001b[0mindexer\u001b[0m\u001b[0;34m[\u001b[0m\u001b[0;34m~\u001b[0m\u001b[0mmask\u001b[0m\u001b[0;34m]\u001b[0m\u001b[0;34m\u001b[0m\u001b[0;34m\u001b[0m\u001b[0m\n\u001b[1;32m   4967\u001b[0m         \u001b[0;32mreturn\u001b[0m \u001b[0mself\u001b[0m\u001b[0;34m.\u001b[0m\u001b[0mdelete\u001b[0m\u001b[0;34m(\u001b[0m\u001b[0mindexer\u001b[0m\u001b[0;34m)\u001b[0m\u001b[0;34m\u001b[0m\u001b[0;34m\u001b[0m\u001b[0m\n",
      "\u001b[0;31mKeyError\u001b[0m: \"['underride' 'vpavetype'] not found in axis\""
     ]
    }
   ],
   "source": [
    "reload(kc)\n",
    "#kc.createDataDictForTranslation()\n",
    "vehicle=kc.getalldata('vehicle.csv')\n",
    "vehicle=kc.removeUnneededColumns(vehicle,'vehicle')\n",
    "vehicle=vehicle.drop(['unittype','spec_use','underride', 'vpavetype'],axis=1)   # columns dropped from lack of variance in additional EDA\n",
    "# map the variables into bins/translations\n",
    "vehicle=vehicle.loc[(vehicle.veh_no<=4),:]\n",
    "vehicle=kc.translateVarsFromDict(vehicle,kc.createDataDictForTranslation('vehicle'))\n",
    "vehicle['veh_no']=['veh'+str(int(i)) for i in vehicle.veh_no]\n",
    "vehicle=kc.pivot_and_chunk(vehicle)"
   ]
  },
  {
   "cell_type": "code",
   "execution_count": null,
   "metadata": {},
   "outputs": [],
   "source": [
    "vehicle.columns"
   ]
  },
  {
   "cell_type": "code",
   "execution_count": null,
   "metadata": {},
   "outputs": [],
   "source": [
    "# remove variables not to expand\n",
    "cols=vehicle.columns.tolist()\n",
    "for k,v in kc.createDataDictForTranslation().items():   # filtering out only columns to be binarized\n",
    "    if k in kc.checkDataDictForType(SourceFile='vehicle',return_type='numeric'):\n",
    "        for i in range(1,5):\n",
    "            cols.remove(k+'$veh'+str(i))"
   ]
  },
  {
   "cell_type": "code",
   "execution_count": null,
   "metadata": {},
   "outputs": [],
   "source": [
    "# binarize the variables\n",
    "vehicle=kc.binarizeVariables(vehicle,cols,500)\n",
    "# vehicles is ready for merging\n",
    "vehicle.head()"
   ]
  },
  {
   "cell_type": "markdown",
   "metadata": {},
   "source": [
    "# **PLEASE LOOK - Use the workflow below to process to file as a template**"
   ]
  },
  {
   "cell_type": "code",
   "execution_count": 5,
   "metadata": {},
   "outputs": [
    {
     "data": {
      "text/plain": [
       "<module 'kc_functions' from '/home/kchuangk/Documents/Classes/W210 - Capstone/NYCTrafficCollisions/kc/kc_functions.py'>"
      ]
     },
     "execution_count": 5,
     "metadata": {},
     "output_type": "execute_result"
    }
   ],
   "source": [
    "from importlib import reload\n",
    "import kc_functions as kc\n",
    "reload(kc)"
   ]
  },
  {
   "cell_type": "code",
   "execution_count": 7,
   "metadata": {},
   "outputs": [
    {
     "name": "stderr",
     "output_type": "stream",
     "text": [
      "/home/kchuangk/.pyenv/lib/python3.6/site-packages/IPython/core/interactiveshell.py:3248: DtypeWarning: Columns (36,37) have mixed types. Specify dtype option on import or set low_memory=False.\n",
      "  if (await self.run_code(code, result,  async_=asy)):\n",
      "/home/kchuangk/.pyenv/lib/python3.6/site-packages/IPython/core/interactiveshell.py:3248: DtypeWarning: Columns (36,37,102) have mixed types. Specify dtype option on import or set low_memory=False.\n",
      "  if (await self.run_code(code, result,  async_=asy)):\n",
      "/home/kchuangk/.pyenv/lib/python3.6/site-packages/IPython/core/interactiveshell.py:3248: DtypeWarning: Columns (101,102) have mixed types. Specify dtype option on import or set low_memory=False.\n",
      "  if (await self.run_code(code, result,  async_=asy)):\n",
      "/home/kchuangk/Documents/Classes/W210 - Capstone/NYCTrafficCollisions/kc/kc_functions.py:490: RuntimeWarning: Mean of empty slice\n",
      "  dftmp[z.group(1)+'$'+z.group(2) + '$' + c]=f(r,axis=1)\n"
     ]
    }
   ],
   "source": [
    "from importlib import reload\n",
    "import kc_functions as kc\n",
    "\n",
    "reload(kc)\n",
    "#kc.createDataDictForTranslation()\n",
    "vehicle=kc.getalldata('vehicle.csv')\n",
    "vehicle=kc.removeUnneededColumns(vehicle,'vehicle')\n",
    "vehicle=vehicle.drop(['unittype','spec_use','underide','vpavetyp'],axis=1)   # columns dropped from lack of variance in additional EDA\n",
    "# map the variables into bins/translations\n",
    "vehicle=vehicle.loc[(vehicle.veh_no<=4),:]\n",
    "vehicle=kc.translateVarsFromDict(vehicle,kc.createDataDictForTranslation('vehicle'))\n",
    "vehicle['veh_no']=['veh'+str(int(i)) for i in vehicle.veh_no]\n",
    "vehicle=kc.pivot_and_chunk(vehicle)\n",
    "# remove variables not to expand\n",
    "cols=vehicle.columns.tolist()\n",
    "for k,v in kc.createDataDictForTranslation().items():   # filtering out only columns to be binarized\n",
    "    if k in kc.checkDataDictForType(SourceFile='vehicle',return_type='numeric'):\n",
    "        for i in range(1,5):\n",
    "            cols.remove(k+'$veh'+str(i))\n",
    "vehicle=kc.binarizeVariables(vehicle,cols,500)    # binarize the columns\n",
    "vehicle=kc.addSummaryStats(vehicle,functions=[np.nanmean,np.nansum,np.any],postfixes=['mean','sum','any']).replace({True:1,False:0})"
   ]
  },
  {
   "cell_type": "code",
   "execution_count": 9,
   "metadata": {},
   "outputs": [],
   "source": [
    "#vehicle.head().T"
   ]
  },
  {
   "cell_type": "code",
   "execution_count": 10,
   "metadata": {},
   "outputs": [],
   "source": [
    "# procedure to load the file all the way to prepped\n",
    "\n",
    "reload(kc)\n",
    "veh_aux=kc.getalldata('veh_aux.csv')  # load all year's data and add id\n",
    "veh_aux=kc.removeUnneededColumns(veh_aux,'veh_aux',['veh_no'])  # keep veh_no\n",
    "#veh_aux=kc.drop([],axis=1) # drop additional columns from deeper EDA for lack of variance ien the variables\n",
    "veh_aux=veh_aux.loc[(veh_aux.veh_no<=4),:]    # filter only veh_no <=4\n",
    "veh_aux=kc.translateVarsFromDict(veh_aux,kc.createDataDictForTranslation('veh_aux'))   #remap the values from FARS to ours own values\n",
    "veh_aux['veh_no']=['veh'+str(int(i)) for i in veh_aux.veh_no]    # make veh_no a string instead\n",
    "veh_aux=kc.pivot_and_chunk(veh_aux)    # pivot the veh_no from values into columns headers (expanding number of columns by columns * veh_no.unique()\n",
    "cols=veh_aux.columns.tolist()          # Filtering out columns to binarized -- only categorical columns\n",
    "for k,v in kc.createDataDictForTranslation().items():\n",
    "    if k in kc.checkDataDictForType(SourceFile='veh_aux',return_type='numeric'):\n",
    "        for i in range(1,5):\n",
    "            cols.remove(k+'$veh'+str(i))\n",
    "veh_aux=kc.binarizeVariables(veh_aux,cols,500)    # binarize the columns\n",
    "veh_aux=kc.addSummaryStats(veh_aux,functions=[np.nanmean,np.nansum,np.any],postfixes=['mean','sum','any']).replace({True:1,False:0})"
   ]
  },
  {
   "cell_type": "code",
   "execution_count": 11,
   "metadata": {},
   "outputs": [
    {
     "data": {
      "text/html": [
       "<div>\n",
       "<style scoped>\n",
       "    .dataframe tbody tr th:only-of-type {\n",
       "        vertical-align: middle;\n",
       "    }\n",
       "\n",
       "    .dataframe tbody tr th {\n",
       "        vertical-align: top;\n",
       "    }\n",
       "\n",
       "    .dataframe thead th {\n",
       "        text-align: right;\n",
       "    }\n",
       "</style>\n",
       "<table border=\"1\" class=\"dataframe\">\n",
       "  <thead>\n",
       "    <tr style=\"text-align: right;\">\n",
       "      <th></th>\n",
       "      <th>a_drdro$veh1_No</th>\n",
       "      <th>a_drdro$veh1_Drowsy Driver</th>\n",
       "      <th>a_drdro$veh2_No</th>\n",
       "      <th>a_drdro$veh2_Drowsy Driver</th>\n",
       "      <th>a_drdro$veh3_No</th>\n",
       "      <th>a_drdro$veh3_Drowsy Driver</th>\n",
       "      <th>a_drdro$veh4_No</th>\n",
       "      <th>a_drdro$veh4_Drowsy Driver</th>\n",
       "      <th>a_imp1$veh1_Front 26,495 28,055 27,753 27,373 29,963</th>\n",
       "      <th>a_imp1$veh1_Non-Collision 3,442 3,426 3,144 3,084 3,262</th>\n",
       "      <th>...</th>\n",
       "      <th>a_imp1$Left Side 4,511 4,590 4,369 4,504 4,841$any</th>\n",
       "      <th>a_imp1$Non-Collision 3,442 3,426 3,144 3,084 3,262$mean</th>\n",
       "      <th>a_imp1$Non-Collision 3,442 3,426 3,144 3,084 3,262$sum</th>\n",
       "      <th>a_imp1$Non-Collision 3,442 3,426 3,144 3,084 3,262$any</th>\n",
       "      <th>a_lic_s$Invalid$mean</th>\n",
       "      <th>a_lic_s$Invalid$sum</th>\n",
       "      <th>a_lic_s$Invalid$any</th>\n",
       "      <th>a_lic_s$Not Applicable$mean</th>\n",
       "      <th>a_lic_s$Not Applicable$sum</th>\n",
       "      <th>a_lic_s$Not Applicable$any</th>\n",
       "    </tr>\n",
       "    <tr>\n",
       "      <th>id</th>\n",
       "      <th></th>\n",
       "      <th></th>\n",
       "      <th></th>\n",
       "      <th></th>\n",
       "      <th></th>\n",
       "      <th></th>\n",
       "      <th></th>\n",
       "      <th></th>\n",
       "      <th></th>\n",
       "      <th></th>\n",
       "      <th></th>\n",
       "      <th></th>\n",
       "      <th></th>\n",
       "      <th></th>\n",
       "      <th></th>\n",
       "      <th></th>\n",
       "      <th></th>\n",
       "      <th></th>\n",
       "      <th></th>\n",
       "      <th></th>\n",
       "      <th></th>\n",
       "    </tr>\n",
       "  </thead>\n",
       "  <tbody>\n",
       "    <tr>\n",
       "      <th>id_2014.100001</th>\n",
       "      <td>1</td>\n",
       "      <td>0</td>\n",
       "      <td>1</td>\n",
       "      <td>0</td>\n",
       "      <td>0</td>\n",
       "      <td>0</td>\n",
       "      <td>0</td>\n",
       "      <td>0</td>\n",
       "      <td>0</td>\n",
       "      <td>0</td>\n",
       "      <td>...</td>\n",
       "      <td>0</td>\n",
       "      <td>0.0</td>\n",
       "      <td>0</td>\n",
       "      <td>0</td>\n",
       "      <td>0.25</td>\n",
       "      <td>1</td>\n",
       "      <td>1</td>\n",
       "      <td>0.0</td>\n",
       "      <td>0</td>\n",
       "      <td>0</td>\n",
       "    </tr>\n",
       "    <tr>\n",
       "      <th>id_2014.100002</th>\n",
       "      <td>1</td>\n",
       "      <td>0</td>\n",
       "      <td>1</td>\n",
       "      <td>0</td>\n",
       "      <td>0</td>\n",
       "      <td>0</td>\n",
       "      <td>0</td>\n",
       "      <td>0</td>\n",
       "      <td>1</td>\n",
       "      <td>0</td>\n",
       "      <td>...</td>\n",
       "      <td>0</td>\n",
       "      <td>0.0</td>\n",
       "      <td>0</td>\n",
       "      <td>0</td>\n",
       "      <td>0.00</td>\n",
       "      <td>0</td>\n",
       "      <td>0</td>\n",
       "      <td>0.0</td>\n",
       "      <td>0</td>\n",
       "      <td>0</td>\n",
       "    </tr>\n",
       "    <tr>\n",
       "      <th>id_2014.100003</th>\n",
       "      <td>1</td>\n",
       "      <td>0</td>\n",
       "      <td>1</td>\n",
       "      <td>0</td>\n",
       "      <td>0</td>\n",
       "      <td>0</td>\n",
       "      <td>0</td>\n",
       "      <td>0</td>\n",
       "      <td>0</td>\n",
       "      <td>0</td>\n",
       "      <td>...</td>\n",
       "      <td>1</td>\n",
       "      <td>0.0</td>\n",
       "      <td>0</td>\n",
       "      <td>0</td>\n",
       "      <td>0.25</td>\n",
       "      <td>1</td>\n",
       "      <td>1</td>\n",
       "      <td>0.0</td>\n",
       "      <td>0</td>\n",
       "      <td>0</td>\n",
       "    </tr>\n",
       "    <tr>\n",
       "      <th>id_2014.100004</th>\n",
       "      <td>1</td>\n",
       "      <td>0</td>\n",
       "      <td>1</td>\n",
       "      <td>0</td>\n",
       "      <td>0</td>\n",
       "      <td>0</td>\n",
       "      <td>0</td>\n",
       "      <td>0</td>\n",
       "      <td>1</td>\n",
       "      <td>0</td>\n",
       "      <td>...</td>\n",
       "      <td>0</td>\n",
       "      <td>0.0</td>\n",
       "      <td>0</td>\n",
       "      <td>0</td>\n",
       "      <td>0.25</td>\n",
       "      <td>1</td>\n",
       "      <td>1</td>\n",
       "      <td>0.0</td>\n",
       "      <td>0</td>\n",
       "      <td>0</td>\n",
       "    </tr>\n",
       "    <tr>\n",
       "      <th>id_2014.100005</th>\n",
       "      <td>1</td>\n",
       "      <td>0</td>\n",
       "      <td>0</td>\n",
       "      <td>0</td>\n",
       "      <td>0</td>\n",
       "      <td>0</td>\n",
       "      <td>0</td>\n",
       "      <td>0</td>\n",
       "      <td>1</td>\n",
       "      <td>0</td>\n",
       "      <td>...</td>\n",
       "      <td>0</td>\n",
       "      <td>0.0</td>\n",
       "      <td>0</td>\n",
       "      <td>0</td>\n",
       "      <td>0.00</td>\n",
       "      <td>0</td>\n",
       "      <td>0</td>\n",
       "      <td>0.0</td>\n",
       "      <td>0</td>\n",
       "      <td>0</td>\n",
       "    </tr>\n",
       "  </tbody>\n",
       "</table>\n",
       "<p>5 rows × 84 columns</p>\n",
       "</div>"
      ],
      "text/plain": [
       "                a_drdro$veh1_No  a_drdro$veh1_Drowsy Driver  a_drdro$veh2_No  \\\n",
       "id                                                                             \n",
       "id_2014.100001                1                           0                1   \n",
       "id_2014.100002                1                           0                1   \n",
       "id_2014.100003                1                           0                1   \n",
       "id_2014.100004                1                           0                1   \n",
       "id_2014.100005                1                           0                0   \n",
       "\n",
       "                a_drdro$veh2_Drowsy Driver  a_drdro$veh3_No  \\\n",
       "id                                                            \n",
       "id_2014.100001                           0                0   \n",
       "id_2014.100002                           0                0   \n",
       "id_2014.100003                           0                0   \n",
       "id_2014.100004                           0                0   \n",
       "id_2014.100005                           0                0   \n",
       "\n",
       "                a_drdro$veh3_Drowsy Driver  a_drdro$veh4_No  \\\n",
       "id                                                            \n",
       "id_2014.100001                           0                0   \n",
       "id_2014.100002                           0                0   \n",
       "id_2014.100003                           0                0   \n",
       "id_2014.100004                           0                0   \n",
       "id_2014.100005                           0                0   \n",
       "\n",
       "                a_drdro$veh4_Drowsy Driver  \\\n",
       "id                                           \n",
       "id_2014.100001                           0   \n",
       "id_2014.100002                           0   \n",
       "id_2014.100003                           0   \n",
       "id_2014.100004                           0   \n",
       "id_2014.100005                           0   \n",
       "\n",
       "                a_imp1$veh1_Front 26,495 28,055 27,753 27,373 29,963  \\\n",
       "id                                                                     \n",
       "id_2014.100001                                                  0      \n",
       "id_2014.100002                                                  1      \n",
       "id_2014.100003                                                  0      \n",
       "id_2014.100004                                                  1      \n",
       "id_2014.100005                                                  1      \n",
       "\n",
       "                a_imp1$veh1_Non-Collision 3,442 3,426 3,144 3,084 3,262  ...  \\\n",
       "id                                                                       ...   \n",
       "id_2014.100001                                                  0        ...   \n",
       "id_2014.100002                                                  0        ...   \n",
       "id_2014.100003                                                  0        ...   \n",
       "id_2014.100004                                                  0        ...   \n",
       "id_2014.100005                                                  0        ...   \n",
       "\n",
       "                a_imp1$Left Side 4,511 4,590 4,369 4,504 4,841$any  \\\n",
       "id                                                                   \n",
       "id_2014.100001                                                  0    \n",
       "id_2014.100002                                                  0    \n",
       "id_2014.100003                                                  1    \n",
       "id_2014.100004                                                  0    \n",
       "id_2014.100005                                                  0    \n",
       "\n",
       "                a_imp1$Non-Collision 3,442 3,426 3,144 3,084 3,262$mean  \\\n",
       "id                                                                        \n",
       "id_2014.100001                                                0.0         \n",
       "id_2014.100002                                                0.0         \n",
       "id_2014.100003                                                0.0         \n",
       "id_2014.100004                                                0.0         \n",
       "id_2014.100005                                                0.0         \n",
       "\n",
       "                a_imp1$Non-Collision 3,442 3,426 3,144 3,084 3,262$sum  \\\n",
       "id                                                                       \n",
       "id_2014.100001                                                  0        \n",
       "id_2014.100002                                                  0        \n",
       "id_2014.100003                                                  0        \n",
       "id_2014.100004                                                  0        \n",
       "id_2014.100005                                                  0        \n",
       "\n",
       "                a_imp1$Non-Collision 3,442 3,426 3,144 3,084 3,262$any  \\\n",
       "id                                                                       \n",
       "id_2014.100001                                                  0        \n",
       "id_2014.100002                                                  0        \n",
       "id_2014.100003                                                  0        \n",
       "id_2014.100004                                                  0        \n",
       "id_2014.100005                                                  0        \n",
       "\n",
       "                a_lic_s$Invalid$mean  a_lic_s$Invalid$sum  \\\n",
       "id                                                          \n",
       "id_2014.100001                  0.25                    1   \n",
       "id_2014.100002                  0.00                    0   \n",
       "id_2014.100003                  0.25                    1   \n",
       "id_2014.100004                  0.25                    1   \n",
       "id_2014.100005                  0.00                    0   \n",
       "\n",
       "                a_lic_s$Invalid$any  a_lic_s$Not Applicable$mean  \\\n",
       "id                                                                 \n",
       "id_2014.100001                    1                          0.0   \n",
       "id_2014.100002                    0                          0.0   \n",
       "id_2014.100003                    1                          0.0   \n",
       "id_2014.100004                    1                          0.0   \n",
       "id_2014.100005                    0                          0.0   \n",
       "\n",
       "                a_lic_s$Not Applicable$sum  a_lic_s$Not Applicable$any  \n",
       "id                                                                      \n",
       "id_2014.100001                           0                           0  \n",
       "id_2014.100002                           0                           0  \n",
       "id_2014.100003                           0                           0  \n",
       "id_2014.100004                           0                           0  \n",
       "id_2014.100005                           0                           0  \n",
       "\n",
       "[5 rows x 84 columns]"
      ]
     },
     "execution_count": 11,
     "metadata": {},
     "output_type": "execute_result"
    }
   ],
   "source": [
    "#veh_aux.head()\n",
    "veh_aux.head()"
   ]
  },
  {
   "cell_type": "code",
   "execution_count": 12,
   "metadata": {},
   "outputs": [
    {
     "name": "stdout",
     "output_type": "stream",
     "text": [
      "True\n",
      "131585\n"
     ]
    }
   ],
   "source": [
    "print(len(vehicle.reset_index().id.unique())==vehicle.shape[0])\n",
    "print(vehicle.shape[0])"
   ]
  },
  {
   "cell_type": "code",
   "execution_count": 13,
   "metadata": {},
   "outputs": [
    {
     "name": "stdout",
     "output_type": "stream",
     "text": [
      "True\n",
      "131585\n"
     ]
    }
   ],
   "source": [
    "print(len(veh_aux.reset_index().id.unique())==veh_aux.shape[0])\n",
    "print(veh_aux.shape[0])"
   ]
  },
  {
   "cell_type": "markdown",
   "metadata": {},
   "source": [
    "#### Merging with accident file"
   ]
  },
  {
   "cell_type": "code",
   "execution_count": 14,
   "metadata": {},
   "outputs": [],
   "source": [
    "accident=kc.getalldata()\n",
    "accident=kc.removeNoHourAndMinutes(accident)\n",
    "accident=kc.cleanLocs(accident)\n",
    "accident=kc.createTimestamp(accident)"
   ]
  },
  {
   "cell_type": "code",
   "execution_count": 15,
   "metadata": {},
   "outputs": [],
   "source": [
    "accident=kc.removeUnneededColumns(accident)"
   ]
  },
  {
   "cell_type": "code",
   "execution_count": 16,
   "metadata": {},
   "outputs": [
    {
     "data": {
      "text/plain": [
       "(129979, 19)"
      ]
     },
     "execution_count": 16,
     "metadata": {},
     "output_type": "execute_result"
    }
   ],
   "source": [
    "accident.shape"
   ]
  },
  {
   "cell_type": "code",
   "execution_count": 17,
   "metadata": {},
   "outputs": [],
   "source": [
    "accident=accident.set_index('id')\n",
    "accident=accident.join(vehicle,how='left')"
   ]
  },
  {
   "cell_type": "code",
   "execution_count": 18,
   "metadata": {},
   "outputs": [],
   "source": [
    "accident=accident.join(veh_aux,how='left')"
   ]
  },
  {
   "cell_type": "code",
   "execution_count": 19,
   "metadata": {},
   "outputs": [
    {
     "data": {
      "text/plain": [
       "(129979, 1302)"
      ]
     },
     "execution_count": 19,
     "metadata": {},
     "output_type": "execute_result"
    }
   ],
   "source": [
    "accident.shape"
   ]
  },
  {
   "cell_type": "code",
   "execution_count": 20,
   "metadata": {},
   "outputs": [
    {
     "data": {
      "text/plain": [
       "False"
      ]
     },
     "execution_count": 20,
     "metadata": {},
     "output_type": "execute_result"
    }
   ],
   "source": [
    "# check for duplicates\n",
    "any(accident.reset_index().id.duplicated())"
   ]
  },
  {
   "cell_type": "code",
   "execution_count": 21,
   "metadata": {},
   "outputs": [],
   "source": [
    "accident.to_parquet('kc_accident_vehicle_veh_aux.parquet')\n",
    "accident.to_csv('kc_accident_vehicle_veh_aux.csv')"
   ]
  },
  {
   "cell_type": "markdown",
   "metadata": {},
   "source": [
    "### create function so it vertically aligns the \"any\"s"
   ]
  },
  {
   "cell_type": "code",
   "execution_count": 3,
   "metadata": {},
   "outputs": [
    {
     "name": "stderr",
     "output_type": "stream",
     "text": [
      "/home/kchuangk/.pyenv/lib/python3.6/site-packages/sklearn/externals/six.py:31: DeprecationWarning: The module is deprecated in version 0.21 and will be removed in version 0.23 since we've dropped support for Python 2.7. Please rely on the official version of six (https://pypi.org/project/six/).\n",
      "  \"(https://pypi.org/project/six/).\", DeprecationWarning)\n",
      "/home/kchuangk/.pyenv/lib/python3.6/site-packages/sklearn/externals/joblib/__init__.py:15: DeprecationWarning: sklearn.externals.joblib is deprecated in 0.21 and will be removed in 0.23. Please import this functionality directly from joblib, which can be installed with: pip install joblib. If this warning is raised when loading pickled models, you may need to re-serialize those models with scikit-learn 0.21+.\n",
      "  warnings.warn(msg, category=DeprecationWarning)\n"
     ]
    }
   ],
   "source": [
    "import re\n",
    "import numpy as np\n",
    "import pandas as pd\n",
    "import kc_functions as kc\n",
    "accident=pd.read_parquet('kc_accident_vehicle_veh_aux.parquet')\n",
    "accident=accident.loc[:,[i for i in accident.columns.tolist() if re.search('.*?\\$.*?\\$any$',i)]]\n",
    "# make accident in long form, break out the 2 variable$category into 2 columns, sort it\n",
    "accident=accident.reset_index().melt(id_vars='id',var_name='full').assign(variable=lambda x: [ re.search('(.*?)(?:\\$.*$)',i).group(1) for i in x.full],\n",
    "                                                                         category=lambda x: [re.search('(?:.*?\\$)(.*?)(?:\\$any$)',i).group(1) for i in x.full]) \\\n",
    "                .sort_values(by='id') # .drop('full',axis=1)\n",
    "# move category of the variable back to columns and use value as the values\n",
    "# accident=accident.assign(idcat=lambda x: str(x.id) + '$'+ str(x.variable)) \\\n",
    "#                 .drop(['id','variable'],axis=1).set_index('idcat')\n",
    "# accident=accident.pivot(columns='category',values='value').to_sparse().reset_index()\n",
    "# accident=accident.assign(id=lambda x: [ re.search('(^id.*?)(?:\\$.*)',i).group(1) for i in x.idcat],\n",
    "#                        category=lambda x: [re.search('(?:^id.*?\\$)(.*$)',i).group(1) for i in x.idcat]).drop('idcat',axis=1)\n",
    "# accident.to_parquet('kc_accident_vehicle_veh_aux_filtered_any.parquet')\n",
    "accident.to_csv('kc_accident_vehicle_veh_aux_filtered_any.csv')"
   ]
  },
  {
   "cell_type": "markdown",
   "metadata": {},
   "source": [
    "#### create a list of variable where sd > 0 from any's (ie. it's not all the same number) - add 'state' to it. The output csv is used to help the creation of the Correlations Table."
   ]
  },
  {
   "cell_type": "code",
   "execution_count": 165,
   "metadata": {},
   "outputs": [],
   "source": [
    "from importlib  import reload\n",
    "import numpy as np\n",
    "import pandas as pd\n",
    "import kc_functions as kc\n",
    "import re\n",
    "\n",
    "#df=pd.read_csv('kc_tmp.csv')\n",
    "df=pd.read_parquet('kc_accident_vehicle_veh_aux.parquet')\n",
    "z=df.loc[:,[i for i in df.columns.tolist() if re.search('any$',i)]]\n",
    "k=z.apply(np.std,axis=0)\n",
    "c=k[k>0].index.tolist()\n",
    "c.append('state')\n",
    "df.loc[:,c].to_csv('kc_tmp.csv')"
   ]
  },
  {
   "cell_type": "markdown",
   "metadata": {},
   "source": [
    "### Attempt to caculate Correlations"
   ]
  },
  {
   "cell_type": "code",
   "execution_count": 14,
   "metadata": {},
   "outputs": [
    {
     "name": "stdout",
     "output_type": "stream",
     "text": [
      "All Records\n",
      "Progress  |██████████████████████████████████████████████████| 100.0% Complete\n",
      "State: 1.0\n",
      "Progress  |██████████████████████████████████████████████████| 100.0% Complete\n",
      "State: 2.0\n",
      "Progress  |██████████████████████████████████████████████████| 100.0% Complete\n",
      "State: 4.0\n",
      "Progress  |██████████████████████████████████████████████████| 100.0% Complete\n",
      "State: 5.0\n",
      "Progress  |██████████████████████████████████████████████████| 100.0% Complete\n",
      "State: 6.0\n",
      "Progress  |██████████████████████████████████████████████████| 100.0% Complete\n",
      "State: 8.0\n",
      "Progress  |██████████████████████████████████████████████████| 100.0% Complete\n",
      "State: 9.0\n",
      "Progress  |██████████████████████████████████████████████████| 100.0% Complete\n",
      "State: 10.0\n",
      "Progress  |██████████████████████████████████████████████████| 100.0% Complete\n",
      "State: 11.0\n",
      "Progress  |██████████████████████████████████████████████████| 100.0% Complete\n",
      "State: 12.0\n",
      "Progress  |██████████████████████████████████████████████████| 100.0% Complete\n",
      "State: 13.0\n",
      "Progress  |██████████████████████████████████████████████████| 100.0% Complete\n",
      "State: 15.0\n",
      "Progress  |██████████████████████████████████████████████████| 100.0% Complete\n",
      "State: 16.0\n",
      "Progress  |██████████████████████████████████████████████████| 100.0% Complete\n",
      "State: 17.0\n",
      "Progress  |██████████████████████████████████████████████████| 100.0% Complete\n",
      "State: 18.0\n",
      "Progress  |██████████████████████████████████████████████████| 100.0% Complete\n",
      "State: 19.0\n",
      "Progress  |██████████████████████████████████████████████████| 100.0% Complete\n",
      "State: 20.0\n",
      "Progress  |██████████████████████████████████████████████████| 100.0% Complete\n",
      "State: 21.0\n",
      "Progress  |██████████████████████████████████████████████████| 100.0% Complete\n",
      "State: 22.0\n",
      "Progress  |██████████████████████████████████████████████████| 100.0% Complete\n",
      "State: 23.0\n",
      "Progress  |██████████████████████████████████████████████████| 100.0% Complete\n",
      "State: 24.0\n",
      "Progress  |██████████████████████████████████████████████████| 100.0% Complete\n",
      "State: 25.0\n",
      "Progress  |██████████████████████████████████████████████████| 100.0% Complete\n",
      "State: 26.0\n",
      "Progress  |██████████████████████████████████████████████████| 100.0% Complete\n",
      "State: 27.0\n",
      "Progress  |██████████████████████████████████████████████████| 100.0% Complete\n",
      "State: 28.0\n",
      "Progress  |██████████████████████████████████████████████████| 100.0% Complete\n",
      "State: 29.0\n",
      "Progress  |██████████████████████████████████████████████████| 100.0% Complete\n",
      "State: 30.0\n",
      "Progress  |██████████████████████████████████████████████████| 100.0% Complete\n",
      "State: 31.0\n",
      "Progress  |██████████████████████████████████████████████████| 100.0% Complete\n",
      "State: 32.0\n",
      "Progress  |██████████████████████████████████████████████████| 100.0% Complete\n",
      "State: 33.0\n",
      "Progress  |██████████████████████████████████████████████████| 100.0% Complete\n",
      "State: 34.0\n",
      "Progress  |██████████████████████████████████████████████████| 100.0% Complete\n",
      "State: 35.0\n",
      "Progress  |██████████████████████████████████████████████████| 100.0% Complete\n",
      "State: 36.0\n",
      "Progress  |██████████████████████████████████████████████████| 100.0% Complete\n",
      "State: 37.0\n",
      "Progress  |██████████████████████████████████████████████████| 100.0% Complete\n",
      "State: 38.0\n",
      "Progress  |██████████████████████████████████████████████████| 100.0% Complete\n",
      "State: 39.0\n",
      "Progress  |██████████████████████████████████████████████████| 100.0% Complete\n",
      "State: 40.0\n",
      "Progress  |██████████████████████████████████████████████████| 100.0% Complete\n",
      "State: 41.0\n",
      "Progress  |██████████████████████████████████████████████████| 100.0% Complete\n",
      "State: 42.0\n",
      "Progress  |██████████████████████████████████████████████████| 100.0% Complete\n",
      "State: 44.0\n",
      "Progress  |██████████████████████████████████████████████████| 100.0% Complete\n",
      "State: 45.0\n",
      "Progress  |██████████████████████████████████████████████████| 100.0% Complete\n",
      "State: 46.0\n",
      "Progress  |██████████████████████████████████████████████████| 100.0% Complete\n",
      "State: 47.0\n",
      "Progress  |██████████████████████████████████████████████████| 100.0% Complete\n",
      "State: 48.0\n",
      "Progress  |██████████████████████████████████████████████████| 100.0% Complete\n",
      "State: 49.0\n",
      "Progress  |██████████████████████████████████████████████████| 100.0% Complete\n",
      "State: 50.0\n",
      "Progress  |██████████████████████████████████████████████████| 100.0% Complete\n",
      "State: 51.0\n",
      "Progress  |██████████████████████████████████████████████████| 100.0% Complete\n",
      "State: 53.0\n",
      "Progress  |██████████████████████████████████████████████████| 100.0% Complete\n",
      "State: 54.0\n",
      "Progress  |██████████████████████████████████████████████████| 100.0% Complete\n",
      "State: 55.0\n",
      "Progress  |██████████████████████████████████████████████████| 100.0% Complete\n",
      "State: 56.0\n",
      "Progress  |██████████████████████████████████████████████████| 100.0% Complete\n"
     ]
    }
   ],
   "source": [
    "from importlib import reload\n",
    "import kc_functions as kc\n",
    "reload(kc)\n",
    "\n",
    "df=pd.read_csv('kc_tmp.csv').set_index('id')\n",
    "df['state']=df.state\n",
    "df=kc.calcCorrMatrix(df)  # probably better to use kendall's tau since there are NAs\n",
    "df.to_csv('kc_corr.csv')"
   ]
  },
  {
   "cell_type": "code",
   "execution_count": 3,
   "metadata": {},
   "outputs": [],
   "source": [
    "import re\n",
    "df=pd.read_csv('kc_corr.csv').drop(['Unnamed: 0','full'], \\\n",
    "                                   axis=1).assign(correlation=lambda x: \\\n",
    "                                                  [ float(re.search(r'(?:correlation=)(.*?),.*',str(i)).group(1))  \\\n",
    "                                                   if re.search(r'(?:correlation=)(.*?),.*',str(i)) else 0 \\\n",
    "                                                   for i in x.value ],\n",
    "                                                 pvalue=lambda x:\n",
    "                                                 [ float(re.search(r'(?:pvalue=)(.*?)\\)$',str(i)).group(1)) \\\n",
    "                                                  if re.search(r'(?:pvalue=)(.*?)\\)$',str(i)) else 1 \\\n",
    "                                                  for i in x.value])"
   ]
  },
  {
   "cell_type": "code",
   "execution_count": 135,
   "metadata": {},
   "outputs": [],
   "source": [
    "# df.loc[(df.pvalue<1) & (df.state==0) & (df.correlation>0) & (df.correlation<1.5) & \\\n",
    "#        ([False if re.search('[model|]',i) else True for i in df.prim_var]) & \\\n",
    "#        ([False if re.search('[model|]',i) else True for i in df.variable])  \\\n",
    "#        ,:].sort_values('correlation',ascending=False)"
   ]
  },
  {
   "cell_type": "code",
   "execution_count": 133,
   "metadata": {},
   "outputs": [],
   "source": [
    "#df.loc[([True if re.search('rollover',i) else False for i in df.prim_var]) \\\n",
    "#       and  ([False if re.search('rollover',i) else True for i in df.variable]),:].sort_values('correlation')"
   ]
  },
  {
   "cell_type": "code",
   "execution_count": 62,
   "metadata": {},
   "outputs": [
    {
     "data": {
      "text/html": [
       "<div>\n",
       "<style scoped>\n",
       "    .dataframe tbody tr th:only-of-type {\n",
       "        vertical-align: middle;\n",
       "    }\n",
       "\n",
       "    .dataframe tbody tr th {\n",
       "        vertical-align: top;\n",
       "    }\n",
       "\n",
       "    .dataframe thead th {\n",
       "        text-align: right;\n",
       "    }\n",
       "</style>\n",
       "<table border=\"1\" class=\"dataframe\">\n",
       "  <thead>\n",
       "    <tr style=\"text-align: right;\">\n",
       "      <th></th>\n",
       "      <th>prim_var</th>\n",
       "      <th>variable</th>\n",
       "      <th>value</th>\n",
       "      <th>state</th>\n",
       "      <th>full</th>\n",
       "    </tr>\n",
       "  </thead>\n",
       "  <tbody>\n",
       "    <tr>\n",
       "      <th>0</th>\n",
       "      <td>trav_sp$$any</td>\n",
       "      <td>trav_sp$$any</td>\n",
       "      <td>NaN</td>\n",
       "      <td>0.0</td>\n",
       "      <td>trav_sp$$any-trav_sp$$any</td>\n",
       "    </tr>\n",
       "    <tr>\n",
       "      <th>1</th>\n",
       "      <td>owner$Private Owner$any</td>\n",
       "      <td>trav_sp$$any</td>\n",
       "      <td>(0.06677620998512014, 4.670048914648315e-128)</td>\n",
       "      <td>0.0</td>\n",
       "      <td>owner$Private Owner$any-trav_sp$$any</td>\n",
       "    </tr>\n",
       "    <tr>\n",
       "      <th>2</th>\n",
       "      <td>m_harm$Moving Vehicle$any</td>\n",
       "      <td>trav_sp$$any</td>\n",
       "      <td>(0.05254889438884251, 4.8671268721989235e-80)</td>\n",
       "      <td>0.0</td>\n",
       "      <td>m_harm$Moving Vehicle$any-trav_sp$$any</td>\n",
       "    </tr>\n",
       "    <tr>\n",
       "      <th>3</th>\n",
       "      <td>owner$Business/Government/Company Vehicle$any</td>\n",
       "      <td>trav_sp$$any</td>\n",
       "      <td>(0.012403656512436459, 7.758038271703741e-06)</td>\n",
       "      <td>0.0</td>\n",
       "      <td>owner$Business/Government/Company Vehicle$any-...</td>\n",
       "    </tr>\n",
       "    <tr>\n",
       "      <th>4</th>\n",
       "      <td>m_harm$Other$any</td>\n",
       "      <td>trav_sp$$any</td>\n",
       "      <td>(-0.02928161652504676, 4.7359779676803e-26)</td>\n",
       "      <td>0.0</td>\n",
       "      <td>m_harm$Other$any-trav_sp$$any</td>\n",
       "    </tr>\n",
       "  </tbody>\n",
       "</table>\n",
       "</div>"
      ],
      "text/plain": [
       "                                        prim_var      variable  \\\n",
       "0                                   trav_sp$$any  trav_sp$$any   \n",
       "1                        owner$Private Owner$any  trav_sp$$any   \n",
       "2                      m_harm$Moving Vehicle$any  trav_sp$$any   \n",
       "3  owner$Business/Government/Company Vehicle$any  trav_sp$$any   \n",
       "4                               m_harm$Other$any  trav_sp$$any   \n",
       "\n",
       "                                           value  state  \\\n",
       "0                                            NaN    0.0   \n",
       "1  (0.06677620998512014, 4.670048914648315e-128)    0.0   \n",
       "2  (0.05254889438884251, 4.8671268721989235e-80)    0.0   \n",
       "3  (0.012403656512436459, 7.758038271703741e-06)    0.0   \n",
       "4    (-0.02928161652504676, 4.7359779676803e-26)    0.0   \n",
       "\n",
       "                                                full  \n",
       "0                          trav_sp$$any-trav_sp$$any  \n",
       "1               owner$Private Owner$any-trav_sp$$any  \n",
       "2             m_harm$Moving Vehicle$any-trav_sp$$any  \n",
       "3  owner$Business/Government/Company Vehicle$any-...  \n",
       "4                      m_harm$Other$any-trav_sp$$any  "
      ]
     },
     "execution_count": 62,
     "metadata": {},
     "output_type": "execute_result"
    }
   ],
   "source": []
  },
  {
   "cell_type": "markdown",
   "metadata": {},
   "source": [
    "#### Other"
   ]
  },
  {
   "cell_type": "code",
   "execution_count": 5,
   "metadata": {},
   "outputs": [
    {
     "name": "stderr",
     "output_type": "stream",
     "text": [
      "/home/kchuangk/.pyenv/lib/python3.6/site-packages/sklearn/externals/six.py:31: DeprecationWarning: The module is deprecated in version 0.21 and will be removed in version 0.23 since we've dropped support for Python 2.7. Please rely on the official version of six (https://pypi.org/project/six/).\n",
      "  \"(https://pypi.org/project/six/).\", DeprecationWarning)\n",
      "/home/kchuangk/.pyenv/lib/python3.6/site-packages/sklearn/externals/joblib/__init__.py:15: DeprecationWarning: sklearn.externals.joblib is deprecated in 0.21 and will be removed in 0.23. Please import this functionality directly from joblib, which can be installed with: pip install joblib. If this warning is raised when loading pickled models, you may need to re-serialize those models with scikit-learn 0.21+.\n",
      "  warnings.warn(msg, category=DeprecationWarning)\n"
     ]
    },
    {
     "data": {
      "text/plain": [
       "<module 'kc_functions' from '/home/kchuangk/Documents/Classes/W210 - Capstone/NYCTrafficCollisions/kc/kc_functions.py'>"
      ]
     },
     "execution_count": 5,
     "metadata": {},
     "output_type": "execute_result"
    }
   ],
   "source": [
    "from importlib import reload\n",
    "import numpy as np\n",
    "import pandas as np\n",
    "import kc_functions as kc\n",
    "reload(kc)"
   ]
  },
  {
   "cell_type": "code",
   "execution_count": 7,
   "metadata": {},
   "outputs": [],
   "source": [
    "df=pd.read_parquet('kc_accident_vehicle_veh_aux.parquet')"
   ]
  },
  {
   "cell_type": "code",
   "execution_count": 9,
   "metadata": {},
   "outputs": [
    {
     "name": "stderr",
     "output_type": "stream",
     "text": [
      "/home/kchuangk/.pyenv/lib/python3.6/site-packages/IPython/core/interactiveshell.py:3248: DtypeWarning: Columns (36,37) have mixed types. Specify dtype option on import or set low_memory=False.\n",
      "  if (await self.run_code(code, result,  async_=asy)):\n",
      "/home/kchuangk/.pyenv/lib/python3.6/site-packages/IPython/core/interactiveshell.py:3248: DtypeWarning: Columns (36,37,102) have mixed types. Specify dtype option on import or set low_memory=False.\n",
      "  if (await self.run_code(code, result,  async_=asy)):\n",
      "/home/kchuangk/.pyenv/lib/python3.6/site-packages/IPython/core/interactiveshell.py:3248: DtypeWarning: Columns (101,102) have mixed types. Specify dtype option on import or set low_memory=False.\n",
      "  if (await self.run_code(code, result,  async_=asy)):\n"
     ]
    },
    {
     "ename": "NameError",
     "evalue": "name 'v' is not defined",
     "output_type": "error",
     "traceback": [
      "\u001b[0;31m---------------------------------------------------------------------------\u001b[0m",
      "\u001b[0;31mNameError\u001b[0m                                 Traceback (most recent call last)",
      "\u001b[0;32m<ipython-input-9-880839d94286>\u001b[0m in \u001b[0;36m<module>\u001b[0;34m\u001b[0m\n\u001b[1;32m      6\u001b[0m \u001b[0mvehicle\u001b[0m\u001b[0;34m=\u001b[0m\u001b[0mkc\u001b[0m\u001b[0;34m.\u001b[0m\u001b[0mtranslateVarsFromDict\u001b[0m\u001b[0;34m(\u001b[0m\u001b[0mvehicle\u001b[0m\u001b[0;34m,\u001b[0m\u001b[0mkc\u001b[0m\u001b[0;34m.\u001b[0m\u001b[0mcreateDataDictForTranslation\u001b[0m\u001b[0;34m(\u001b[0m\u001b[0;34m'vehicle'\u001b[0m\u001b[0;34m)\u001b[0m\u001b[0;34m)\u001b[0m\u001b[0;34m\u001b[0m\u001b[0;34m\u001b[0m\u001b[0m\n\u001b[1;32m      7\u001b[0m \u001b[0mvehicle\u001b[0m\u001b[0;34m[\u001b[0m\u001b[0;34m'veh_no'\u001b[0m\u001b[0;34m]\u001b[0m\u001b[0;34m=\u001b[0m\u001b[0;34m[\u001b[0m\u001b[0;34m'veh'\u001b[0m\u001b[0;34m+\u001b[0m\u001b[0mstr\u001b[0m\u001b[0;34m(\u001b[0m\u001b[0mint\u001b[0m\u001b[0;34m(\u001b[0m\u001b[0mi\u001b[0m\u001b[0;34m)\u001b[0m\u001b[0;34m)\u001b[0m \u001b[0;32mfor\u001b[0m \u001b[0mi\u001b[0m \u001b[0;32min\u001b[0m \u001b[0mvehicle\u001b[0m\u001b[0;34m.\u001b[0m\u001b[0mveh_no\u001b[0m\u001b[0;34m]\u001b[0m\u001b[0;34m\u001b[0m\u001b[0;34m\u001b[0m\u001b[0m\n\u001b[0;32m----> 8\u001b[0;31m \u001b[0mv\u001b[0m\u001b[0;34m\u001b[0m\u001b[0;34m\u001b[0m\u001b[0m\n\u001b[0m",
      "\u001b[0;31mNameError\u001b[0m: name 'v' is not defined"
     ]
    }
   ],
   "source": [
    "vehicle=kc.getalldata('vehicle.csv')\n",
    "vehicle=kc.removeUnneededColumns(vehicle,'vehicle')\n",
    "vehicle=vehicle.drop(['unittype','spec_use','underide','vpavetyp'],axis=1)   # columns dropped from lack of variance in additional EDA\n",
    "# map the variables into bins/translations\n",
    "vehicle=vehicle.loc[(vehicle.veh_no<=4),:]\n",
    "vehicle=kc.translateVarsFromDict(vehicle,kc.createDataDictForTranslation('vehicle'))\n",
    "vehicle['veh_no']=['veh'+str(int(i)) for i in vehicle.veh_no]"
   ]
  },
  {
   "cell_type": "code",
   "execution_count": 10,
   "metadata": {},
   "outputs": [
    {
     "data": {
      "text/plain": [
       "['veh_no',\n",
       " 'numoccs',\n",
       " 'hit_run',\n",
       " 'reg_stat',\n",
       " 'owner',\n",
       " 'make',\n",
       " 'model',\n",
       " 'body_typ',\n",
       " 'mod_year',\n",
       " 'gvwr',\n",
       " 'trav_sp',\n",
       " 'rollover',\n",
       " 'rolinloc',\n",
       " 'deformed',\n",
       " 'm_harm',\n",
       " 'vtrafway',\n",
       " 'vnum_lan',\n",
       " 'vspd_lim',\n",
       " 'valign',\n",
       " 'vprofile',\n",
       " 'vsurcond',\n",
       " 'vtrafcon',\n",
       " 'vtcont_f',\n",
       " 'p_crash1',\n",
       " 'p_crash2',\n",
       " 'p_crash3',\n",
       " 'pcrash4',\n",
       " 'pcrash5',\n",
       " 'acc_type',\n",
       " 'id']"
      ]
     },
     "execution_count": 10,
     "metadata": {},
     "output_type": "execute_result"
    }
   ],
   "source": [
    "vehicle.columns.tolist()"
   ]
  },
  {
   "cell_type": "code",
   "execution_count": 16,
   "metadata": {},
   "outputs": [
    {
     "data": {
      "text/plain": [
       "4-Door Sedan                            0.300761\n",
       "Other                                   0.179924\n",
       "SUV                                     0.161067\n",
       "Motorcycles, Mopeds, ATVs               0.110782\n",
       "Semi-Trucks                             0.083755\n",
       "Trucks                                  0.047784\n",
       "Minivans                                0.044444\n",
       "Station Wagons (excld vans & trucks)    0.032292\n",
       "Unknown/Not Reported                    0.015396\n",
       "2-Door Sedan                            0.011637\n",
       "Convertible                             0.007316\n",
       "Buses                                   0.004841\n",
       "Name: body_typ, dtype: float64"
      ]
     },
     "execution_count": 16,
     "metadata": {},
     "output_type": "execute_result"
    }
   ],
   "source": [
    "vehicle.body_typ.value_counts()/vehicle.shape[0]"
   ]
  },
  {
   "cell_type": "code",
   "execution_count": 24,
   "metadata": {},
   "outputs": [],
   "source": [
    "z=pd.DataFrame(vehicle.columns.tolist(),columns=['FARS_variable'])"
   ]
  },
  {
   "cell_type": "code",
   "execution_count": 28,
   "metadata": {},
   "outputs": [],
   "source": [
    "z.to_excel('Fars_to_Tableau.xlsx')"
   ]
  },
  {
   "cell_type": "code",
   "execution_count": 30,
   "metadata": {},
   "outputs": [
    {
     "ename": "NameError",
     "evalue": "name 'v' is not defined",
     "output_type": "error",
     "traceback": [
      "\u001b[0;31m---------------------------------------------------------------------------\u001b[0m",
      "\u001b[0;31mNameError\u001b[0m                                 Traceback (most recent call last)",
      "\u001b[0;32m<ipython-input-30-149e64451c24>\u001b[0m in \u001b[0;36m<module>\u001b[0;34m\u001b[0m\n\u001b[1;32m      6\u001b[0m \u001b[0mveh_aux\u001b[0m\u001b[0;34m=\u001b[0m\u001b[0mkc\u001b[0m\u001b[0;34m.\u001b[0m\u001b[0mtranslateVarsFromDict\u001b[0m\u001b[0;34m(\u001b[0m\u001b[0mveh_aux\u001b[0m\u001b[0;34m,\u001b[0m\u001b[0mkc\u001b[0m\u001b[0;34m.\u001b[0m\u001b[0mcreateDataDictForTranslation\u001b[0m\u001b[0;34m(\u001b[0m\u001b[0;34m'veh_aux'\u001b[0m\u001b[0;34m)\u001b[0m\u001b[0;34m)\u001b[0m   \u001b[0;31m#remap the values from FARS to ours own values\u001b[0m\u001b[0;34m\u001b[0m\u001b[0;34m\u001b[0m\u001b[0m\n\u001b[1;32m      7\u001b[0m \u001b[0mveh_aux\u001b[0m\u001b[0;34m[\u001b[0m\u001b[0;34m'veh_no'\u001b[0m\u001b[0;34m]\u001b[0m\u001b[0;34m=\u001b[0m\u001b[0;34m[\u001b[0m\u001b[0;34m'veh'\u001b[0m\u001b[0;34m+\u001b[0m\u001b[0mstr\u001b[0m\u001b[0;34m(\u001b[0m\u001b[0mint\u001b[0m\u001b[0;34m(\u001b[0m\u001b[0mi\u001b[0m\u001b[0;34m)\u001b[0m\u001b[0;34m)\u001b[0m \u001b[0;32mfor\u001b[0m \u001b[0mi\u001b[0m \u001b[0;32min\u001b[0m \u001b[0mveh_aux\u001b[0m\u001b[0;34m.\u001b[0m\u001b[0mveh_no\u001b[0m\u001b[0;34m]\u001b[0m    \u001b[0;31m# make veh_no a string instead\u001b[0m\u001b[0;34m\u001b[0m\u001b[0;34m\u001b[0m\u001b[0m\n\u001b[0;32m----> 8\u001b[0;31m \u001b[0mv\u001b[0m\u001b[0;34m\u001b[0m\u001b[0;34m\u001b[0m\u001b[0m\n\u001b[0m",
      "\u001b[0;31mNameError\u001b[0m: name 'v' is not defined"
     ]
    }
   ],
   "source": [
    "reload(kc)\n",
    "veh_aux=kc.getalldata('veh_aux.csv')  # load all year's data and add id\n",
    "veh_aux=kc.removeUnneededColumns(veh_aux,'veh_aux',['veh_no'])  # keep veh_no\n",
    "#veh_aux=kc.drop([],axis=1) # drop additional columns from deeper EDA for lack of variance ien the variables\n",
    "veh_aux=veh_aux.loc[(veh_aux.veh_no<=4),:]    # filter only veh_no <=4\n",
    "veh_aux=kc.translateVarsFromDict(veh_aux,kc.createDataDictForTranslation('veh_aux'))   #remap the values from FARS to ours own values\n",
    "veh_aux['veh_no']=['veh'+str(int(i)) for i in veh_aux.veh_no]    # make veh_no a string instead"
   ]
  },
  {
   "cell_type": "code",
   "execution_count": 33,
   "metadata": {},
   "outputs": [
    {
     "data": {
      "text/plain": [
       "['a_drdro', 'a_imp1', 'a_imp2', 'a_lic_s', 'id', 'veh_no']"
      ]
     },
     "execution_count": 33,
     "metadata": {},
     "output_type": "execute_result"
    }
   ],
   "source": [
    "veh_aux.columns.tolist()"
   ]
  },
  {
   "cell_type": "code",
   "execution_count": 91,
   "metadata": {},
   "outputs": [
    {
     "data": {
      "image/png": "[encoded data removed]",
      "text/plain": [
       "<Figure size 432x288 with 1 Axes>"
      ]
     },
     "metadata": {
      "needs_background": "light"
     },
     "output_type": "display_data"
    }
   ],
   "source": [
    "from scipy.spatial import ConvexHull, convex_hull_plot_2d\n",
    "points = np.random.rand(30, 2)   # 30 random points in 2-D\n",
    "hull = ConvexHull(points)\n",
    "\n",
    "import matplotlib.pyplot as plt\n",
    "#plt.plot(points[:,0], points[:,1], 'o')\n",
    "for simplex in hull.simplices:\n",
    "    plt.plot(points[simplex, 0], points[simplex, 1], 'ko-')\n",
    "plt.show()"
   ]
  },
  {
   "cell_type": "code",
   "execution_count": 93,
   "metadata": {},
   "outputs": [
    {
     "data": {
      "image/png": "[encoded data removed]",
      "text/plain": [
       "<Figure size 432x288 with 1 Axes>"
      ]
     },
     "metadata": {
      "needs_background": "light"
     },
     "output_type": "display_data"
    }
   ],
   "source": [
    "plt.plot(points[hull.vertices,0], points[hull.vertices,1], 'r--', lw=2)\n",
    "plt.plot(points[hull.vertices[0],0], points[hull.vertices[0],1], 'ro')\n",
    "plt.show()"
   ]
  },
  {
   "cell_type": "code",
   "execution_count": 129,
   "metadata": {},
   "outputs": [],
   "source": [
    "from shapely.geometry import Polygon\n",
    "h=ConvexHull(list(Polygon(hull.points[hull.vertices]).exterior.coords))"
   ]
  },
  {
   "cell_type": "code",
   "execution_count": 127,
   "metadata": {},
   "outputs": [
    {
     "data": {
      "text/plain": [
       "array([[0.00578136, 0.73981191],\n",
       "       [0.12480793, 0.26450542],\n",
       "       [0.38069519, 0.02136152],\n",
       "       [0.69128538, 0.17285143],\n",
       "       [0.84305387, 0.24863633],\n",
       "       [0.86392729, 0.41450126],\n",
       "       [0.91695498, 0.88229764],\n",
       "       [0.68036499, 0.92701024],\n",
       "       [0.30432812, 0.93608791],\n",
       "       [0.02664019, 0.8716549 ]])"
      ]
     },
     "execution_count": 127,
     "metadata": {},
     "output_type": "execute_result"
    }
   ],
   "source": [
    "hull.points[hull.vertices]"
   ]
  },
  {
   "cell_type": "code",
   "execution_count": 69,
   "metadata": {},
   "outputs": [
    {
     "data": {
      "text/plain": [
       "8"
      ]
     },
     "execution_count": 69,
     "metadata": {},
     "output_type": "execute_result"
    }
   ],
   "source": [
    "hull.nsimplex"
   ]
  },
  {
   "cell_type": "code",
   "execution_count": 131,
   "metadata": {},
   "outputs": [
    {
     "data": {
      "text/plain": [
       "array([[0.00578136, 0.73981191],\n",
       "       [0.12480793, 0.26450542],\n",
       "       [0.38069519, 0.02136152],\n",
       "       [0.69128538, 0.17285143],\n",
       "       [0.84305387, 0.24863633],\n",
       "       [0.86392729, 0.41450126],\n",
       "       [0.91695498, 0.88229764],\n",
       "       [0.68036499, 0.92701024],\n",
       "       [0.30432812, 0.93608791],\n",
       "       [0.02664019, 0.8716549 ],\n",
       "       [0.00578136, 0.73981191]])"
      ]
     },
     "execution_count": 131,
     "metadata": {},
     "output_type": "execute_result"
    }
   ],
   "source": [
    "h.points"
   ]
  },
  {
   "cell_type": "code",
   "execution_count": null,
   "metadata": {},
   "outputs": [],
   "source": []
  },
  {
   "cell_type": "markdown",
   "metadata": {},
   "source": [
    "### For check persistence across the years"
   ]
  },
  {
   "cell_type": "code",
   "execution_count": 4,
   "metadata": {},
   "outputs": [],
   "source": [
    "from importlib import reload\n",
    "import numpy as np\n",
    "import pandas as pd\n",
    "import kc_functions as kc\n",
    "\n",
    "reload(kc)\n",
    "df=kc.getalldata()\n",
    "df=kc.removeNoHourAndMinutes(df)\n",
    "df=kc.removeUnneededColumns(df)\n",
    "df=kc.createTimestamp(df)\n",
    "df['target']=df['drunk_dr']"
   ]
  },
  {
   "cell_type": "code",
   "execution_count": 141,
   "metadata": {},
   "outputs": [
    {
     "name": "stderr",
     "output_type": "stream",
     "text": [
      "/home/kchuangk/.pyenv/lib/python3.6/site-packages/ipykernel_launcher.py:44: SettingWithCopyWarning: \n",
      "A value is trying to be set on a copy of a slice from a DataFrame.\n",
      "Try using .loc[row_indexer,col_indexer] = value instead\n",
      "\n",
      "See the caveats in the documentation: http://pandas.pydata.org/pandas-docs/stable/indexing.html#indexing-view-versus-copy\n",
      "/home/kchuangk/.pyenv/lib/python3.6/site-packages/ipykernel_launcher.py:44: SettingWithCopyWarning: \n",
      "A value is trying to be set on a copy of a slice from a DataFrame.\n",
      "Try using .loc[row_indexer,col_indexer] = value instead\n",
      "\n",
      "See the caveats in the documentation: http://pandas.pydata.org/pandas-docs/stable/indexing.html#indexing-view-versus-copy\n",
      "/home/kchuangk/.pyenv/lib/python3.6/site-packages/ipykernel_launcher.py:44: SettingWithCopyWarning: \n",
      "A value is trying to be set on a copy of a slice from a DataFrame.\n",
      "Try using .loc[row_indexer,col_indexer] = value instead\n",
      "\n",
      "See the caveats in the documentation: http://pandas.pydata.org/pandas-docs/stable/indexing.html#indexing-view-versus-copy\n",
      "/home/kchuangk/.pyenv/lib/python3.6/site-packages/ipykernel_launcher.py:44: SettingWithCopyWarning: \n",
      "A value is trying to be set on a copy of a slice from a DataFrame.\n",
      "Try using .loc[row_indexer,col_indexer] = value instead\n",
      "\n",
      "See the caveats in the documentation: http://pandas.pydata.org/pandas-docs/stable/indexing.html#indexing-view-versus-copy\n"
     ]
    }
   ],
   "source": [
    "# Final for Tabpy - across time version\n",
    "\n",
    "from scipy.spatial import Delaunay, ConvexHull\n",
    "from scipy.stats import ttest_ind, ranksums\n",
    "from scipy.spatial.qhull import QhullError\n",
    "from shapely.geometry import Polygon\n",
    "from shapely.ops import cascaded_union\n",
    "from shapely.vectorized import contains    # maker sure Cython package is installed for shapely vectorized functions to work\n",
    "from itertools import combinations\n",
    "import pandas as pd\n",
    "import hdbscan\n",
    "\n",
    "def in_hull(h,p):\n",
    "    \"\"\"\n",
    "    Test if points in `p` are in `hull`\n",
    "\n",
    "    `p` should be a `NxK` coordinates of `N` points in `K` dimensions\n",
    "    `hull` is either a scipy.spatial.Delaunay object or the `MxK` array of the \n",
    "    coordinates of `M` points in `K`dimensions for which Delaunay triangulation\n",
    "    will be computed\n",
    "    \"\"\"\n",
    "    hull_in=Delaunay(h.points)\n",
    "    return hull_in.find_simplex(p)>=0\n",
    "\n",
    "# Assuming each row is unique\n",
    "# TABPY LOCS = np.column_stack([np.radians(_arg1),np.radians(_arg2), _arg3])\n",
    "def get_cluster_hulls_with_year(dftmp,year_selected,min_cluster_size=50):\n",
    "    '''\n",
    "    dftmp = full dataframe with with 'longitud','latitude','year' and 'target'\n",
    "    year_selected = year selcted to get the clusters from\n",
    "    \n",
    "    Returns a dataframe with the significnat clusters, clusteres, p_values and t_stats\n",
    "    It uses the Wilcoxon rank sum test. It is non-parametric.\n",
    "    '''\n",
    "    # ID is used to check the code, year is used to separate it by year - we can probably move this out of the function\n",
    "    # for tabpy\n",
    "    uniquedf=dftmp.loc[dftmp.year==year_selected,['longitud','latitude','target','year']]\n",
    "    # uniquedf is the uniques\n",
    "    targetdf = uniquedf.loc[uniquedf['target']==1,:]\n",
    "    clusterer = hdbscan.HDBSCAN(min_cluster_size=min_cluster_size,metric=\"manhattan\")\n",
    "    #clusterer = hdbscan.HDBSCAN(min_cluster_size=5,gen_min_span_tree=True,metric=\"manhattan\",min_samples=5)\n",
    "    #clusterer = hdbscan.HDBSCAN(min_cluster_size=_arg4[1],gen_min_span_tree=True,metric=\"manhattan\",min_samples=_arg5[1])\n",
    "    clustered = clusterer.fit(targetdf.loc[:,['longitud','latitude']])\n",
    "    targetdf['cluster']=clustered.labels_\n",
    "    uniquedf['cluster']=0\n",
    "    # relabel cluster 0 so when we multiply it out to indicate significant clusters, it works - adding 1 to everything\n",
    "    uniquedf.loc[list(targetdf.index),'cluster']=clustered.labels_ + 1\n",
    "    for i in uniquedf['cluster'].unique():\n",
    "        if i!=0:\n",
    "            dftgt=uniquedf.loc[uniquedf['cluster']==i,['longitud','latitude']]\n",
    "            try:\n",
    "                hull=ConvexHull(dftgt)\n",
    "            except Exception as Err:\n",
    "                hull=None\n",
    "                if type(Err) == QhullError:\n",
    "                    if len(dftgt.longitud.unique())<3 and len(dftgt.latitude.unique())<3:\n",
    "                        for lon,lat in zip(dftgt.longitud.unique(),dftgt.latitude.unique()):\n",
    "                            uniquedf.loc[(uniquedf.longitud==lon) & (uniquedf.latitude==lat),'cluster']==i\n",
    "                    else:\n",
    "                        print(Err.args)   # True error here - we'll have ot know about about it - not sure how you display it in tableau\n",
    "            if hull is not None:\n",
    "                hull.close()\n",
    "                uniquedf.loc[in_hull(hull,uniquedf.loc[:,['longitud','latitude']].values),'cluster']=i\n",
    "                uniquedf.loc[in_hull(hull,uniquedf.loc[:,['longitud','latitude']].values),'hull_vertices']=Polygon(hull.points[hull.vertices])\n",
    "    # ttest - no need for any correction because it's different data sets\n",
    "    dfnotincluster=uniquedf.loc[uniquedf['cluster']==0,'target']\n",
    "    uniquedf['tstat']=-1\n",
    "    uniquedf['pvalue']=-1\n",
    "    for i in uniquedf['cluster'].unique():\n",
    "        if i!=0:\n",
    "            dfcluster=uniquedf.loc[uniquedf['cluster']==i,'target']\n",
    "            tstat,pvalue=ranksums(dfcluster,dfnotincluster)\n",
    "            uniquedf.loc[uniquedf['cluster']==i,'stat']=tstat\n",
    "            uniquedf.loc[uniquedf['cluster']==i,'pvalue']=pvalue\n",
    "    # now, check for significance\n",
    "    uniquedf['sig']=uniquedf.pvalue<= 0.05\n",
    "    uniquedf.loc[uniquedf.cluster==0,'sig']=False\n",
    "    # TABPY uniquedf['sig']=uniquedf.pvalue<=_arg6[1]\n",
    "    uniquedf['sig_cluster']=uniquedf.cluster*uniquedf.sig\n",
    "    # add year to the clusters\n",
    "    if uniquedf['cluster'].max()>99:\n",
    "        print(\"Too many clusters'\")\n",
    "        return -1\n",
    "    uniquedf['cluster']=year_selected+uniquedf['cluster']/100\n",
    "    uniquedf['sig_cluster']=year_selected+uniquedf['sig_cluster']/100\n",
    "    return uniquedf\n",
    "\n",
    "# get hulls for each year\n",
    "\n",
    "# df should consist of columns - longitud, latitude, target and year\n",
    "dfmain=df.loc[:,['longitud','latitude','target','year']]\n",
    "years=dfmain.year.unique()\n",
    "num_years_required=3                     # number of years required to be called a cluster\n",
    "min_cluster_size=50                      # min_cluster_size for hdbscan\n",
    "dfprim=None\n",
    "for i in years:\n",
    "    if dfprim is None:\n",
    "        dfprim=get_cluster_hulls_with_year(dfmain,i,min_cluster_size)\n",
    "    else:\n",
    "        dfprim=dfprim.append(get_cluster_hulls_with_year(dfmain,i,min_cluster_size))\n",
    "\n",
    "# find the intersection of hulls for each year\n",
    "p={}\n",
    "for j in years:\n",
    "    l=[]\n",
    "    for i in dfprim.loc[(dfprim.year==j) & (dfprim.sig_cluster % 1 !=0),'sig_cluster'].unique():\n",
    "        l.append(dfprim.loc[dfprim.sig_cluster==i,'hull_vertices'].head(1).values[0])\n",
    "    p[j]=cascaded_union(l)\n",
    "    \n",
    "# number years required\n",
    "q={}\n",
    "for i in combinations(p.keys(),num_years_required):\n",
    "    q[i]=p[i[0]]\n",
    "    for j in range(1,num_years_required):\n",
    "        q[i]=q[i].intersection(p[i[j]])\n",
    "\n",
    "q=cascaded_union(list(q.values()))\n",
    "\n",
    "dfprim['sig_cluster_across_time']=0\n",
    "# create clusters for each point\n",
    "for i in range(len(q)):\n",
    "    dfprim.loc[contains(q[i],dfprim.longitud,dfprim.latitude),'sig_cluster_across_time']=i+1\n",
    "\n",
    "# PLEASE READ: basically cluster 0 means it's not a cluster - everythign else, it's in a cluster\n",
    "# fulldf has every single point (repeated) - cluster is the cluster it is in 0 means not in a cluster or significant cluster, -2 means repeated\n",
    "# uniquedf has only the unique points - sig_cluster is the significant cluster 0 means it's not in a cluster, cluster = cluster from hdbscan (no significance)\n",
    "# return uniquedf['sig']"
   ]
  },
  {
   "cell_type": "code",
   "execution_count": 143,
   "metadata": {},
   "outputs": [
    {
     "data": {
      "text/plain": [
       "154.2374961999562"
      ]
     },
     "execution_count": 143,
     "metadata": {},
     "output_type": "execute_result"
    }
   ],
   "source": [
    "q.area"
   ]
  },
  {
   "cell_type": "code",
   "execution_count": 145,
   "metadata": {},
   "outputs": [
    {
     "data": {
      "image/svg+xml": [
       "<svg xmlns=\"http://www.w3.org/2000/svg\" xmlns:xlink=\"http://www.w3.org/1999/xlink\" width=\"100.0\" height=\"100.0\" viewBox=\"-126.1014161136 23.6113866664 50.146110007199994 27.217659997200002\" preserveAspectRatio=\"xMinYMin meet\"><g transform=\"matrix(1,0,0,-1,0,74.44043333)\"><g><path fill-rule=\"evenodd\" fill=\"#66cc99\" stroke=\"#555555\" stroke-width=\"1.002922200144\" opacity=\"0.6\" d=\"M -80.1419851922337,25.805094191246585 L -80.15122778,25.72265278 L -80.44061389,25.47701389 L -80.44160754826498,25.480914608409588 L -80.4531,25.46865 L -80.67533056,25.76183611 L -80.85626944,26.172575 L -80.78794846410008,27.214311310623454 L -80.78841944,27.2182 L -80.78757867519013,27.219949733226358 L -80.77105556,27.47188889 L -80.68982275149818,27.423391630115187 L -80.62991111,27.548075 L -80.47342778,27.82261667 L -80.38584167,27.66053889 L -80.22737222,27.24383056 L -80.19646081786037,27.149892977945076 L -80.16978056,27.13061944 L -80.108225,27.00935833 L -80.03421389,26.79906111 L -80.05546962658266,26.586350455264846 L -80.05388333,26.57198611 L -80.13578056,25.81298056 L -80.1419851922337,25.805094191246585 z\" /><path fill-rule=\"evenodd\" fill=\"#66cc99\" stroke=\"#555555\" stroke-width=\"1.002922200144\" opacity=\"0.6\" d=\"M -99.09994722,29.730125 L -98.82783889,30.14766111 L -98.36689167,30.59006667 L -98.25518611,30.68963056 L -97.89930880998529,30.98088915021585 L -97.76841944,31.11991944 L -97.72601700188258,31.11749538834758 L -97.72311389,31.11923611 L -97.67529566617685,31.114595764102155 L -97.65996667,31.11371944 L -97.65894824925769,31.113009388386452 L -97.39713611,31.08760278 L -96.98715556,30.84926667 L -96.98010556,30.64833889 L -97.01009722,30.43203611 L -97.22328889,29.81862222 L -97.50186944,29.56370278 L -97.70911824385576,29.43136382010725 L -97.87505,29.241999999999997 L -98.24289267517528,29.090521548673273 L -98.49153611,28.93175 L -98.52423830092044,28.974662779281946 L -98.557875,28.96081111 L -98.71017125136295,29.218649479836326 L -99.09994722,29.730125 z\" /><path fill-rule=\"evenodd\" fill=\"#66cc99\" stroke=\"#555555\" stroke-width=\"1.002922200144\" opacity=\"0.6\" d=\"M -95.02090219726053,30.65980091824336 L -94.99741389,30.64916111 L -94.96905692725778,30.613115184742814 L -94.83236944,30.49003056 L -94.28375278,29.879125 L -94.72922415721683,29.371674348436606 L -94.75682643352133,29.329900713205877 L -94.757275,29.31656667 L -94.77479748816485,29.302703091056568 L -94.77743889,29.29870556 L -94.79009644751164,29.290598740997304 L -94.80487222,29.27890833 L -94.81524604559651,29.273684072204478 L -94.8169,29.2718 L -94.8433880574316,29.256937735344252 L -94.86119444,29.24643611 L -94.86359041523076,29.24560233300088 L -95.38981944,28.95033889 L -95.63816111,28.89953889 L -95.83622614577015,29.063201533313336 L -95.83810278,29.06398889 L -95.84613703353968,29.07139097514811 L -96.20743056,29.36993056 L -96.22572643612584,29.42111270914472 L -96.91420556,30.05541944 L -95.98516178353512,30.589156596381443 L -95.95252222,30.61975278 L -95.37544167,30.95076944 L -95.31237778,30.92226944 L -95.02090219726053,30.65980091824336 z\" /><path fill-rule=\"evenodd\" fill=\"#66cc99\" stroke=\"#555555\" stroke-width=\"1.002922200144\" opacity=\"0.6\" d=\"M -88.80669771299065,31.246394287673496 L -88.03022778,31.26151667 L -87.38302436639076,31.038192454556118 L -87.22751944,31.00269167 L -86.36989444,30.80484722 L -87.40332778,30.32195556 L -87.42052271102268,30.317180035154756 L -87.42666667,30.31222222 L -88.35493135246176,30.049420127138536 L -90.26478889,29.38921944 L -90.5784957208431,29.419904235105378 L -90.60615,29.412075 L -90.6357235871004,29.42422666151806 L -90.70106111,29.40608056 L -90.79981152236053,29.444754150486087 L -94.17723333,30.01819444 L -91.22337778,31.51426111 L -90.79670739460867,31.511735186860253 L -90.46118333,31.62513611 L -90.34568611,31.59444444 L -90.2527225464997,31.494912988016186 L -88.80669771299065,31.246394287673496 z\" /><path fill-rule=\"evenodd\" fill=\"#66cc99\" stroke=\"#555555\" stroke-width=\"1.002922200144\" opacity=\"0.6\" d=\"M -97.91095,32.65856111 L -97.87073889,32.80066111 L -97.25285556,33.45619444 L -97.16613889,33.52733056 L -96.69962778,33.60405833 L -96.66182222,33.59896111 L -96.08399444,33.12600556 L -96.05078889,32.64339444 L -96.24209444,32.3932 L -97.41976667,31.1547 L -97.91095,32.65856111 z\" /><path fill-rule=\"evenodd\" fill=\"#66cc99\" stroke=\"#555555\" stroke-width=\"1.002922200144\" opacity=\"0.6\" d=\"M -119.70916111,34.40204722 L -119.14333056,34.85146111 L -118.59279167,35.12349722 L -118.58976572060539,35.123383388364346 L -118.39373889,35.31848056 L -117.90901408557767,35.04229149194997 L -117.00455833,34.90073889 L -116.70006944,34.73393056 L -116.05825833,34.13556111 L -115.94481944,33.67529444 L -115.92218056,33.22634722 L -116.75419444,32.62404167 L -117.01015357490033,32.57657594943003 L -117.03158889,32.54361111 L -117.112175,32.58385556 L -117.23601890742479,32.678395124628125 L -119.70916111,34.40204722 z\" /><path fill-rule=\"evenodd\" fill=\"#66cc99\" stroke=\"#555555\" stroke-width=\"1.002922200144\" opacity=\"0.6\" d=\"M -93.33389444,43.67303056 L -93.91483213888208,44.06320632740956 L -93.95369167,44.06550556 L -94.062975,44.15254722 L -94.65086944,44.81895556 L -94.58478611,45.13831389 L -94.09296667,45.879425 L -93.94518611,46.04943333 L -93.92011810681778,46.054531587739675 L -93.80453333,46.21506111 L -92.82459444,46.23033333 L -89.74783056,44.90515556 L -93.33389444,43.67303056 z\" /><path fill-rule=\"evenodd\" fill=\"#66cc99\" stroke=\"#555555\" stroke-width=\"1.002922200144\" opacity=\"0.6\" d=\"M -91.26407639598371,39.190136009056395 L -91.06883333,39.46308333 L -90.80519167,39.67117778 L -90.60049856775801,39.595685231304145 L -89.29961111,40.23694167 L -88.96941112580865,38.59543294246163 L -88.92638611,38.546425 L -88.95384954496917,38.51807233681272 L -88.94088611,38.45362778 L -89.45058333,37.82047778 L -90.12502778,37.35877778 L -90.28422222,37.32894444 L -90.58339417994844,37.52200043949802 L -90.62544444,37.52216667 L -91.19086928356325,37.91400480153359 L -91.73255556,38.26355556 L -91.68327778,38.71891667 L -91.59008333,38.98788889 L -91.26407639598371,39.190136009056395 z\" /><path fill-rule=\"evenodd\" fill=\"#66cc99\" stroke=\"#555555\" stroke-width=\"1.002922200144\" opacity=\"0.6\" d=\"M -79.56942391634583,36.64657314771249 L -79.08955571343441,36.542398809413925 L -78.45827222,36.41534444 L -78.43862105917499,36.401087744268 L -78.41926667,36.39688611 L -78.34061389,36.36354722 L -78.26380696137281,36.27426208627137 L -77.86560278,35.98536944 L -77.8159,35.92960278 L -77.84430278,35.72736111 L -77.87558979841663,35.67720303925155 L -77.87357222,35.66864444 L -77.81256944,35.17681389 L -78.59935541284999,34.31475597908737 L -78.59966111,34.314 L -78.60181674033467,34.3120591760142 L -78.67069722,34.23658889 L -80.13395278,32.74410833 L -80.27307778,32.73012222 L -80.51578094836476,32.74921481778091 L -80.70241389,32.60075556 L -81.44666600204627,33.17593495298051 L -83.32745833,34.01052778 L -83.22783836882155,34.55247607947955 L -83.256825,34.57487778 L -83.34151944,35.7601 L -80.10510435329842,36.71468832122795 L -79.93885,36.80861944 L -79.56942391634583,36.64657314771249 z\" /><path fill-rule=\"evenodd\" fill=\"#66cc99\" stroke=\"#555555\" stroke-width=\"1.002922200144\" opacity=\"0.6\" d=\"M -123.02253611,38.47381667 L -122.66568333,39.82286667 L -121.14308889,39.54691944 L -120.65156667,39.31026944 L -120.12185,38.8025 L -118.00911111,35.65323056 L -119.00779444,35.19406111 L -119.97295278,35.06223611 L -121.84036667,36.60463889 L -122.27278056,37.08826944 L -123.030025,38.31756944 L -123.02253611,38.47381667 z\" /><path fill-rule=\"evenodd\" fill=\"#66cc99\" stroke=\"#555555\" stroke-width=\"1.002922200144\" opacity=\"0.6\" d=\"M -105.05839409777975,35.42889668964857 L -104.69296389,35.03362778 L -105.03972222,34.9788 L -105.23029026034162,34.96289368178821 L -105.73358611,33.59848056 L -108.89733333,35.04183056 L -108.905975,35.06365833 L -108.43333333,37.42944444 L -107.15664158997417,40.02787351192746 L -106.90166667,40.72005556 L -106.1612,41.3291 L -104.95457222,42.17527222 L -103.22105556,40.63049444 L -103.24156409738445,40.294785900114356 L -103.17194444,40.22758333 L -103.25316022417634,40.10496647415289 L -103.26026480936956,39.98867003248088 L -103.17416667,39.43333056 L -103.30261315524916,39.295461097328996 L -103.31902778,39.02676667 L -103.9216386041126,38.5105913089804 L -105.05839409777975,35.42889668964857 z\" /><path fill-rule=\"evenodd\" fill=\"#66cc99\" stroke=\"#555555\" stroke-width=\"1.002922200144\" opacity=\"0.6\" d=\"M -97.56632222,35.55241389 L -97.549725,35.60852222 L -97.0699,36.1971 L -96.0597,36.4455 L -95.6363,36.5247 L -95.1247,36.3164 L -95.5439,35.8565 L -96.1229,35.3787 L -97.2035,34.7554 L -97.3571,34.9198 L -97.56632222,35.55241389 z\" /><path fill-rule=\"evenodd\" fill=\"#66cc99\" stroke=\"#555555\" stroke-width=\"1.002922200144\" opacity=\"0.6\" d=\"M -82.73280625340338,40.673715537096534 L -81.6277,40.3233 L -82.81988056,39.27374167 L -84.74543807067084,38.068821420066314 L -85.14362222,37.79541944 L -85.52236389,37.77767778 L -85.88661111,38.06240278 L -85.9012207716669,38.10861224152856 L -86.03833333,38.21679167 L -85.96378535059068,38.30650015767248 L -85.99464444,38.40410556 L -85.77836944,38.68372222 L -84.88613056,39.83448333 L -83.15373889,41.42880278 L -82.73280625340338,40.673715537096534 z\" /><path fill-rule=\"evenodd\" fill=\"#66cc99\" stroke=\"#555555\" stroke-width=\"1.002922200144\" opacity=\"0.6\" d=\"M -94.58245110293484,38.09983411065591 L -94.61399999999999,38.06922222 L -94.98096923528963,38.41934786048391 L -95.68627222,38.98482778 L -95.75791389,39.05390556 L -95.32441944,39.58761111 L -94.79083333,40.17397222 L -94.11583333,39.92111111 L -93.34947222,38.83411111 L -94.51222222,38.04352778 L -94.58245110293484,38.09983411065591 z\" /><path fill-rule=\"evenodd\" fill=\"#66cc99\" stroke=\"#555555\" stroke-width=\"1.002922200144\" opacity=\"0.6\" d=\"M -81.04913770082305,41.59943936711381 L -80.92341389,41.59780833 L -80.01779167,40.99824444 L -79.50493333,40.520325 L -79.71523889,40.20574722 L -79.85579444,39.99756111 L -80.09351389,40.02135278 L -81.29013056,40.36129444 L -82.08694444,40.66944444 L -82.21518889,40.97984167 L -82.19504725483883,41.0592196919014 L -82.28465833,41.17003611 L -82.38305556,41.33555556 L -82.40584722,41.38583889 L -82.31453147619207,41.41325124912246 L -82.32270833,41.42488333 L -81.78396644543012,41.57535029837427 L -81.39214819580137,41.69014437484459 L -81.22791111,41.73944722 L -81.04913770082305,41.59943936711381 z\" /><path fill-rule=\"evenodd\" fill=\"#66cc99\" stroke=\"#555555\" stroke-width=\"1.002922200144\" opacity=\"0.6\" d=\"M -83.33552778,43.2187 L -83.14118889,43.20903333 L -82.858475,42.56891944 L -83.25221111,41.65125833 L -83.35861667,41.54883889 L -83.60773889,41.37444167 L -83.87934167,41.43298889 L -84.20849444,41.70313056 L -84.07476667,42.19021389 L -84.02266389,42.30253889 L -83.72607778,42.91145833 L -83.33552778,43.2187 z\" /><path fill-rule=\"evenodd\" fill=\"#66cc99\" stroke=\"#555555\" stroke-width=\"1.002922200144\" opacity=\"0.6\" d=\"M -122.31959491823022,42.220640844643206 L -122.74364444,41.35123333 L -123.20932322627417,42.04431412005908 L -124.05223333,41.80698889 L -124.17809444,43.15930556 L -124.24415278,48.06712222 L -122.71926944,48.97178333 L -122.407525,48.96405833 L -120.10940556,48.35009167 L -116.13419722,47.26946389 L -115.87015833,46.37604722 L -121.01882621559149,43.17289231389934 L -121.88400556,42.27258889 L -122.31959491823022,42.220640844643206 z\" /><path fill-rule=\"evenodd\" fill=\"#66cc99\" stroke=\"#555555\" stroke-width=\"1.002922200144\" opacity=\"0.6\" d=\"M -89.11752816230626,41.23946729708691 L -89.21168333,41.26494722 L -89.43900278,41.837725 L -89.41006612096744,42.0250004208457 L -89.47524722,42.27529167 L -89.48413214035843,42.59868659968019 L -89.56106944,42.86045 L -89.49334068178186,42.9338607471062 L -89.49779444,43.09596944 L -89.39053889,43.192 L -88.92645810051765,43.544088285262106 L -88.683175,43.94600556 L -88.34068740985036,43.988500126277756 L -88.04355556,44.21392778 L -87.98377778,44.16301944 L -86.10426468116913,41.702406362411665 L -85.75503889,41.40783056 L -86.1554886131455,41.30779763763277 L -86.28454722,40.76423611 L -88.57178889,40.57265556 L -89.11752816230626,41.23946729708691 z\" /></g></g></svg>"
      ],
      "text/plain": [
       "<shapely.geometry.multipolygon.MultiPolygon at 0x7fd28cb585f8>"
      ]
     },
     "execution_count": 145,
     "metadata": {},
     "output_type": "execute_result"
    }
   ],
   "source": [
    "q"
   ]
  },
  {
   "cell_type": "code",
   "execution_count": null,
   "metadata": {},
   "outputs": [],
   "source": []
  },
  {
   "cell_type": "code",
   "execution_count": null,
   "metadata": {},
   "outputs": [],
   "source": []
  },
  {
   "cell_type": "code",
   "execution_count": null,
   "metadata": {},
   "outputs": [],
   "source": []
  },
  {
   "cell_type": "code",
   "execution_count": null,
   "metadata": {},
   "outputs": [],
   "source": []
  },
  {
   "cell_type": "code",
   "execution_count": 147,
   "metadata": {},
   "outputs": [],
   "source": [
    "a=dfprim.loc[131586,'hull_vertices']"
   ]
  },
  {
   "cell_type": "code",
   "execution_count": 149,
   "metadata": {},
   "outputs": [
    {
     "data": {
      "text/plain": [
       "[(-105.73358611, 33.59848056),\n",
       " (-103.42018056, 39.87002222),\n",
       " (-104.9455, 41.9362),\n",
       " (-106.95638889, 40.43544444),\n",
       " (-108.43333333, 37.42944444),\n",
       " (-108.905975, 35.06365833),\n",
       " (-108.89733333, 35.04183056),\n",
       " (-105.73358611, 33.59848056)]"
      ]
     },
     "execution_count": 149,
     "metadata": {},
     "output_type": "execute_result"
    }
   ],
   "source": [
    "list(a.exterior.coords)"
   ]
  },
  {
   "cell_type": "code",
   "execution_count": 151,
   "metadata": {},
   "outputs": [],
   "source": []
  },
  {
   "cell_type": "code",
   "execution_count": 256,
   "metadata": {},
   "outputs": [],
   "source": []
  },
  {
   "cell_type": "code",
   "execution_count": 266,
   "metadata": {},
   "outputs": [
    {
     "data": {
      "text/plain": [
       "27.320349072525485"
      ]
     },
     "execution_count": 266,
     "metadata": {},
     "output_type": "execute_result"
    }
   ],
   "source": [
    "p.area"
   ]
  },
  {
   "cell_type": "code",
   "execution_count": 290,
   "metadata": {},
   "outputs": [
    {
     "data": {
      "text/plain": [
       "5"
      ]
     },
     "execution_count": 290,
     "metadata": {},
     "output_type": "execute_result"
    }
   ],
   "source": [
    "len(p)"
   ]
  },
  {
   "cell_type": "code",
   "execution_count": 282,
   "metadata": {},
   "outputs": [
    {
     "ename": "TypeError",
     "evalue": "'type' object is not subscriptable",
     "output_type": "error",
     "traceback": [
      "\u001b[0;31m---------------------------------------------------------------------------\u001b[0m",
      "\u001b[0;31mTypeError\u001b[0m                                 Traceback (most recent call last)",
      "\u001b[0;32m<ipython-input-282-21736713fb35>\u001b[0m in \u001b[0;36m<module>\u001b[0;34m\u001b[0m\n\u001b[0;32m----> 1\u001b[0;31m \u001b[0mp\u001b[0m\u001b[0;34m[\u001b[0m\u001b[0;36m0\u001b[0m\u001b[0;34m]\u001b[0m\u001b[0;34m.\u001b[0m\u001b[0mcontains\u001b[0m\u001b[0;34m(\u001b[0m\u001b[0mPoint\u001b[0m\u001b[0;34m(\u001b[0m\u001b[0;34m[\u001b[0m\u001b[0;36m1\u001b[0m\u001b[0;34m,\u001b[0m\u001b[0;36m1\u001b[0m\u001b[0;34m]\u001b[0m\u001b[0;34m,\u001b[0m\u001b[0mPoint\u001b[0m\u001b[0;34m[\u001b[0m\u001b[0;36m2\u001b[0m\u001b[0;34m,\u001b[0m\u001b[0;36m2\u001b[0m\u001b[0;34m]\u001b[0m\u001b[0;34m)\u001b[0m\u001b[0;34m)\u001b[0m\u001b[0;34m\u001b[0m\u001b[0;34m\u001b[0m\u001b[0m\n\u001b[0m",
      "\u001b[0;31mTypeError\u001b[0m: 'type' object is not subscriptable"
     ]
    }
   ],
   "source": [
    "p[0].contains(Point([1,1],Point[2,2]))"
   ]
  },
  {
   "cell_type": "code",
   "execution_count": 294,
   "metadata": {},
   "outputs": [
    {
     "data": {
      "image/svg+xml": [
       "<svg xmlns=\"http://www.w3.org/2000/svg\" xmlns:xlink=\"http://www.w3.org/1999/xlink\" width=\"100.0\" height=\"100.0\" viewBox=\"-92.6164754468 29.3992328932 3.1467870035999965 1.8287092135999998\" preserveAspectRatio=\"xMinYMin meet\"><g transform=\"matrix(1,0,0,-1,0,60.627175)\"><path fill-rule=\"evenodd\" fill=\"#66cc99\" stroke=\"#555555\" stroke-width=\"0.06293574007199992\" opacity=\"0.6\" d=\"M -89.9372653086634,31.10370461171914 L -89.58623611,30.56218056 L -89.74681111,30.22979722 L -89.93376944,29.93011944 L -90.09653889,29.69106111 L -90.33696111,29.53405 L -90.59178056,29.51578056 L -91.47697699611892,29.769894119530438 L -92.22895278,30.07887778 L -92.35385,30.23541667 L -92.49992778,30.42043889 L -92.42841506739835,30.6430149910637 L -92.39359048513094,30.679010495959545 L -92.19885502618531,30.854848492876663 L -90.48526944,31.11139444 L -89.9372653086634,31.10370461171914 z\" /></g></svg>"
      ],
      "text/plain": [
       "<shapely.geometry.polygon.Polygon at 0x7f000c921c50>"
      ]
     },
     "execution_count": 294,
     "metadata": {},
     "output_type": "execute_result"
    }
   ],
   "source": [
    "p[0]"
   ]
  },
  {
   "cell_type": "code",
   "execution_count": null,
   "metadata": {},
   "outputs": [],
   "source": []
  }
 ],
 "metadata": {
  "kernelspec": {
   "display_name": "Python 3",
   "language": "python",
   "name": "python3"
  },
  "language_info": {
   "codemirror_mode": {
    "name": "ipython",
    "version": 3
   },
   "file_extension": ".py",
   "mimetype": "text/x-python",
   "name": "python",
   "nbconvert_exporter": "python",
   "pygments_lexer": "ipython3",
   "version": "3.6.9"
  },
  "toc": {
   "base_numbering": 1,
   "nav_menu": {},
   "number_sections": false,
   "sideBar": false,
   "skip_h1_title": false,
   "title_cell": "Table of Contents",
   "title_sidebar": "Contents",
   "toc_cell": false,
   "toc_position": {},
   "toc_section_display": false,
   "toc_window_display": false
  },
  "varInspector": {
   "cols": {
    "lenName": 16,
    "lenType": 16,
    "lenVar": 40
   },
   "kernels_config": {
    "python": {
     "delete_cmd_postfix": "",
     "delete_cmd_prefix": "del ",
     "library": "var_list.py",
     "varRefreshCmd": "print(var_dic_list())"
    },
    "r": {
     "delete_cmd_postfix": ") ",
     "delete_cmd_prefix": "rm(",
     "library": "var_list.r",
     "varRefreshCmd": "cat(var_dic_list()) "
    }
   },
   "types_to_exclude": [
    "module",
    "function",
    "builtin_function_or_method",
    "instance",
    "_Feature"
   ],
   "window_display": false
  },
  "widgets": {
   "application/vnd.jupyter.widget-state+json": {
    "state": {},
    "version_major": 2,
    "version_minor": 0
   }
  }
 },
 "nbformat": 4,
 "nbformat_minor": 4
}
