{
 "cells": [
  {
   "cell_type": "code",
   "execution_count": 6,
   "metadata": {},
   "outputs": [],
   "source": [
    "# importing required packages\n",
    "import pandas as pd\n",
    "import pandas_profiling\n",
    "import numpy as np\n",
    "import matplotlib.pyplot as plt"
   ]
  },
  {
   "cell_type": "code",
   "execution_count": 2,
   "metadata": {},
   "outputs": [],
   "source": [
    "# importing the data\n",
    "accident = pd.read_csv('/Users/sandippalit/Downloads/FARS2017NationalCSV/accident.csv')"
   ]
  },
  {
   "cell_type": "code",
   "execution_count": 15,
   "metadata": {},
   "outputs": [
    {
     "data": {
      "text/plain": [
       "STATE         34247\n",
       "ST_CASE       34247\n",
       "VE_TOTAL      34247\n",
       "VE_FORMS      34247\n",
       "PVH_INVL      34247\n",
       "PEDS          34247\n",
       "PERNOTMVIT    34247\n",
       "PERMVIT       34247\n",
       "PERSONS       34247\n",
       "COUNTY        34247\n",
       "CITY          34247\n",
       "DAY           34247\n",
       "MONTH         34247\n",
       "YEAR          34247\n",
       "DAY_WEEK      34247\n",
       "HOUR          34247\n",
       "MINUTE        34247\n",
       "NHS           34247\n",
       "RUR_URB       34247\n",
       "FUNC_SYS      34247\n",
       "RD_OWNER      34247\n",
       "ROUTE         34247\n",
       "TWAY_ID       34247\n",
       "TWAY_ID2       9145\n",
       "MILEPT        34247\n",
       "LATITUDE      34247\n",
       "LONGITUD      34247\n",
       "SP_JUR        34247\n",
       "HARM_EV       34247\n",
       "MAN_COLL      34247\n",
       "RELJCT1       34247\n",
       "RELJCT2       34247\n",
       "TYP_INT       34247\n",
       "WRK_ZONE      34247\n",
       "REL_ROAD      34247\n",
       "LGT_COND      34247\n",
       "WEATHER1      34247\n",
       "WEATHER2      34247\n",
       "WEATHER       34247\n",
       "SCH_BUS       34247\n",
       "RAIL          34247\n",
       "NOT_HOUR      34247\n",
       "NOT_MIN       34247\n",
       "ARR_HOUR      34247\n",
       "ARR_MIN       34247\n",
       "HOSP_HR       34247\n",
       "HOSP_MN       34247\n",
       "CF1           34247\n",
       "CF2           34247\n",
       "CF3           34247\n",
       "FATALS        34247\n",
       "DRUNK_DR      34247\n",
       "dtype: int64"
      ]
     },
     "execution_count": 15,
     "metadata": {},
     "output_type": "execute_result"
    }
   ],
   "source": [
    "accident.count()"
   ]
  },
  {
   "cell_type": "code",
   "execution_count": 88,
   "metadata": {},
   "outputs": [
    {
     "data": {
      "text/html": [
       "<div>\n",
       "<style scoped>\n",
       "    .dataframe tbody tr th:only-of-type {\n",
       "        vertical-align: middle;\n",
       "    }\n",
       "\n",
       "    .dataframe tbody tr th {\n",
       "        vertical-align: top;\n",
       "    }\n",
       "\n",
       "    .dataframe thead th {\n",
       "        text-align: right;\n",
       "    }\n",
       "</style>\n",
       "<table border=\"1\" class=\"dataframe\">\n",
       "  <thead>\n",
       "    <tr style=\"text-align: right;\">\n",
       "      <th></th>\n",
       "      <th>ST_CASE</th>\n",
       "    </tr>\n",
       "    <tr>\n",
       "      <th>STATE</th>\n",
       "      <th></th>\n",
       "    </tr>\n",
       "  </thead>\n",
       "  <tbody>\n",
       "    <tr>\n",
       "      <th>48</th>\n",
       "      <td>3343</td>\n",
       "    </tr>\n",
       "    <tr>\n",
       "      <th>6</th>\n",
       "      <td>3304</td>\n",
       "    </tr>\n",
       "    <tr>\n",
       "      <th>12</th>\n",
       "      <td>2922</td>\n",
       "    </tr>\n",
       "    <tr>\n",
       "      <th>13</th>\n",
       "      <td>1440</td>\n",
       "    </tr>\n",
       "    <tr>\n",
       "      <th>37</th>\n",
       "      <td>1306</td>\n",
       "    </tr>\n",
       "    <tr>\n",
       "      <th>39</th>\n",
       "      <td>1094</td>\n",
       "    </tr>\n",
       "    <tr>\n",
       "      <th>42</th>\n",
       "      <td>1083</td>\n",
       "    </tr>\n",
       "    <tr>\n",
       "      <th>17</th>\n",
       "      <td>1005</td>\n",
       "    </tr>\n",
       "    <tr>\n",
       "      <th>47</th>\n",
       "      <td>959</td>\n",
       "    </tr>\n",
       "    <tr>\n",
       "      <th>26</th>\n",
       "      <td>939</td>\n",
       "    </tr>\n",
       "    <tr>\n",
       "      <th>36</th>\n",
       "      <td>933</td>\n",
       "    </tr>\n",
       "    <tr>\n",
       "      <th>45</th>\n",
       "      <td>924</td>\n",
       "    </tr>\n",
       "    <tr>\n",
       "      <th>4</th>\n",
       "      <td>919</td>\n",
       "    </tr>\n",
       "    <tr>\n",
       "      <th>1</th>\n",
       "      <td>864</td>\n",
       "    </tr>\n",
       "    <tr>\n",
       "      <th>29</th>\n",
       "      <td>863</td>\n",
       "    </tr>\n",
       "    <tr>\n",
       "      <th>18</th>\n",
       "      <td>836</td>\n",
       "    </tr>\n",
       "    <tr>\n",
       "      <th>51</th>\n",
       "      <td>783</td>\n",
       "    </tr>\n",
       "    <tr>\n",
       "      <th>21</th>\n",
       "      <td>721</td>\n",
       "    </tr>\n",
       "    <tr>\n",
       "      <th>22</th>\n",
       "      <td>696</td>\n",
       "    </tr>\n",
       "    <tr>\n",
       "      <th>28</th>\n",
       "      <td>614</td>\n",
       "    </tr>\n",
       "    <tr>\n",
       "      <th>40</th>\n",
       "      <td>611</td>\n",
       "    </tr>\n",
       "    <tr>\n",
       "      <th>8</th>\n",
       "      <td>600</td>\n",
       "    </tr>\n",
       "    <tr>\n",
       "      <th>34</th>\n",
       "      <td>591</td>\n",
       "    </tr>\n",
       "    <tr>\n",
       "      <th>55</th>\n",
       "      <td>557</td>\n",
       "    </tr>\n",
       "    <tr>\n",
       "      <th>53</th>\n",
       "      <td>536</td>\n",
       "    </tr>\n",
       "    <tr>\n",
       "      <th>24</th>\n",
       "      <td>511</td>\n",
       "    </tr>\n",
       "    <tr>\n",
       "      <th>5</th>\n",
       "      <td>457</td>\n",
       "    </tr>\n",
       "    <tr>\n",
       "      <th>20</th>\n",
       "      <td>407</td>\n",
       "    </tr>\n",
       "    <tr>\n",
       "      <th>41</th>\n",
       "      <td>400</td>\n",
       "    </tr>\n",
       "    <tr>\n",
       "      <th>27</th>\n",
       "      <td>340</td>\n",
       "    </tr>\n",
       "    <tr>\n",
       "      <th>35</th>\n",
       "      <td>340</td>\n",
       "    </tr>\n",
       "    <tr>\n",
       "      <th>25</th>\n",
       "      <td>336</td>\n",
       "    </tr>\n",
       "    <tr>\n",
       "      <th>19</th>\n",
       "      <td>301</td>\n",
       "    </tr>\n",
       "    <tr>\n",
       "      <th>32</th>\n",
       "      <td>290</td>\n",
       "    </tr>\n",
       "    <tr>\n",
       "      <th>54</th>\n",
       "      <td>280</td>\n",
       "    </tr>\n",
       "    <tr>\n",
       "      <th>9</th>\n",
       "      <td>260</td>\n",
       "    </tr>\n",
       "    <tr>\n",
       "      <th>49</th>\n",
       "      <td>247</td>\n",
       "    </tr>\n",
       "    <tr>\n",
       "      <th>16</th>\n",
       "      <td>223</td>\n",
       "    </tr>\n",
       "    <tr>\n",
       "      <th>31</th>\n",
       "      <td>210</td>\n",
       "    </tr>\n",
       "    <tr>\n",
       "      <th>30</th>\n",
       "      <td>169</td>\n",
       "    </tr>\n",
       "    <tr>\n",
       "      <th>23</th>\n",
       "      <td>163</td>\n",
       "    </tr>\n",
       "    <tr>\n",
       "      <th>10</th>\n",
       "      <td>112</td>\n",
       "    </tr>\n",
       "    <tr>\n",
       "      <th>46</th>\n",
       "      <td>111</td>\n",
       "    </tr>\n",
       "    <tr>\n",
       "      <th>56</th>\n",
       "      <td>105</td>\n",
       "    </tr>\n",
       "    <tr>\n",
       "      <th>38</th>\n",
       "      <td>105</td>\n",
       "    </tr>\n",
       "    <tr>\n",
       "      <th>33</th>\n",
       "      <td>98</td>\n",
       "    </tr>\n",
       "    <tr>\n",
       "      <th>15</th>\n",
       "      <td>96</td>\n",
       "    </tr>\n",
       "    <tr>\n",
       "      <th>44</th>\n",
       "      <td>76</td>\n",
       "    </tr>\n",
       "    <tr>\n",
       "      <th>2</th>\n",
       "      <td>75</td>\n",
       "    </tr>\n",
       "    <tr>\n",
       "      <th>50</th>\n",
       "      <td>63</td>\n",
       "    </tr>\n",
       "    <tr>\n",
       "      <th>11</th>\n",
       "      <td>29</td>\n",
       "    </tr>\n",
       "  </tbody>\n",
       "</table>\n",
       "</div>"
      ],
      "text/plain": [
       "       ST_CASE\n",
       "STATE         \n",
       "48        3343\n",
       "6         3304\n",
       "12        2922\n",
       "13        1440\n",
       "37        1306\n",
       "39        1094\n",
       "42        1083\n",
       "17        1005\n",
       "47         959\n",
       "26         939\n",
       "36         933\n",
       "45         924\n",
       "4          919\n",
       "1          864\n",
       "29         863\n",
       "18         836\n",
       "51         783\n",
       "21         721\n",
       "22         696\n",
       "28         614\n",
       "40         611\n",
       "8          600\n",
       "34         591\n",
       "55         557\n",
       "53         536\n",
       "24         511\n",
       "5          457\n",
       "20         407\n",
       "41         400\n",
       "27         340\n",
       "35         340\n",
       "25         336\n",
       "19         301\n",
       "32         290\n",
       "54         280\n",
       "9          260\n",
       "49         247\n",
       "16         223\n",
       "31         210\n",
       "30         169\n",
       "23         163\n",
       "10         112\n",
       "46         111\n",
       "56         105\n",
       "38         105\n",
       "33          98\n",
       "15          96\n",
       "44          76\n",
       "2           75\n",
       "50          63\n",
       "11          29"
      ]
     },
     "execution_count": 88,
     "metadata": {},
     "output_type": "execute_result"
    }
   ],
   "source": [
    "accident.groupby(\"STATE\")[[\"ST_CASE\"]].count().sort_values(\"ST_CASE\",ascending=False)"
   ]
  },
  {
   "cell_type": "markdown",
   "metadata": {},
   "source": [
    "Top 5 States - Texas, California , Florida, Georgia , North Carolina.\n",
    "\n",
    "New york is 11th in terms of number of crashes.\n",
    "\n",
    "Would be intresting to see the relative rank of 50 states over 3 years to identify top movers."
   ]
  },
  {
   "cell_type": "code",
   "execution_count": 10,
   "metadata": {},
   "outputs": [
    {
     "data": {
      "text/plain": [
       "0    20241\n",
       "1    13086\n",
       "9      920\n",
       "Name: NHS, dtype: int64"
      ]
     },
     "execution_count": 10,
     "metadata": {},
     "output_type": "execute_result"
    }
   ],
   "source": [
    "accident.NHS.value_counts()[accident.NHS.value_counts()>10]"
   ]
  },
  {
   "cell_type": "code",
   "execution_count": 8,
   "metadata": {},
   "outputs": [
    {
     "data": {
      "text/plain": [
       "Text(0.5, 1.0, 'CRASH OCCURANCE ON NATIONAL HIGHWAY SYSTEM')"
      ]
     },
     "execution_count": 8,
     "metadata": {},
     "output_type": "execute_result"
    },
    {
     "data": {
      "image/png": "[encoded data removed]",
      "text/plain": [
       "<Figure size 1080x432 with 1 Axes>"
      ]
     },
     "metadata": {
      "needs_background": "light"
     },
     "output_type": "display_data"
    }
   ],
   "source": [
    "accident.NHS.value_counts()[accident.NHS.value_counts()>10].plot(kind='barh', figsize = (15,6))\n",
    "plt.title(\"CRASH OCCURANCE ON NATIONAL HIGHWAY SYSTEM\")"
   ]
  },
  {
   "cell_type": "code",
   "execution_count": 83,
   "metadata": {},
   "outputs": [],
   "source": [
    "NHS_1 =  accident[accident[\"NHS\"] == 1]\n"
   ]
  },
  {
   "cell_type": "code",
   "execution_count": 85,
   "metadata": {},
   "outputs": [
    {
     "data": {
      "text/html": [
       "<div>\n",
       "<style scoped>\n",
       "    .dataframe tbody tr th:only-of-type {\n",
       "        vertical-align: middle;\n",
       "    }\n",
       "\n",
       "    .dataframe tbody tr th {\n",
       "        vertical-align: top;\n",
       "    }\n",
       "\n",
       "    .dataframe thead th {\n",
       "        text-align: right;\n",
       "    }\n",
       "</style>\n",
       "<table border=\"1\" class=\"dataframe\">\n",
       "  <thead>\n",
       "    <tr style=\"text-align: right;\">\n",
       "      <th></th>\n",
       "      <th>NHS</th>\n",
       "    </tr>\n",
       "    <tr>\n",
       "      <th>STATE</th>\n",
       "      <th></th>\n",
       "    </tr>\n",
       "  </thead>\n",
       "  <tbody>\n",
       "    <tr>\n",
       "      <th>48</th>\n",
       "      <td>1677</td>\n",
       "    </tr>\n",
       "    <tr>\n",
       "      <th>6</th>\n",
       "      <td>1400</td>\n",
       "    </tr>\n",
       "    <tr>\n",
       "      <th>12</th>\n",
       "      <td>1164</td>\n",
       "    </tr>\n",
       "    <tr>\n",
       "      <th>13</th>\n",
       "      <td>597</td>\n",
       "    </tr>\n",
       "    <tr>\n",
       "      <th>42</th>\n",
       "      <td>432</td>\n",
       "    </tr>\n",
       "    <tr>\n",
       "      <th>47</th>\n",
       "      <td>423</td>\n",
       "    </tr>\n",
       "    <tr>\n",
       "      <th>17</th>\n",
       "      <td>420</td>\n",
       "    </tr>\n",
       "    <tr>\n",
       "      <th>26</th>\n",
       "      <td>359</td>\n",
       "    </tr>\n",
       "    <tr>\n",
       "      <th>29</th>\n",
       "      <td>352</td>\n",
       "    </tr>\n",
       "    <tr>\n",
       "      <th>37</th>\n",
       "      <td>347</td>\n",
       "    </tr>\n",
       "    <tr>\n",
       "      <th>4</th>\n",
       "      <td>340</td>\n",
       "    </tr>\n",
       "    <tr>\n",
       "      <th>39</th>\n",
       "      <td>335</td>\n",
       "    </tr>\n",
       "    <tr>\n",
       "      <th>8</th>\n",
       "      <td>334</td>\n",
       "    </tr>\n",
       "    <tr>\n",
       "      <th>1</th>\n",
       "      <td>324</td>\n",
       "    </tr>\n",
       "    <tr>\n",
       "      <th>34</th>\n",
       "      <td>310</td>\n",
       "    </tr>\n",
       "    <tr>\n",
       "      <th>36</th>\n",
       "      <td>267</td>\n",
       "    </tr>\n",
       "    <tr>\n",
       "      <th>22</th>\n",
       "      <td>255</td>\n",
       "    </tr>\n",
       "    <tr>\n",
       "      <th>21</th>\n",
       "      <td>225</td>\n",
       "    </tr>\n",
       "    <tr>\n",
       "      <th>18</th>\n",
       "      <td>220</td>\n",
       "    </tr>\n",
       "    <tr>\n",
       "      <th>28</th>\n",
       "      <td>203</td>\n",
       "    </tr>\n",
       "    <tr>\n",
       "      <th>5</th>\n",
       "      <td>199</td>\n",
       "    </tr>\n",
       "    <tr>\n",
       "      <th>45</th>\n",
       "      <td>194</td>\n",
       "    </tr>\n",
       "    <tr>\n",
       "      <th>55</th>\n",
       "      <td>189</td>\n",
       "    </tr>\n",
       "    <tr>\n",
       "      <th>41</th>\n",
       "      <td>186</td>\n",
       "    </tr>\n",
       "    <tr>\n",
       "      <th>35</th>\n",
       "      <td>185</td>\n",
       "    </tr>\n",
       "    <tr>\n",
       "      <th>40</th>\n",
       "      <td>166</td>\n",
       "    </tr>\n",
       "    <tr>\n",
       "      <th>51</th>\n",
       "      <td>160</td>\n",
       "    </tr>\n",
       "    <tr>\n",
       "      <th>20</th>\n",
       "      <td>150</td>\n",
       "    </tr>\n",
       "    <tr>\n",
       "      <th>25</th>\n",
       "      <td>150</td>\n",
       "    </tr>\n",
       "    <tr>\n",
       "      <th>32</th>\n",
       "      <td>137</td>\n",
       "    </tr>\n",
       "    <tr>\n",
       "      <th>16</th>\n",
       "      <td>130</td>\n",
       "    </tr>\n",
       "    <tr>\n",
       "      <th>27</th>\n",
       "      <td>124</td>\n",
       "    </tr>\n",
       "    <tr>\n",
       "      <th>53</th>\n",
       "      <td>123</td>\n",
       "    </tr>\n",
       "    <tr>\n",
       "      <th>24</th>\n",
       "      <td>110</td>\n",
       "    </tr>\n",
       "    <tr>\n",
       "      <th>54</th>\n",
       "      <td>109</td>\n",
       "    </tr>\n",
       "    <tr>\n",
       "      <th>9</th>\n",
       "      <td>96</td>\n",
       "    </tr>\n",
       "    <tr>\n",
       "      <th>49</th>\n",
       "      <td>94</td>\n",
       "    </tr>\n",
       "    <tr>\n",
       "      <th>19</th>\n",
       "      <td>91</td>\n",
       "    </tr>\n",
       "    <tr>\n",
       "      <th>30</th>\n",
       "      <td>81</td>\n",
       "    </tr>\n",
       "    <tr>\n",
       "      <th>31</th>\n",
       "      <td>72</td>\n",
       "    </tr>\n",
       "    <tr>\n",
       "      <th>56</th>\n",
       "      <td>63</td>\n",
       "    </tr>\n",
       "    <tr>\n",
       "      <th>23</th>\n",
       "      <td>48</td>\n",
       "    </tr>\n",
       "    <tr>\n",
       "      <th>46</th>\n",
       "      <td>47</td>\n",
       "    </tr>\n",
       "    <tr>\n",
       "      <th>2</th>\n",
       "      <td>43</td>\n",
       "    </tr>\n",
       "    <tr>\n",
       "      <th>33</th>\n",
       "      <td>40</td>\n",
       "    </tr>\n",
       "    <tr>\n",
       "      <th>38</th>\n",
       "      <td>35</td>\n",
       "    </tr>\n",
       "    <tr>\n",
       "      <th>10</th>\n",
       "      <td>25</td>\n",
       "    </tr>\n",
       "    <tr>\n",
       "      <th>44</th>\n",
       "      <td>22</td>\n",
       "    </tr>\n",
       "    <tr>\n",
       "      <th>50</th>\n",
       "      <td>18</td>\n",
       "    </tr>\n",
       "    <tr>\n",
       "      <th>15</th>\n",
       "      <td>15</td>\n",
       "    </tr>\n",
       "  </tbody>\n",
       "</table>\n",
       "</div>"
      ],
      "text/plain": [
       "        NHS\n",
       "STATE      \n",
       "48     1677\n",
       "6      1400\n",
       "12     1164\n",
       "13      597\n",
       "42      432\n",
       "47      423\n",
       "17      420\n",
       "26      359\n",
       "29      352\n",
       "37      347\n",
       "4       340\n",
       "39      335\n",
       "8       334\n",
       "1       324\n",
       "34      310\n",
       "36      267\n",
       "22      255\n",
       "21      225\n",
       "18      220\n",
       "28      203\n",
       "5       199\n",
       "45      194\n",
       "55      189\n",
       "41      186\n",
       "35      185\n",
       "40      166\n",
       "51      160\n",
       "20      150\n",
       "25      150\n",
       "32      137\n",
       "16      130\n",
       "27      124\n",
       "53      123\n",
       "24      110\n",
       "54      109\n",
       "9        96\n",
       "49       94\n",
       "19       91\n",
       "30       81\n",
       "31       72\n",
       "56       63\n",
       "23       48\n",
       "46       47\n",
       "2        43\n",
       "33       40\n",
       "38       35\n",
       "10       25\n",
       "44       22\n",
       "50       18\n",
       "15       15"
      ]
     },
     "execution_count": 85,
     "metadata": {},
     "output_type": "execute_result"
    }
   ],
   "source": [
    "NHS_1.groupby(\"STATE\")[[\"NHS\"]].sum().sort_values(\"NHS\",ascending=False)"
   ]
  },
  {
   "cell_type": "markdown",
   "metadata": {},
   "source": [
    "**Texas** has most of the crashes on National Highway , followed by **California** and **Florida**."
   ]
  },
  {
   "cell_type": "markdown",
   "metadata": {},
   "source": [
    "0 - Not on NHS, 1 - IS ON the NHS, 9 - Unknwn if on NHS.\n",
    "\n",
    "**About 60%** of the fatal crash occurred on a trafficway that is **Not part of the National Highway system.** About 40% occured in National Highway System."
   ]
  },
  {
   "cell_type": "code",
   "execution_count": 12,
   "metadata": {},
   "outputs": [
    {
     "data": {
      "text/plain": [
       "Text(0.5, 1.0, 'CRASH OCCURANCE ON URBAN Vs RURAL AREAS')"
      ]
     },
     "execution_count": 12,
     "metadata": {},
     "output_type": "execute_result"
    },
    {
     "data": {
      "image/png": "[encoded data removed]",
      "text/plain": [
       "<Figure size 1080x432 with 1 Axes>"
      ]
     },
     "metadata": {
      "needs_background": "light"
     },
     "output_type": "display_data"
    }
   ],
   "source": [
    "accident.RUR_URB.value_counts()[accident.RUR_URB.value_counts()>1000].plot(kind='barh', figsize = (15,6))\n",
    "plt.title(\"CRASH OCCURANCE ON URBAN Vs RURAL AREAS\")"
   ]
  },
  {
   "cell_type": "markdown",
   "metadata": {},
   "source": [
    "1 Rural , 2 Urban"
   ]
  },
  {
   "cell_type": "code",
   "execution_count": 86,
   "metadata": {},
   "outputs": [],
   "source": [
    "rural = accident[accident[\"RUR_URB\"] == 1]"
   ]
  },
  {
   "cell_type": "code",
   "execution_count": 87,
   "metadata": {},
   "outputs": [
    {
     "data": {
      "text/html": [
       "<div>\n",
       "<style scoped>\n",
       "    .dataframe tbody tr th:only-of-type {\n",
       "        vertical-align: middle;\n",
       "    }\n",
       "\n",
       "    .dataframe tbody tr th {\n",
       "        vertical-align: top;\n",
       "    }\n",
       "\n",
       "    .dataframe thead th {\n",
       "        text-align: right;\n",
       "    }\n",
       "</style>\n",
       "<table border=\"1\" class=\"dataframe\">\n",
       "  <thead>\n",
       "    <tr style=\"text-align: right;\">\n",
       "      <th></th>\n",
       "      <th>RUR_URB</th>\n",
       "    </tr>\n",
       "    <tr>\n",
       "      <th>STATE</th>\n",
       "      <th></th>\n",
       "    </tr>\n",
       "  </thead>\n",
       "  <tbody>\n",
       "    <tr>\n",
       "      <th>48</th>\n",
       "      <td>1281</td>\n",
       "    </tr>\n",
       "    <tr>\n",
       "      <th>6</th>\n",
       "      <td>1239</td>\n",
       "    </tr>\n",
       "    <tr>\n",
       "      <th>37</th>\n",
       "      <td>830</td>\n",
       "    </tr>\n",
       "    <tr>\n",
       "      <th>45</th>\n",
       "      <td>639</td>\n",
       "    </tr>\n",
       "    <tr>\n",
       "      <th>12</th>\n",
       "      <td>623</td>\n",
       "    </tr>\n",
       "    <tr>\n",
       "      <th>42</th>\n",
       "      <td>574</td>\n",
       "    </tr>\n",
       "    <tr>\n",
       "      <th>13</th>\n",
       "      <td>534</td>\n",
       "    </tr>\n",
       "    <tr>\n",
       "      <th>1</th>\n",
       "      <td>532</td>\n",
       "    </tr>\n",
       "    <tr>\n",
       "      <th>39</th>\n",
       "      <td>507</td>\n",
       "    </tr>\n",
       "    <tr>\n",
       "      <th>18</th>\n",
       "      <td>502</td>\n",
       "    </tr>\n",
       "    <tr>\n",
       "      <th>51</th>\n",
       "      <td>476</td>\n",
       "    </tr>\n",
       "    <tr>\n",
       "      <th>21</th>\n",
       "      <td>465</td>\n",
       "    </tr>\n",
       "    <tr>\n",
       "      <th>47</th>\n",
       "      <td>455</td>\n",
       "    </tr>\n",
       "    <tr>\n",
       "      <th>29</th>\n",
       "      <td>433</td>\n",
       "    </tr>\n",
       "    <tr>\n",
       "      <th>36</th>\n",
       "      <td>427</td>\n",
       "    </tr>\n",
       "    <tr>\n",
       "      <th>40</th>\n",
       "      <td>385</td>\n",
       "    </tr>\n",
       "    <tr>\n",
       "      <th>28</th>\n",
       "      <td>381</td>\n",
       "    </tr>\n",
       "    <tr>\n",
       "      <th>26</th>\n",
       "      <td>367</td>\n",
       "    </tr>\n",
       "    <tr>\n",
       "      <th>17</th>\n",
       "      <td>361</td>\n",
       "    </tr>\n",
       "    <tr>\n",
       "      <th>55</th>\n",
       "      <td>355</td>\n",
       "    </tr>\n",
       "    <tr>\n",
       "      <th>22</th>\n",
       "      <td>325</td>\n",
       "    </tr>\n",
       "    <tr>\n",
       "      <th>4</th>\n",
       "      <td>304</td>\n",
       "    </tr>\n",
       "    <tr>\n",
       "      <th>5</th>\n",
       "      <td>298</td>\n",
       "    </tr>\n",
       "    <tr>\n",
       "      <th>20</th>\n",
       "      <td>278</td>\n",
       "    </tr>\n",
       "    <tr>\n",
       "      <th>41</th>\n",
       "      <td>255</td>\n",
       "    </tr>\n",
       "    <tr>\n",
       "      <th>8</th>\n",
       "      <td>253</td>\n",
       "    </tr>\n",
       "    <tr>\n",
       "      <th>19</th>\n",
       "      <td>234</td>\n",
       "    </tr>\n",
       "    <tr>\n",
       "      <th>53</th>\n",
       "      <td>218</td>\n",
       "    </tr>\n",
       "    <tr>\n",
       "      <th>27</th>\n",
       "      <td>199</td>\n",
       "    </tr>\n",
       "    <tr>\n",
       "      <th>54</th>\n",
       "      <td>188</td>\n",
       "    </tr>\n",
       "    <tr>\n",
       "      <th>35</th>\n",
       "      <td>169</td>\n",
       "    </tr>\n",
       "    <tr>\n",
       "      <th>30</th>\n",
       "      <td>150</td>\n",
       "    </tr>\n",
       "    <tr>\n",
       "      <th>31</th>\n",
       "      <td>148</td>\n",
       "    </tr>\n",
       "    <tr>\n",
       "      <th>23</th>\n",
       "      <td>128</td>\n",
       "    </tr>\n",
       "    <tr>\n",
       "      <th>16</th>\n",
       "      <td>123</td>\n",
       "    </tr>\n",
       "    <tr>\n",
       "      <th>24</th>\n",
       "      <td>115</td>\n",
       "    </tr>\n",
       "    <tr>\n",
       "      <th>49</th>\n",
       "      <td>97</td>\n",
       "    </tr>\n",
       "    <tr>\n",
       "      <th>38</th>\n",
       "      <td>93</td>\n",
       "    </tr>\n",
       "    <tr>\n",
       "      <th>46</th>\n",
       "      <td>91</td>\n",
       "    </tr>\n",
       "    <tr>\n",
       "      <th>56</th>\n",
       "      <td>80</td>\n",
       "    </tr>\n",
       "    <tr>\n",
       "      <th>34</th>\n",
       "      <td>76</td>\n",
       "    </tr>\n",
       "    <tr>\n",
       "      <th>32</th>\n",
       "      <td>75</td>\n",
       "    </tr>\n",
       "    <tr>\n",
       "      <th>10</th>\n",
       "      <td>57</td>\n",
       "    </tr>\n",
       "    <tr>\n",
       "      <th>50</th>\n",
       "      <td>52</td>\n",
       "    </tr>\n",
       "    <tr>\n",
       "      <th>33</th>\n",
       "      <td>48</td>\n",
       "    </tr>\n",
       "    <tr>\n",
       "      <th>2</th>\n",
       "      <td>43</td>\n",
       "    </tr>\n",
       "    <tr>\n",
       "      <th>9</th>\n",
       "      <td>41</td>\n",
       "    </tr>\n",
       "    <tr>\n",
       "      <th>15</th>\n",
       "      <td>24</td>\n",
       "    </tr>\n",
       "    <tr>\n",
       "      <th>25</th>\n",
       "      <td>20</td>\n",
       "    </tr>\n",
       "    <tr>\n",
       "      <th>44</th>\n",
       "      <td>17</td>\n",
       "    </tr>\n",
       "  </tbody>\n",
       "</table>\n",
       "</div>"
      ],
      "text/plain": [
       "       RUR_URB\n",
       "STATE         \n",
       "48        1281\n",
       "6         1239\n",
       "37         830\n",
       "45         639\n",
       "12         623\n",
       "42         574\n",
       "13         534\n",
       "1          532\n",
       "39         507\n",
       "18         502\n",
       "51         476\n",
       "21         465\n",
       "47         455\n",
       "29         433\n",
       "36         427\n",
       "40         385\n",
       "28         381\n",
       "26         367\n",
       "17         361\n",
       "55         355\n",
       "22         325\n",
       "4          304\n",
       "5          298\n",
       "20         278\n",
       "41         255\n",
       "8          253\n",
       "19         234\n",
       "53         218\n",
       "27         199\n",
       "54         188\n",
       "35         169\n",
       "30         150\n",
       "31         148\n",
       "23         128\n",
       "16         123\n",
       "24         115\n",
       "49          97\n",
       "38          93\n",
       "46          91\n",
       "56          80\n",
       "34          76\n",
       "32          75\n",
       "10          57\n",
       "50          52\n",
       "33          48\n",
       "2           43\n",
       "9           41\n",
       "15          24\n",
       "25          20\n",
       "44          17"
      ]
     },
     "execution_count": 87,
     "metadata": {},
     "output_type": "execute_result"
    }
   ],
   "source": [
    "rural.groupby(\"STATE\")[[\"RUR_URB\"]].sum().sort_values(\"RUR_URB\",ascending=False)"
   ]
  },
  {
   "cell_type": "markdown",
   "metadata": {},
   "source": [
    "**North Carolina** is 3rd state in terms of fatal crashes in the rural areas. "
   ]
  },
  {
   "cell_type": "code",
   "execution_count": 19,
   "metadata": {},
   "outputs": [
    {
     "data": {
      "text/plain": [
       "3    10165\n",
       "6     6175\n",
       "2     5498\n",
       "4     4892\n",
       "1     4144\n",
       "8     1240\n",
       "5     1176\n",
       "Name: ROUTE, dtype: int64"
      ]
     },
     "execution_count": 19,
     "metadata": {},
     "output_type": "execute_result"
    }
   ],
   "source": [
    "accident.ROUTE .value_counts()[accident.ROUTE .value_counts()>1000]"
   ]
  },
  {
   "cell_type": "markdown",
   "metadata": {},
   "source": [
    "1- Rural , 2 - Urban , 8 - Not Reported,9 - Unknown.\n",
    "\n",
    "Percentage of crashes in urban vs rural areas is fairly even split , with 54% of the crash occured on segments of roads that are classified in Urban areas and about 46% in Rural Areas.\n",
    "\n"
   ]
  },
  {
   "cell_type": "code",
   "execution_count": 18,
   "metadata": {},
   "outputs": [
    {
     "data": {
      "text/plain": [
       "Text(0.5, 1.0, 'CRASH OCCURANCE ON URBAN Vs RURAL AREAS')"
      ]
     },
     "execution_count": 18,
     "metadata": {},
     "output_type": "execute_result"
    },
    {
     "data": {
      "image/png": "[encoded data removed]",
      "text/plain": [
       "<Figure size 1080x432 with 1 Axes>"
      ]
     },
     "metadata": {
      "needs_background": "light"
     },
     "output_type": "display_data"
    }
   ],
   "source": [
    "accident.ROUTE .value_counts()[accident.ROUTE .value_counts()>1000].plot(kind='barh', figsize = (15,6))\n",
    "plt.title(\"CRASH OCCURANCE ON URBAN Vs RURAL AREAS\")"
   ]
  },
  {
   "cell_type": "markdown",
   "metadata": {},
   "source": [
    "1 Interstate 2 U.S. Highway 3 State Highway 4 County Road 5 Local Street - Township 6 Local Street - Municipality 7 Local Street - Frontage Road 8 Other 9 Unknown\n",
    "\n",
    "**State Highway** had highest percentage (about 31%) of total crashes reported.\n",
    "\n",
    "**Local Street - Municipality (19%)** comes next followed by **US Highway (16.7%)**.\n",
    "\n",
    "**Interstates** comes 4th with 15% of all reported crashes.\n",
    "\n",
    "\n"
   ]
  },
  {
   "cell_type": "code",
   "execution_count": 21,
   "metadata": {},
   "outputs": [
    {
     "data": {
      "text/plain": [
       "12    13414\n",
       "8      5546\n",
       "1      2750\n",
       "42     2416\n",
       "33     1109\n",
       "34      884\n",
       "35      880\n",
       "9       775\n",
       "24      741\n",
       "30      672\n",
       "Name: HARM_EV, dtype: int64"
      ]
     },
     "execution_count": 21,
     "metadata": {},
     "output_type": "execute_result"
    }
   ],
   "source": [
    "accident.HARM_EV .value_counts()[accident.HARM_EV.value_counts()>500]"
   ]
  },
  {
   "cell_type": "markdown",
   "metadata": {},
   "source": [
    "01 Rollover/Overturn 02 Fire/Explosion 03 Immersion or Partial Immersion 04 Gas Inhalation 51 Jackknife (harmful to this vehicle) 06 Injured in Vehicle (Non-Collision) 44 Pavement Surface Irregularity (Ruts, Potholes, Grates, etc.) 07 Other Non-Collision 16 Thrown or Falling Object 72 Cargo/Equipment Loss or Shift (harmful to this vehicle) 05 Fell/Jumped from Vehicle\n",
    "\n",
    "The First Harmful Event is defined as the first injury- or damage-producing event of the crash.\n",
    "\n",
    "12 - Collision with Motor Vehicle in Transport = 13414\n",
    "\n",
    "8 - Collision with Pedestrian = 5546\n",
    "\n",
    "9 - Collision with Cyclist = 775\n",
    "\n",
    "1 - No Collision - Rollover/ Overturn = 2750\n",
    "\n",
    "42 - Collision with Trees = 2416\n",
    "\n",
    "33 - Collision with Curb = 1109"
   ]
  },
  {
   "cell_type": "code",
   "execution_count": 24,
   "metadata": {},
   "outputs": [
    {
     "data": {
      "text/plain": [
       "0     20778\n",
       "6      6354\n",
       "2      3471\n",
       "1      2456\n",
       "7       567\n",
       "8       394\n",
       "11       96\n",
       "99       60\n",
       "9        43\n",
       "98       27\n",
       "Name: MAN_COLL, dtype: int64"
      ]
     },
     "execution_count": 24,
     "metadata": {},
     "output_type": "execute_result"
    }
   ],
   "source": [
    "accident.MAN_COLL .value_counts()[accident.MAN_COLL.value_counts()>10]"
   ]
  },
  {
   "cell_type": "markdown",
   "metadata": {},
   "source": [
    "orientation of two motor vehicles in-transport when they are involved in the First Harmful Event of a collision crash. \n",
    "\n",
    "00 Not a Collision with a Motor Vehicle In-Transport 01 Front-to-Rear 02 Front-to-Front 06 Angle 07 Sideswipe-Same Direction 08 Sideswipe-Opposite Direction 09 Rear-to-Side 10 Rear-to-Rear 11 Other 98 Not Reported 99 Unknown"
   ]
  },
  {
   "cell_type": "markdown",
   "metadata": {},
   "source": [
    "Almost **50% of all collisions between Motor vehicles happen at an Angle**. Next is **Front-to front (27%)** , followed by **Front to Rear (19%)**."
   ]
  },
  {
   "cell_type": "code",
   "execution_count": 26,
   "metadata": {},
   "outputs": [
    {
     "data": {
      "text/plain": [
       "1     25748\n",
       "2      5342\n",
       "3      2787\n",
       "4       219\n",
       "99       49\n",
       "10       29\n",
       "7        27\n",
       "98       23\n",
       "6        17\n",
       "Name: TYP_INT, dtype: int64"
      ]
     },
     "execution_count": 26,
     "metadata": {},
     "output_type": "execute_result"
    }
   ],
   "source": [
    "accident.TYP_INT.value_counts()[accident.TYP_INT.value_counts()>10]"
   ]
  },
  {
   "cell_type": "markdown",
   "metadata": {},
   "source": [
    "01 Not an Intersection 02 Four-Way Intersection 03 T-Intersection 04 Y-Intersection 05 Traffic Circle 06 Roundabout 07 Five-Point, or More 10 L-Intersection 98 Not Reported 99 Unknown\n",
    "\n",
    "For the crashes that took place in intersections, **Four way intersection is most common (63%) followed by T-Intersection (33%)**."
   ]
  },
  {
   "cell_type": "code",
   "execution_count": 27,
   "metadata": {},
   "outputs": [
    {
     "data": {
      "text/plain": [
       "0    33537\n",
       "1      441\n",
       "4      211\n",
       "2       47\n",
       "3       11\n",
       "Name: WRK_ZONE, dtype: int64"
      ]
     },
     "execution_count": 27,
     "metadata": {},
     "output_type": "execute_result"
    }
   ],
   "source": [
    "accident.WRK_ZONE.value_counts()[accident.WRK_ZONE.value_counts()>10]"
   ]
  },
  {
   "cell_type": "markdown",
   "metadata": {},
   "source": [
    "This data element captures that this was a “Work Zone Accident” as defined in ANSI D16.1, 7th\n",
    "Edition. If the crash qualifies as a \"Work Zone Accident\" then the type of work activity is identified.\n",
    "\n",
    "0 None 1 Construction 2 Maintenance 3 Utility 4 Work Zone, Type Unknown.\n",
    "\n",
    "**Only about 2% of the total crashes took place in a work zone.**\n",
    "\n"
   ]
  },
  {
   "cell_type": "code",
   "execution_count": 28,
   "metadata": {},
   "outputs": [
    {
     "data": {
      "text/plain": [
       "1     20942\n",
       "4      9991\n",
       "3      1322\n",
       "5       921\n",
       "2       499\n",
       "8       171\n",
       "6       113\n",
       "7        93\n",
       "10       92\n",
       "99       52\n",
       "11       36\n",
       "98       15\n",
       "Name: REL_ROAD, dtype: int64"
      ]
     },
     "execution_count": 28,
     "metadata": {},
     "output_type": "execute_result"
    }
   ],
   "source": [
    "accident.REL_ROAD.value_counts()[accident.REL_ROAD.value_counts()>10]"
   ]
  },
  {
   "cell_type": "markdown",
   "metadata": {},
   "source": [
    "01 On Roadway 02 On Shoulder 03 On Median 04 On Roadside 05 Outside Trafficway 06 Off Roadway – Location Unknown \n",
    "07 In Parking Lane/Zone 08 Gore 10 Separator 11 Continuous Left-Turn Lane 98 Not Reported 99 Unknown\n",
    "\n",
    "This element identifies the location of the crash as it relates to its position within or outside the\n",
    "trafficway.\n",
    "\n",
    "Although vast majority of the crashes happened on the roadway ( 90%) , a sizeable chunk appeared on outside roadway as well. Outside roadways, most of the crashes happened on the median."
   ]
  },
  {
   "cell_type": "code",
   "execution_count": 31,
   "metadata": {},
   "outputs": [
    {
     "data": {
      "text/plain": [
       "1    16335\n",
       "2     9436\n",
       "3     6560\n",
       "5      789\n",
       "4      651\n",
       "6      283\n",
       "9      168\n",
       "Name: LGT_COND, dtype: int64"
      ]
     },
     "execution_count": 31,
     "metadata": {},
     "output_type": "execute_result"
    }
   ],
   "source": [
    "accident.LGT_COND.value_counts()[accident.LGT_COND.value_counts()>100]"
   ]
  },
  {
   "cell_type": "markdown",
   "metadata": {},
   "source": [
    "This element records the type/level of light that existed at the time of the crash as reported in the\n",
    "case materials.\n",
    "\n",
    "1 Daylight 2 Dark - Not Lighted 3 Dark - Lighted 6 Dark - Unknown Lighting 4 Dawn 5 Dusk 7 Other 8 Not Reported 9 Unknown\n",
    "\n",
    "Majority of the crashed occured in daylights.\n",
    "\n",
    "when the crashes occured in Dark, more occured when it is dark and not lighted. "
   ]
  },
  {
   "cell_type": "code",
   "execution_count": 32,
   "metadata": {},
   "outputs": [
    {
     "data": {
      "text/plain": [
       "Text(0.5, 1.0, 'CRASH OCCURANCE ON URBAN Vs RURAL AREAS')"
      ]
     },
     "execution_count": 32,
     "metadata": {},
     "output_type": "execute_result"
    },
    {
     "data": {
      "image/png": "[encoded data removed]",
      "text/plain": [
       "<Figure size 1080x432 with 1 Axes>"
      ]
     },
     "metadata": {
      "needs_background": "light"
     },
     "output_type": "display_data"
    }
   ],
   "source": [
    "accident.LGT_COND.value_counts()[accident.LGT_COND.value_counts()>100].plot(kind='barh', figsize = (15,6))\n",
    "plt.title(\"CRASH OCCURANCE ON URBAN Vs RURAL AREAS\")"
   ]
  },
  {
   "cell_type": "code",
   "execution_count": 33,
   "metadata": {},
   "outputs": [
    {
     "data": {
      "text/plain": [
       "1     23424\n",
       "10     4837\n",
       "2      2460\n",
       "98     2424\n",
       "5       465\n",
       "4       320\n",
       "99      123\n",
       "Name: WEATHER, dtype: int64"
      ]
     },
     "execution_count": 33,
     "metadata": {},
     "output_type": "execute_result"
    }
   ],
   "source": [
    "accident.WEATHER.value_counts()[accident.WEATHER.value_counts()>100]"
   ]
  },
  {
   "cell_type": "markdown",
   "metadata": {},
   "source": [
    "This element identifies the prevailing atmospheric conditions that existed at the time of the crash as\n",
    "recorded on the Police Crash Report.\n",
    "\n",
    "00 No Additional Atmospheric Conditions 01 Clear 10 Cloudy 02 Rain 03 Sleet or Hail 12 Freezing Rain or Drizzle 04 Snow 11 Blowing Snow 05 Fog, Smog, Smoke 06 Severe Crosswinds 07 Blowing Sand, Soil, Dirt 08 Other 98 Not Reported 99 Unknown"
   ]
  },
  {
   "cell_type": "code",
   "execution_count": 34,
   "metadata": {},
   "outputs": [
    {
     "data": {
      "text/plain": [
       "<matplotlib.axes._subplots.AxesSubplot at 0x118fea940>"
      ]
     },
     "execution_count": 34,
     "metadata": {},
     "output_type": "execute_result"
    },
    {
     "data": {
      "image/png": "[encoded data removed]",
      "text/plain": [
       "<Figure size 1080x432 with 1 Axes>"
      ]
     },
     "metadata": {
      "needs_background": "light"
     },
     "output_type": "display_data"
    }
   ],
   "source": [
    "accident.WEATHER.value_counts()[accident.WEATHER.value_counts()>100].plot(kind='barh', figsize = (15,6))"
   ]
  },
  {
   "cell_type": "code",
   "execution_count": 39,
   "metadata": {},
   "outputs": [
    {
     "data": {
      "text/plain": [
       "0     31637\n",
       "14      689\n",
       "99      416\n",
       "20      350\n",
       "19      300\n",
       "23      249\n",
       "22      149\n",
       "Name: CF1, dtype: int64"
      ]
     },
     "execution_count": 39,
     "metadata": {},
     "output_type": "execute_result"
    }
   ],
   "source": [
    "accident.CF1.value_counts()[accident.CF1.value_counts()>100]"
   ]
  },
  {
   "cell_type": "markdown",
   "metadata": {},
   "source": [
    "CF1 This element identifies factors related to the crash expressed by the investigating officer.\n",
    "\n",
    "Vast Majority (more than 90%) is left blank. Out of about 10% as reported, Motor Vehicle Struck by Falling Cargo, or Something That Came Loose from, Or Something That was Set-in-Motion by a Vehicle was the leading contributing factor followed by crashes where police pursuit is involved (1% of total crashes."
   ]
  },
  {
   "cell_type": "code",
   "execution_count": 43,
   "metadata": {},
   "outputs": [
    {
     "data": {
      "text/plain": [
       "7     3226\n",
       "9     3068\n",
       "10    3064\n",
       "6     3015\n",
       "8     2964\n",
       "5     2896\n",
       "11    2852\n",
       "12    2815\n",
       "4     2743\n",
       "3     2686\n",
       "1     2616\n",
       "2     2302\n",
       "Name: MONTH, dtype: int64"
      ]
     },
     "execution_count": 43,
     "metadata": {},
     "output_type": "execute_result"
    }
   ],
   "source": [
    "accident.MONTH.value_counts()[accident.MONTH.value_counts()>100]"
   ]
  },
  {
   "cell_type": "markdown",
   "metadata": {},
   "source": [
    "July and September are the months with most # of crashes while February and January are the months with lease # of crashes."
   ]
  },
  {
   "cell_type": "code",
   "execution_count": 44,
   "metadata": {},
   "outputs": [
    {
     "data": {
      "text/plain": [
       "7    5873\n",
       "1    5360\n",
       "6    5358\n",
       "5    4621\n",
       "2    4374\n",
       "3    4347\n",
       "4    4314\n",
       "Name: DAY_WEEK, dtype: int64"
      ]
     },
     "execution_count": 44,
     "metadata": {},
     "output_type": "execute_result"
    }
   ],
   "source": [
    "accident.DAY_WEEK.value_counts()[accident.DAY_WEEK.value_counts()>100]"
   ]
  },
  {
   "cell_type": "code",
   "execution_count": 40,
   "metadata": {},
   "outputs": [],
   "source": [
    "factor = pd.read_csv('/Users/sandippalit/Downloads/FARS2017NationalCSV/factor.csv')"
   ]
  },
  {
   "cell_type": "code",
   "execution_count": 41,
   "metadata": {},
   "outputs": [
    {
     "data": {
      "text/plain": [
       "STATE      52720\n",
       "ST_CASE    52720\n",
       "VEH_NO     52720\n",
       "MFACTOR    52720\n",
       "dtype: int64"
      ]
     },
     "execution_count": 41,
     "metadata": {},
     "output_type": "execute_result"
    }
   ],
   "source": [
    "factor.count()"
   ]
  },
  {
   "cell_type": "code",
   "execution_count": 42,
   "metadata": {},
   "outputs": [
    {
     "data": {
      "text/plain": [
       "0     46005\n",
       "99     2855\n",
       "98     2649\n",
       "1       657\n",
       "97      147\n",
       "2       115\n",
       "Name: MFACTOR, dtype: int64"
      ]
     },
     "execution_count": 42,
     "metadata": {},
     "output_type": "execute_result"
    }
   ],
   "source": [
    "factor.MFACTOR.value_counts()[factor.MFACTOR.value_counts()>100]"
   ]
  },
  {
   "cell_type": "markdown",
   "metadata": {},
   "source": [
    "This element describes the possible pre-existing motor vehicle defects or maintenance conditions\n",
    "that may have contributed to the crash.Important for determining the significance of pre-existing problems, including equipment and operation, in motor vehicles involved in crashes that could be useful in determining the need for\n",
    "improvements in manufacturing and consumer alerts.\n",
    "\n",
    "00 None 01 Tires 02 Brake System 03 Steering 04 Suspension 05 Power Train 06 Exhaust System 07 Head Lights 08 Signal Lights 09 Other Lights 10 Wipers 11 Wheels 12 Mirrors 13 Windows/Windshield 14 Body, Doors 15 Truck Coupling / Trailer Hitch / Safety Chains 16 Safety Systems 17 Vehicle Contributing Factors - No Details 97 Other 98 Not Reported 99 Unknown\n",
    "\n"
   ]
  },
  {
   "cell_type": "markdown",
   "metadata": {},
   "source": [
    "**Vast Majority (87%) do not have any pre-existing conditions**. Ones that are known and reported, Tires top the lists followed by brake systems.\n",
    "\n",
    "correlating this with vehicle dataset will give very useful insights."
   ]
  },
  {
   "cell_type": "code",
   "execution_count": 45,
   "metadata": {},
   "outputs": [],
   "source": [
    "distract = pd.read_csv('/Users/sandippalit/Downloads/FARS2017NationalCSV/distract.csv')"
   ]
  },
  {
   "cell_type": "code",
   "execution_count": 48,
   "metadata": {},
   "outputs": [
    {
     "data": {
      "text/plain": [
       "STATE       52692\n",
       "ST_CASE     52692\n",
       "VEH_NO      52692\n",
       "MDRDSTRD    52692\n",
       "dtype: int64"
      ]
     },
     "execution_count": 48,
     "metadata": {},
     "output_type": "execute_result"
    }
   ],
   "source": [
    "distract.count()"
   ]
  },
  {
   "cell_type": "code",
   "execution_count": 49,
   "metadata": {},
   "outputs": [
    {
     "data": {
      "text/plain": [
       "0     25981\n",
       "96    14550\n",
       "99     8445\n",
       "93     1043\n",
       "1       359\n",
       "17      358\n",
       "16      316\n",
       "92      254\n",
       "12      241\n",
       "98      233\n",
       "6       160\n",
       "3       148\n",
       "10      131\n",
       "15      128\n",
       "5       127\n",
       "Name: MDRDSTRD, dtype: int64"
      ]
     },
     "execution_count": 49,
     "metadata": {},
     "output_type": "execute_result"
    }
   ],
   "source": [
    "distract.MDRDSTRD.value_counts()[distract.MDRDSTRD.value_counts()>100]"
   ]
  },
  {
   "cell_type": "code",
   "execution_count": 53,
   "metadata": {},
   "outputs": [
    {
     "data": {
      "text/plain": [
       "96    14550\n",
       "99     8445\n",
       "93     1043\n",
       "1       359\n",
       "17      358\n",
       "16      316\n",
       "92      254\n",
       "12      241\n",
       "98      233\n",
       "6       160\n",
       "3       148\n",
       "10      131\n",
       "15      128\n",
       "5       127\n",
       "13       48\n",
       "7        46\n",
       "19       37\n",
       "9        27\n",
       "18       23\n",
       "4        16\n",
       "97       15\n",
       "Name: MDRDSTRD, dtype: int64"
      ]
     },
     "execution_count": 53,
     "metadata": {},
     "output_type": "execute_result"
    }
   ],
   "source": [
    "distract[\"MDRDSTRD\"][distract[\"MDRDSTRD\"] != 0] .value_counts()[distract[\"MDRDSTRD\"].value_counts()>10]"
   ]
  },
  {
   "cell_type": "markdown",
   "metadata": {},
   "source": [
    "05 While Talking or Listening to Cellular Phone = 127\n",
    "\n",
    "06 While Manipulating Cellular Phone = 160\n",
    "\n",
    "15 Other Cellular Phone Related = 128 \n",
    "\n",
    "Total Cellular Phone related = 415\n",
    "\n",
    "Total close to 1% of all reported crashes are due to cellphone. Out of the causes of inattention reported , Cellphones related inattention  constitute about 16% ."
   ]
  },
  {
   "cell_type": "markdown",
   "metadata": {},
   "source": [
    "What is the distribution of cell phone related crashes by state?"
   ]
  },
  {
   "cell_type": "code",
   "execution_count": 57,
   "metadata": {},
   "outputs": [],
   "source": [
    "violation = pd.read_csv('/Users/sandippalit/Downloads/FARS2017NationalCSV/Violatn.csv')"
   ]
  },
  {
   "cell_type": "code",
   "execution_count": 67,
   "metadata": {},
   "outputs": [
    {
     "data": {
      "text/plain": [
       "1     1151\n",
       "11     933\n",
       "99     583\n",
       "46     529\n",
       "4      388\n",
       "72     349\n",
       "95     316\n",
       "7      316\n",
       "2      309\n",
       "Name: MVIOLATN, dtype: int64"
      ]
     },
     "execution_count": 67,
     "metadata": {},
     "output_type": "execute_result"
    }
   ],
   "source": [
    "violation[\"MVIOLATN\"][violation[\"MVIOLATN\"] != 0].value_counts()[violation[\"MVIOLATN\"].value_counts()>300]"
   ]
  },
  {
   "cell_type": "markdown",
   "metadata": {},
   "source": [
    "This element identifies all violations, citations, and infractions noted as charged to this driver in this\n",
    "crash."
   ]
  },
  {
   "cell_type": "markdown",
   "metadata": {},
   "source": [
    "01- Manslaughter or Homicide = 1151\n",
    "\n",
    "11 - Driving while intoxicated (alcohol or drugs) = 933\n",
    "\n",
    "46 - Fail to Yield = 388\n",
    "\n",
    "72 - Other Driver License Violations\n",
    "\n",
    "\n",
    "\n",
    "\n",
    "\n"
   ]
  },
  {
   "cell_type": "code",
   "execution_count": null,
   "metadata": {},
   "outputs": [],
   "source": []
  }
 ],
 "metadata": {
  "kernelspec": {
   "display_name": "Python 3",
   "language": "python",
   "name": "python3"
  },
  "language_info": {
   "codemirror_mode": {
    "name": "ipython",
    "version": 3
   },
   "file_extension": ".py",
   "mimetype": "text/x-python",
   "name": "python",
   "nbconvert_exporter": "python",
   "pygments_lexer": "ipython3",
   "version": "3.7.3"
  }
 },
 "nbformat": 4,
 "nbformat_minor": 2
}
